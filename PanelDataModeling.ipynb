{
 "cells": [
  {
   "cell_type": "markdown",
   "metadata": {},
   "source": [
    "## Contents\n",
    "0. Import Libraries and Load Data\n",
    "1. Data Preparation for PanelData Model\n",
    "2. Bassic Panel Model\n",
    "    - PooledOLS model\n",
    "    - RandomEffects model\n",
    "    - BetweenOLS model\n",
    "3. Testing correlated effects\n",
    "    - Testing for Fixed Effects\n",
    "    - Testing for Time Effects\n",
    "    - First Differences\n",
    "4. Comparison\n",
    "    - Comparing between modelBetween, modelRE and modelPooled models\n",
    "    - Comparing between Robust, Entity and Entity-Time mothods\n",
    "    \n",
    "5. Instruments as lags of order 1 and 2 of first differences\n",
    "    - Campute the lags of order 1 and 2 of first differences\n",
    "6. Linear Instrumental-Variables Regression\n",
    "    - 2SLS as OLS\n",
    "    - IV 2SLS\n",
    "    - Tests\n",
    "        - Sargan test: Testing the absence of correlation between Z and U\n",
    "        - Testing the correlation of Z and X_endog\n",
    "        - Endogeneity testing using `Durbin's and Wu-Hausman test of exogeneity\n",
    "        - Augmented test for testing the exogeneity `log_fare`\n",
    "        - Instrumenting using two-stage least squares\n",
    "        - Homoskedasticity – Heteroskedasticity\n",
    "            - Breusch–Pagan test\n",
    "            - White test\n",
    "7. GMM Estimation\n",
    "8.1. Exogeneity test using the augmented regression approach\n",
    "8.2. Testing Autocorrelation\n",
    "9. Feasible Generalized Least Squares (GLS) and GLSA model\n",
    "10. References  "
   ]
  },
  {
   "cell_type": "code",
   "execution_count": 1,
   "metadata": {},
   "outputs": [],
   "source": [
    "# Importning libraries\n",
    "import pandas as pd\n",
    "import numpy as np\n",
    "\n",
    "import matplotlib.pyplot as plt\n",
    "import seaborn as sns\n",
    "import matplotlib.animation as animation\n",
    "\n",
    "import glob\n",
    "from glob import iglob\n",
    "import datetime as dt\n",
    "\n",
    "import statsmodels.api as sm\n",
    "import statsmodels.formula.api as smf\n",
    "import statsmodels.stats.api as sms\n",
    "\n",
    "from linearmodels import PanelOLS, PooledOLS, BetweenOLS, RandomEffects, FirstDifferenceOLS\n",
    "from statsmodels.stats.outliers_influence import variance_inflation_factor, OLSInfluence\n",
    "\n",
    "%matplotlib inline"
   ]
  },
  {
   "cell_type": "code",
   "execution_count": 2,
   "metadata": {},
   "outputs": [
    {
     "data": {
      "text/html": [
       "<div>\n",
       "<style scoped>\n",
       "    .dataframe tbody tr th:only-of-type {\n",
       "        vertical-align: middle;\n",
       "    }\n",
       "\n",
       "    .dataframe tbody tr th {\n",
       "        vertical-align: top;\n",
       "    }\n",
       "\n",
       "    .dataframe thead th {\n",
       "        text-align: right;\n",
       "    }\n",
       "</style>\n",
       "<table border=\"1\" class=\"dataframe\">\n",
       "  <thead>\n",
       "    <tr style=\"text-align: right;\">\n",
       "      <th></th>\n",
       "      <th>quarter</th>\n",
       "      <th>citymarket1_id</th>\n",
       "      <th>citymarket2_id</th>\n",
       "      <th>city1_name</th>\n",
       "      <th>city2_name</th>\n",
       "      <th>nsmiles</th>\n",
       "      <th>passengers</th>\n",
       "      <th>fare</th>\n",
       "      <th>latitude_city1</th>\n",
       "      <th>longitude_city1</th>\n",
       "      <th>...</th>\n",
       "      <th>dum_q3</th>\n",
       "      <th>dum_q4</th>\n",
       "      <th>dum_dist</th>\n",
       "      <th>log_passengers</th>\n",
       "      <th>log_nsmiles</th>\n",
       "      <th>log_fare</th>\n",
       "      <th>log_income</th>\n",
       "      <th>log_income_capita</th>\n",
       "      <th>log_population</th>\n",
       "      <th>log_kjf_price</th>\n",
       "    </tr>\n",
       "  </thead>\n",
       "  <tbody>\n",
       "    <tr>\n",
       "      <th>13</th>\n",
       "      <td>2010Q1</td>\n",
       "      <td>30135</td>\n",
       "      <td>30194</td>\n",
       "      <td>Allentown/Bethlehem/Easton</td>\n",
       "      <td>Dallas/Fort Worth</td>\n",
       "      <td>1308</td>\n",
       "      <td>28</td>\n",
       "      <td>214.94</td>\n",
       "      <td>40.602753</td>\n",
       "      <td>-75.469759</td>\n",
       "      <td>...</td>\n",
       "      <td>0</td>\n",
       "      <td>0</td>\n",
       "      <td>0</td>\n",
       "      <td>3.332205</td>\n",
       "      <td>7.176255</td>\n",
       "      <td>5.370359</td>\n",
       "      <td>13.499864</td>\n",
       "      <td>10.576317</td>\n",
       "      <td>16.754431</td>\n",
       "      <td>5.371878</td>\n",
       "    </tr>\n",
       "    <tr>\n",
       "      <th>3041</th>\n",
       "      <td>2010Q2</td>\n",
       "      <td>30135</td>\n",
       "      <td>30194</td>\n",
       "      <td>Allentown/Bethlehem/Easton</td>\n",
       "      <td>Dallas/Fort Worth</td>\n",
       "      <td>1308</td>\n",
       "      <td>42</td>\n",
       "      <td>235.15</td>\n",
       "      <td>40.602753</td>\n",
       "      <td>-75.469759</td>\n",
       "      <td>...</td>\n",
       "      <td>0</td>\n",
       "      <td>0</td>\n",
       "      <td>0</td>\n",
       "      <td>3.737670</td>\n",
       "      <td>7.176255</td>\n",
       "      <td>5.460224</td>\n",
       "      <td>13.520416</td>\n",
       "      <td>10.594457</td>\n",
       "      <td>16.757335</td>\n",
       "      <td>5.428614</td>\n",
       "    </tr>\n",
       "    <tr>\n",
       "      <th>9461</th>\n",
       "      <td>2010Q4</td>\n",
       "      <td>30135</td>\n",
       "      <td>30194</td>\n",
       "      <td>Allentown/Bethlehem/Easton</td>\n",
       "      <td>Dallas/Fort Worth</td>\n",
       "      <td>1308</td>\n",
       "      <td>64</td>\n",
       "      <td>189.38</td>\n",
       "      <td>40.602753</td>\n",
       "      <td>-75.469759</td>\n",
       "      <td>...</td>\n",
       "      <td>0</td>\n",
       "      <td>1</td>\n",
       "      <td>0</td>\n",
       "      <td>4.158883</td>\n",
       "      <td>7.176255</td>\n",
       "      <td>5.243756</td>\n",
       "      <td>13.553289</td>\n",
       "      <td>10.620949</td>\n",
       "      <td>16.763388</td>\n",
       "      <td>5.497988</td>\n",
       "    </tr>\n",
       "    <tr>\n",
       "      <th>18904</th>\n",
       "      <td>2011Q3</td>\n",
       "      <td>30135</td>\n",
       "      <td>30194</td>\n",
       "      <td>Allentown/Bethlehem/Easton</td>\n",
       "      <td>Dallas/Fort Worth</td>\n",
       "      <td>1307</td>\n",
       "      <td>47</td>\n",
       "      <td>243.50</td>\n",
       "      <td>40.602753</td>\n",
       "      <td>-75.469759</td>\n",
       "      <td>...</td>\n",
       "      <td>1</td>\n",
       "      <td>0</td>\n",
       "      <td>0</td>\n",
       "      <td>3.850148</td>\n",
       "      <td>7.175490</td>\n",
       "      <td>5.495117</td>\n",
       "      <td>13.614625</td>\n",
       "      <td>10.669920</td>\n",
       "      <td>16.771834</td>\n",
       "      <td>5.748118</td>\n",
       "    </tr>\n",
       "    <tr>\n",
       "      <th>28355</th>\n",
       "      <td>2012Q2</td>\n",
       "      <td>30135</td>\n",
       "      <td>30194</td>\n",
       "      <td>Allentown/Bethlehem/Easton</td>\n",
       "      <td>Dallas/Fort Worth</td>\n",
       "      <td>1307</td>\n",
       "      <td>39</td>\n",
       "      <td>275.34</td>\n",
       "      <td>40.602753</td>\n",
       "      <td>-75.469759</td>\n",
       "      <td>...</td>\n",
       "      <td>0</td>\n",
       "      <td>0</td>\n",
       "      <td>0</td>\n",
       "      <td>3.663562</td>\n",
       "      <td>7.175490</td>\n",
       "      <td>5.618007</td>\n",
       "      <td>13.660492</td>\n",
       "      <td>10.704951</td>\n",
       "      <td>16.780740</td>\n",
       "      <td>5.732370</td>\n",
       "    </tr>\n",
       "  </tbody>\n",
       "</table>\n",
       "<p>5 rows × 34 columns</p>\n",
       "</div>"
      ],
      "text/plain": [
       "      quarter  citymarket1_id  citymarket2_id                  city1_name  \\\n",
       "13     2010Q1           30135           30194  Allentown/Bethlehem/Easton   \n",
       "3041   2010Q2           30135           30194  Allentown/Bethlehem/Easton   \n",
       "9461   2010Q4           30135           30194  Allentown/Bethlehem/Easton   \n",
       "18904  2011Q3           30135           30194  Allentown/Bethlehem/Easton   \n",
       "28355  2012Q2           30135           30194  Allentown/Bethlehem/Easton   \n",
       "\n",
       "              city2_name  nsmiles  passengers    fare  latitude_city1  \\\n",
       "13     Dallas/Fort Worth     1308          28  214.94       40.602753   \n",
       "3041   Dallas/Fort Worth     1308          42  235.15       40.602753   \n",
       "9461   Dallas/Fort Worth     1308          64  189.38       40.602753   \n",
       "18904  Dallas/Fort Worth     1307          47  243.50       40.602753   \n",
       "28355  Dallas/Fort Worth     1307          39  275.34       40.602753   \n",
       "\n",
       "       longitude_city1  ...  dum_q3  dum_q4 dum_dist log_passengers  \\\n",
       "13          -75.469759  ...       0       0        0       3.332205   \n",
       "3041        -75.469759  ...       0       0        0       3.737670   \n",
       "9461        -75.469759  ...       0       1        0       4.158883   \n",
       "18904       -75.469759  ...       1       0        0       3.850148   \n",
       "28355       -75.469759  ...       0       0        0       3.663562   \n",
       "\n",
       "      log_nsmiles  log_fare  log_income  log_income_capita  log_population  \\\n",
       "13       7.176255  5.370359   13.499864          10.576317       16.754431   \n",
       "3041     7.176255  5.460224   13.520416          10.594457       16.757335   \n",
       "9461     7.176255  5.243756   13.553289          10.620949       16.763388   \n",
       "18904    7.175490  5.495117   13.614625          10.669920       16.771834   \n",
       "28355    7.175490  5.618007   13.660492          10.704951       16.780740   \n",
       "\n",
       "       log_kjf_price  \n",
       "13          5.371878  \n",
       "3041        5.428614  \n",
       "9461        5.497988  \n",
       "18904       5.748118  \n",
       "28355       5.732370  \n",
       "\n",
       "[5 rows x 34 columns]"
      ]
     },
     "execution_count": 2,
     "metadata": {},
     "output_type": "execute_result"
    }
   ],
   "source": [
    "path = '../notebooks/final_database.csv'\n",
    "df = pd.read_csv(path, decimal='.', sep=',')\n",
    "\n",
    "df['quarter'] = pd.to_datetime(df.quarter).dt.to_period('Q-DEC')\n",
    "df.sort_values(['citymarket1_id', 'citymarket2_id','quarter'], inplace=True)\n",
    "\n",
    "df.head()"
   ]
  },
  {
   "cell_type": "markdown",
   "metadata": {},
   "source": [
    "## Preparing the `PanelData` \n",
    "- To use the data as `PanelData`, we need:\n",
    "    - to campute a dummies variable for each period (quarter, in our case),\n",
    "    - to identify the ID variable and the time variable, and then to set them in index,\n",
    "    - to sort the data to respect to the `ID`and the `period`.\n",
    "    \n",
    "- As the `Within` and the `First Difference` (respectively the `Second Difference`) estimators require at least 2 (respectively 4) observations per individual, we will delete the lines with only one, two and tree observations in the dataset.\n",
    "- To do so, we will first campute the frequency of the `city market` in each quarter (here: number of quarter by city market) and then keep only the those are present in that dataset `at least 4 times`."
   ]
  },
  {
   "cell_type": "code",
   "execution_count": 3,
   "metadata": {},
   "outputs": [
    {
     "name": "stdout",
     "output_type": "stream",
     "text": [
      "panel0_df has 101236 observations and 12 variables\n"
     ]
    }
   ],
   "source": [
    "variables = ['log_passengers','log_nsmiles','log_fare','nb_airline','log_income_capita','log_population',\n",
    "             'log_kjf_price','dum_dist' ,'dum_q1','dum_q2','dum_q3','dum_q4']\n",
    "\n",
    "df['citymarket_id'] = df.citymarket1_id.astype(str)+'_'+df.citymarket2_id.astype(str)\n",
    "df['quarter_index'] = (df.quarter.dt.year.astype(str)+df.quarter.dt.quarter.astype(str)).astype(int)\n",
    "\n",
    "panel0_df = df[['citymarket_id','quarter_index', 'quarter']+variables].copy()\n",
    "panel0_df.sort_values(['citymarket_id','quarter_index'], inplace=True)\n",
    "print('panel0_df has {} observations and {} variables'.format(panel0_df.shape[0], panel0_df[variables].shape[1]))"
   ]
  },
  {
   "cell_type": "code",
   "execution_count": 4,
   "metadata": {},
   "outputs": [
    {
     "data": {
      "text/html": [
       "<div>\n",
       "<style scoped>\n",
       "    .dataframe tbody tr th:only-of-type {\n",
       "        vertical-align: middle;\n",
       "    }\n",
       "\n",
       "    .dataframe tbody tr th {\n",
       "        vertical-align: top;\n",
       "    }\n",
       "\n",
       "    .dataframe thead th {\n",
       "        text-align: right;\n",
       "    }\n",
       "</style>\n",
       "<table border=\"1\" class=\"dataframe\">\n",
       "  <thead>\n",
       "    <tr style=\"text-align: right;\">\n",
       "      <th></th>\n",
       "      <th>citymarket_id</th>\n",
       "      <th>quarter_index</th>\n",
       "      <th>quarter</th>\n",
       "      <th>log_passengers</th>\n",
       "      <th>log_nsmiles</th>\n",
       "      <th>log_fare</th>\n",
       "      <th>nb_airline</th>\n",
       "      <th>log_income_capita</th>\n",
       "      <th>log_population</th>\n",
       "      <th>log_kjf_price</th>\n",
       "      <th>dum_dist</th>\n",
       "      <th>dum_q1</th>\n",
       "      <th>dum_q2</th>\n",
       "      <th>dum_q3</th>\n",
       "      <th>dum_q4</th>\n",
       "    </tr>\n",
       "  </thead>\n",
       "  <tbody>\n",
       "    <tr>\n",
       "      <th>13</th>\n",
       "      <td>30135_30194</td>\n",
       "      <td>20101</td>\n",
       "      <td>2010Q1</td>\n",
       "      <td>3.332205</td>\n",
       "      <td>7.176255</td>\n",
       "      <td>5.370359</td>\n",
       "      <td>2</td>\n",
       "      <td>10.576317</td>\n",
       "      <td>16.754431</td>\n",
       "      <td>5.371878</td>\n",
       "      <td>0</td>\n",
       "      <td>1</td>\n",
       "      <td>0</td>\n",
       "      <td>0</td>\n",
       "      <td>0</td>\n",
       "    </tr>\n",
       "    <tr>\n",
       "      <th>3041</th>\n",
       "      <td>30135_30194</td>\n",
       "      <td>20102</td>\n",
       "      <td>2010Q2</td>\n",
       "      <td>3.737670</td>\n",
       "      <td>7.176255</td>\n",
       "      <td>5.460224</td>\n",
       "      <td>1</td>\n",
       "      <td>10.594457</td>\n",
       "      <td>16.757335</td>\n",
       "      <td>5.428614</td>\n",
       "      <td>0</td>\n",
       "      <td>0</td>\n",
       "      <td>1</td>\n",
       "      <td>0</td>\n",
       "      <td>0</td>\n",
       "    </tr>\n",
       "    <tr>\n",
       "      <th>9461</th>\n",
       "      <td>30135_30194</td>\n",
       "      <td>20104</td>\n",
       "      <td>2010Q4</td>\n",
       "      <td>4.158883</td>\n",
       "      <td>7.176255</td>\n",
       "      <td>5.243756</td>\n",
       "      <td>1</td>\n",
       "      <td>10.620949</td>\n",
       "      <td>16.763388</td>\n",
       "      <td>5.497988</td>\n",
       "      <td>0</td>\n",
       "      <td>0</td>\n",
       "      <td>0</td>\n",
       "      <td>0</td>\n",
       "      <td>1</td>\n",
       "    </tr>\n",
       "    <tr>\n",
       "      <th>18904</th>\n",
       "      <td>30135_30194</td>\n",
       "      <td>20113</td>\n",
       "      <td>2011Q3</td>\n",
       "      <td>3.850148</td>\n",
       "      <td>7.175490</td>\n",
       "      <td>5.495117</td>\n",
       "      <td>1</td>\n",
       "      <td>10.669920</td>\n",
       "      <td>16.771834</td>\n",
       "      <td>5.748118</td>\n",
       "      <td>0</td>\n",
       "      <td>0</td>\n",
       "      <td>0</td>\n",
       "      <td>1</td>\n",
       "      <td>0</td>\n",
       "    </tr>\n",
       "    <tr>\n",
       "      <th>28355</th>\n",
       "      <td>30135_30194</td>\n",
       "      <td>20122</td>\n",
       "      <td>2012Q2</td>\n",
       "      <td>3.663562</td>\n",
       "      <td>7.175490</td>\n",
       "      <td>5.618007</td>\n",
       "      <td>2</td>\n",
       "      <td>10.704951</td>\n",
       "      <td>16.780740</td>\n",
       "      <td>5.732370</td>\n",
       "      <td>0</td>\n",
       "      <td>0</td>\n",
       "      <td>1</td>\n",
       "      <td>0</td>\n",
       "      <td>0</td>\n",
       "    </tr>\n",
       "  </tbody>\n",
       "</table>\n",
       "</div>"
      ],
      "text/plain": [
       "      citymarket_id  quarter_index quarter  log_passengers  log_nsmiles  \\\n",
       "13      30135_30194          20101  2010Q1        3.332205     7.176255   \n",
       "3041    30135_30194          20102  2010Q2        3.737670     7.176255   \n",
       "9461    30135_30194          20104  2010Q4        4.158883     7.176255   \n",
       "18904   30135_30194          20113  2011Q3        3.850148     7.175490   \n",
       "28355   30135_30194          20122  2012Q2        3.663562     7.175490   \n",
       "\n",
       "       log_fare  nb_airline  log_income_capita  log_population  log_kjf_price  \\\n",
       "13     5.370359           2          10.576317       16.754431       5.371878   \n",
       "3041   5.460224           1          10.594457       16.757335       5.428614   \n",
       "9461   5.243756           1          10.620949       16.763388       5.497988   \n",
       "18904  5.495117           1          10.669920       16.771834       5.748118   \n",
       "28355  5.618007           2          10.704951       16.780740       5.732370   \n",
       "\n",
       "       dum_dist  dum_q1  dum_q2  dum_q3  dum_q4  \n",
       "13            0       1       0       0       0  \n",
       "3041          0       0       1       0       0  \n",
       "9461          0       0       0       0       1  \n",
       "18904         0       0       0       1       0  \n",
       "28355         0       0       1       0       0  "
      ]
     },
     "execution_count": 4,
     "metadata": {},
     "output_type": "execute_result"
    }
   ],
   "source": [
    "# Reset the index in order to campute the number of quarter by city market\n",
    "# panel0_df.reset_index(inplace=True)\n",
    "\n",
    "# Compute the dummies variables of quarter\n",
    "panel0_df['quarter'] = pd.Categorical(panel0_df.quarter)\n",
    "\n",
    "panel0_df.head()"
   ]
  },
  {
   "cell_type": "code",
   "execution_count": 5,
   "metadata": {},
   "outputs": [
    {
     "name": "stdout",
     "output_type": "stream",
     "text": [
      "We delete 2563 city-markets(lines) which didn't present at least 4 times in a given querter.\n",
      "So now, we have '98673' obserations in our dataset which will be used to camput the first and second differences.\n",
      "\n",
      "We have 4578 uniques city-pair  markets and 33 periods on our dataset\n"
     ]
    }
   ],
   "source": [
    "# Campute and save the number of quarter by city market\n",
    "nb_cm = panel0_df[['citymarket_id', 'quarter']].groupby(['citymarket_id']).nunique()\n",
    "nb_cm.drop('citymarket_id', axis=1, inplace=True)\n",
    "\n",
    "# Reset the index and rename the columns in order to merge the two datasets\n",
    "nb_cm.reset_index(inplace=True)\n",
    "nb_cm.columns = ['citymarket_id','nb_citymarket']\n",
    "\n",
    "# Merging and dropping the no needed rows\n",
    "panel1_df = pd.merge(panel0_df, nb_cm, on=['citymarket_id'], how='inner')\n",
    "panel1_df = panel1_df[panel1_df.nb_citymarket>=4]\n",
    "panel1_df.drop('nb_citymarket', axis=1, inplace=True)\n",
    "\n",
    "print(\"We delete {} city-markets(lines) which didn't present at least 4 times in a given querter.\".format(panel0_df.shape[0]-panel1_df.shape[0]))\n",
    "print(\"So now, we have '{}' obserations in our dataset which will be used to camput the first and second differences.\\n\".format(panel1_df.shape[0]))\n",
    "\n",
    "print('We have {} uniques city-pair  markets and {} periods on our dataset'.format(panel1_df.citymarket_id.nunique(),\n",
    "                                                                                    panel1_df.quarter.nunique()))"
   ]
  },
  {
   "cell_type": "code",
   "execution_count": 6,
   "metadata": {},
   "outputs": [
    {
     "data": {
      "text/html": [
       "<div>\n",
       "<style scoped>\n",
       "    .dataframe tbody tr th:only-of-type {\n",
       "        vertical-align: middle;\n",
       "    }\n",
       "\n",
       "    .dataframe tbody tr th {\n",
       "        vertical-align: top;\n",
       "    }\n",
       "\n",
       "    .dataframe thead th {\n",
       "        text-align: right;\n",
       "    }\n",
       "</style>\n",
       "<table border=\"1\" class=\"dataframe\">\n",
       "  <thead>\n",
       "    <tr style=\"text-align: right;\">\n",
       "      <th></th>\n",
       "      <th>citymarket_id</th>\n",
       "      <th>ID</th>\n",
       "      <th>quarter_index</th>\n",
       "      <th>quarter</th>\n",
       "      <th>log_passengers</th>\n",
       "      <th>log_nsmiles</th>\n",
       "      <th>log_fare</th>\n",
       "      <th>nb_airline</th>\n",
       "      <th>log_income_capita</th>\n",
       "      <th>log_population</th>\n",
       "      <th>log_kjf_price</th>\n",
       "      <th>dum_dist</th>\n",
       "      <th>dum_q1</th>\n",
       "      <th>dum_q2</th>\n",
       "      <th>dum_q3</th>\n",
       "      <th>dum_q4</th>\n",
       "    </tr>\n",
       "  </thead>\n",
       "  <tbody>\n",
       "    <tr>\n",
       "      <th>0</th>\n",
       "      <td>30135_30194</td>\n",
       "      <td>1</td>\n",
       "      <td>20101</td>\n",
       "      <td>2010Q1</td>\n",
       "      <td>3.332205</td>\n",
       "      <td>7.176255</td>\n",
       "      <td>5.370359</td>\n",
       "      <td>2</td>\n",
       "      <td>10.576317</td>\n",
       "      <td>16.754431</td>\n",
       "      <td>5.371878</td>\n",
       "      <td>0</td>\n",
       "      <td>1</td>\n",
       "      <td>0</td>\n",
       "      <td>0</td>\n",
       "      <td>0</td>\n",
       "    </tr>\n",
       "    <tr>\n",
       "      <th>1</th>\n",
       "      <td>30135_30194</td>\n",
       "      <td>1</td>\n",
       "      <td>20102</td>\n",
       "      <td>2010Q2</td>\n",
       "      <td>3.737670</td>\n",
       "      <td>7.176255</td>\n",
       "      <td>5.460224</td>\n",
       "      <td>1</td>\n",
       "      <td>10.594457</td>\n",
       "      <td>16.757335</td>\n",
       "      <td>5.428614</td>\n",
       "      <td>0</td>\n",
       "      <td>0</td>\n",
       "      <td>1</td>\n",
       "      <td>0</td>\n",
       "      <td>0</td>\n",
       "    </tr>\n",
       "    <tr>\n",
       "      <th>2</th>\n",
       "      <td>30135_30194</td>\n",
       "      <td>1</td>\n",
       "      <td>20104</td>\n",
       "      <td>2010Q4</td>\n",
       "      <td>4.158883</td>\n",
       "      <td>7.176255</td>\n",
       "      <td>5.243756</td>\n",
       "      <td>1</td>\n",
       "      <td>10.620949</td>\n",
       "      <td>16.763388</td>\n",
       "      <td>5.497988</td>\n",
       "      <td>0</td>\n",
       "      <td>0</td>\n",
       "      <td>0</td>\n",
       "      <td>0</td>\n",
       "      <td>1</td>\n",
       "    </tr>\n",
       "    <tr>\n",
       "      <th>3</th>\n",
       "      <td>30135_30194</td>\n",
       "      <td>1</td>\n",
       "      <td>20113</td>\n",
       "      <td>2011Q3</td>\n",
       "      <td>3.850148</td>\n",
       "      <td>7.175490</td>\n",
       "      <td>5.495117</td>\n",
       "      <td>1</td>\n",
       "      <td>10.669920</td>\n",
       "      <td>16.771834</td>\n",
       "      <td>5.748118</td>\n",
       "      <td>0</td>\n",
       "      <td>0</td>\n",
       "      <td>0</td>\n",
       "      <td>1</td>\n",
       "      <td>0</td>\n",
       "    </tr>\n",
       "    <tr>\n",
       "      <th>4</th>\n",
       "      <td>30135_30194</td>\n",
       "      <td>1</td>\n",
       "      <td>20122</td>\n",
       "      <td>2012Q2</td>\n",
       "      <td>3.663562</td>\n",
       "      <td>7.175490</td>\n",
       "      <td>5.618007</td>\n",
       "      <td>2</td>\n",
       "      <td>10.704951</td>\n",
       "      <td>16.780740</td>\n",
       "      <td>5.732370</td>\n",
       "      <td>0</td>\n",
       "      <td>0</td>\n",
       "      <td>1</td>\n",
       "      <td>0</td>\n",
       "      <td>0</td>\n",
       "    </tr>\n",
       "  </tbody>\n",
       "</table>\n",
       "</div>"
      ],
      "text/plain": [
       "  citymarket_id  ID  quarter_index quarter  log_passengers  log_nsmiles  \\\n",
       "0   30135_30194   1          20101  2010Q1        3.332205     7.176255   \n",
       "1   30135_30194   1          20102  2010Q2        3.737670     7.176255   \n",
       "2   30135_30194   1          20104  2010Q4        4.158883     7.176255   \n",
       "3   30135_30194   1          20113  2011Q3        3.850148     7.175490   \n",
       "4   30135_30194   1          20122  2012Q2        3.663562     7.175490   \n",
       "\n",
       "   log_fare  nb_airline  log_income_capita  log_population  log_kjf_price  \\\n",
       "0  5.370359           2          10.576317       16.754431       5.371878   \n",
       "1  5.460224           1          10.594457       16.757335       5.428614   \n",
       "2  5.243756           1          10.620949       16.763388       5.497988   \n",
       "3  5.495117           1          10.669920       16.771834       5.748118   \n",
       "4  5.618007           2          10.704951       16.780740       5.732370   \n",
       "\n",
       "   dum_dist  dum_q1  dum_q2  dum_q3  dum_q4  \n",
       "0         0       1       0       0       0  \n",
       "1         0       0       1       0       0  \n",
       "2         0       0       0       0       1  \n",
       "3         0       0       0       1       0  \n",
       "4         0       0       1       0       0  "
      ]
     },
     "execution_count": 6,
     "metadata": {},
     "output_type": "execute_result"
    }
   ],
   "source": [
    "# Assign the city-market ID a new variable name `ID`\n",
    "iden = panel1_df[['citymarket_id', 'quarter']].groupby(['citymarket_id']).nunique()\n",
    "iden['ID'] = range(1, iden.shape[0]+1)\n",
    "iden.drop('citymarket_id', axis=1, inplace=True)\n",
    "iden.reset_index(inplace=True)\n",
    "iden = iden[['citymarket_id', 'ID']]\n",
    "panel1_df = pd.merge(iden, panel0_df, on=['citymarket_id'], how='inner')\n",
    "\n",
    "panel1_df.head()"
   ]
  },
  {
   "cell_type": "code",
   "execution_count": 7,
   "metadata": {},
   "outputs": [
    {
     "data": {
      "text/plain": [
       "(4578, 98673)"
      ]
     },
     "execution_count": 7,
     "metadata": {},
     "output_type": "execute_result"
    }
   ],
   "source": [
    "panel1_df.citymarket_id.nunique(), panel1_df.citymarket_id.count()"
   ]
  },
  {
   "cell_type": "code",
   "execution_count": 8,
   "metadata": {},
   "outputs": [
    {
     "name": "stdout",
     "output_type": "stream",
     "text": [
      "<class 'pandas.core.frame.DataFrame'>\n",
      "Int64Index: 98673 entries, 0 to 98672\n",
      "Data columns (total 16 columns):\n",
      "citymarket_id        98673 non-null object\n",
      "ID                   98673 non-null int64\n",
      "quarter_index        98673 non-null int64\n",
      "quarter              98673 non-null category\n",
      "log_passengers       98673 non-null float64\n",
      "log_nsmiles          98673 non-null float64\n",
      "log_fare             98673 non-null float64\n",
      "nb_airline           98673 non-null int64\n",
      "log_income_capita    98673 non-null float64\n",
      "log_population       98673 non-null float64\n",
      "log_kjf_price        98673 non-null float64\n",
      "dum_dist             98673 non-null int64\n",
      "dum_q1               98673 non-null int64\n",
      "dum_q2               98673 non-null int64\n",
      "dum_q3               98673 non-null int64\n",
      "dum_q4               98673 non-null int64\n",
      "dtypes: category(1), float64(6), int64(8), object(1)\n",
      "memory usage: 12.1+ MB\n"
     ]
    }
   ],
   "source": [
    "panel1_df.info()"
   ]
  },
  {
   "cell_type": "code",
   "execution_count": 9,
   "metadata": {},
   "outputs": [
    {
     "name": "stdout",
     "output_type": "stream",
     "text": [
      "Number of city-market: 4578 \n",
      "Number of quarter: 33\n"
     ]
    }
   ],
   "source": [
    "print('Number of city-market:', panel1_df.citymarket_id.nunique(), \n",
    "      '\\nNumber of quarter:', panel1_df.quarter.nunique())"
   ]
  },
  {
   "cell_type": "markdown",
   "metadata": {},
   "source": [
    "## Basic regression\n",
    "- First, run the PooledOLS as classical OLS regression to check the structure of the data .\n",
    "- The log passengers is modeled using all independent variables and time dummies. \n",
    "- `Note` that the dummies of quarters will not used at the same time with the dummies of times\n",
    "https://bashtage.github.io/linearmodels/devel/panel/examples/examples.html"
   ]
  },
  {
   "cell_type": "code",
   "execution_count": 10,
   "metadata": {},
   "outputs": [],
   "source": [
    "# the index in order to campute the number of quarter by city market\n",
    "panel1_df.set_index(['citymarket_id','quarter_index'], inplace=True)\n"
   ]
  },
  {
   "cell_type": "markdown",
   "metadata": {},
   "source": [
    "### Parameters\n",
    "- `time_effects`: flag whether to include entity (fixed) effects in the model, if `True`\n",
    "- `time_effects`: flag whether to include time effects in the model, if `True`\n",
    "- `cov_type`:\n",
    "    - if `homoskedastic` or `unadjusted`: assume residual are homoskedastic\n",
    "    - if `heteroskedastic` or `robust`: control for heteroskedasticity using `White’s estimator`    \n",
    "- White’s robust covariance adds some robustness against certain types of specification issues. This estimator should not be used when including fixed effects (entity effects) because, no longer robust."
   ]
  },
  {
   "cell_type": "markdown",
   "metadata": {},
   "source": [
    "### 1. PooledOLS model"
   ]
  },
  {
   "cell_type": "code",
   "execution_count": 11,
   "metadata": {},
   "outputs": [
    {
     "name": "stdout",
     "output_type": "stream",
     "text": [
      "                          PanelOLS Estimation Summary                           \n",
      "================================================================================\n",
      "Dep. Variable:         log_passengers   R-squared:                        0.4885\n",
      "Estimator:                   PanelOLS   R-squared (Between):              0.5208\n",
      "No. Observations:               98673   R-squared (Within):              -1.1120\n",
      "Date:                Thu, Jan 16 2020   R-squared (Overall):              0.4885\n",
      "Time:                        17:32:32   Log-likelihood                 -1.21e+05\n",
      "Cov. Estimator:                Robust                                           \n",
      "                                        F-statistic:                      2478.5\n",
      "Entities:                        4578   P-value                           0.0000\n",
      "Avg Obs:                       21.554   Distribution:                F(38,98634)\n",
      "Min Obs:                       4.0000                                           \n",
      "Max Obs:                       33.000   F-statistic (robust):             2780.5\n",
      "                                        P-value                           0.0000\n",
      "Time periods:                      33   Distribution:                F(38,98634)\n",
      "Avg Obs:                       2990.1                                           \n",
      "Min Obs:                       2845.0                                           \n",
      "Max Obs:                       3137.0                                           \n",
      "                                                                                \n",
      "                                 Parameter Estimates                                 \n",
      "=====================================================================================\n",
      "                   Parameter  Std. Err.     T-stat    P-value    Lower CI    Upper CI\n",
      "-------------------------------------------------------------------------------------\n",
      "log_nsmiles           0.6927     0.0047     147.62     0.0000      0.6835      0.7019\n",
      "log_fare             -1.3773     0.0106    -130.50     0.0000     -1.3979     -1.3566\n",
      "nb_airline            0.3340     0.0014     237.38     0.0000      0.3313      0.3368\n",
      "log_income_capita     1.1407     0.0314     36.324     0.0000      1.0792      1.2023\n",
      "log_population        0.0673     0.0043     15.710     0.0000      0.0589      0.0757\n",
      "log_kjf_price        -1.3059     0.0585    -22.341     0.0000     -1.4204     -1.1913\n",
      "dum_dist             -0.8367     0.0343    -24.381     0.0000     -0.9040     -0.7695\n",
      "quarter.2010Q2        0.1139     0.0218     5.2218     0.0000      0.0712      0.1567\n",
      "quarter.2010Q3        0.0613     0.0218     2.8157     0.0049      0.0186      0.1040\n",
      "quarter.2010Q4        0.1286     0.0226     5.6886     0.0000      0.0843      0.1729\n",
      "quarter.2011Q1        0.3658     0.0266     13.779     0.0000      0.3138      0.4179\n",
      "quarter.2011Q2        0.6599     0.0311     21.210     0.0000      0.5989      0.7209\n",
      "quarter.2011Q3        0.6244     0.0295     21.166     0.0000      0.5666      0.6822\n",
      "quarter.2011Q4        0.5117     0.0288     17.786     0.0000      0.4553      0.5681\n",
      "quarter.2012Q1        0.5958     0.0307     19.376     0.0000      0.5355      0.6560\n",
      "quarter.2012Q2        0.6828     0.0283     24.152     0.0000      0.6273      0.7382\n",
      "quarter.2012Q3        0.6276     0.0283     22.213     0.0000      0.5722      0.6829\n",
      "quarter.2012Q4        0.5433     0.0279     19.475     0.0000      0.4886      0.5980\n",
      "quarter.2013Q1        0.6497     0.0294     22.082     0.0000      0.5920      0.7074\n",
      "quarter.2013Q2        0.5360     0.0250     21.420     0.0000      0.4869      0.5850\n",
      "quarter.2013Q3        0.5940     0.0261     22.770     0.0000      0.5429      0.6451\n",
      "quarter.2013Q4        0.4678     0.0256     18.247     0.0000      0.4176      0.5181\n",
      "quarter.2014Q1        0.4645     0.0266     17.489     0.0000      0.4125      0.5166\n",
      "quarter.2014Q2        0.5892     0.0255     23.137     0.0000      0.5393      0.6391\n",
      "quarter.2014Q3        0.5933     0.0252     23.587     0.0000      0.5440      0.6426\n",
      "quarter.2014Q4        0.2299     0.0218     10.550     0.0000      0.1872      0.2726\n",
      "quarter.2015Q1       -0.2178     0.0277    -7.8688     0.0000     -0.2720     -0.1635\n",
      "quarter.2015Q2       -0.0311     0.0255    -1.2192     0.2228     -0.0811      0.0189\n",
      "quarter.2015Q3       -0.1131     0.0297    -3.8052     0.0001     -0.1713     -0.0548\n",
      "quarter.2015Q4       -0.4428     0.0359    -12.330     0.0000     -0.5132     -0.3724\n",
      "quarter.2016Q1       -0.8005     0.0502    -15.949     0.0000     -0.8989     -0.7021\n",
      "quarter.2016Q2       -0.4829     0.0411    -11.751     0.0000     -0.5634     -0.4023\n",
      "quarter.2016Q3       -0.4193     0.0377    -11.126     0.0000     -0.4931     -0.3454\n",
      "quarter.2016Q4       -0.4406     0.0346    -12.720     0.0000     -0.5085     -0.3727\n",
      "quarter.2017Q1       -0.3255     0.0315    -10.322     0.0000     -0.3873     -0.2637\n",
      "quarter.2017Q2       -0.3064     0.0345    -8.8922     0.0000     -0.3739     -0.2388\n",
      "quarter.2017Q3       -0.2743     0.0322    -8.5239     0.0000     -0.3373     -0.2112\n",
      "quarter.2017Q4       -0.1519     0.0273    -5.5663     0.0000     -0.2053     -0.0984\n",
      "quarter.2018Q1       -0.0425     0.0249    -1.7060     0.0880     -0.0914      0.0063\n",
      "=====================================================================================\n",
      "\n",
      "\n"
     ]
    }
   ],
   "source": [
    "# Identifying the regressors. Note that the `quarter` is the time dummies \n",
    "regressors = ['log_nsmiles','log_fare','nb_airline','log_income_capita','log_population','log_kjf_price','dum_dist','quarter']\n",
    "\n",
    "modelPooled = PanelOLS(panel1_df.log_passengers, panel1_df[regressors], \n",
    "                       entity_effects=False, time_effects=False, other_effects=None)\n",
    "modelPooled = modelPooled.fit(cov_type='robust')\n",
    "print(modelPooled)"
   ]
  },
  {
   "cell_type": "code",
   "execution_count": 12,
   "metadata": {},
   "outputs": [
    {
     "data": {
      "text/plain": [
       "Irrelevant test statistic\n",
       "Model has no effects\n",
       "Pooled F-stat\n",
       "InapplicableTestStatistic, id: 0x1c257f0a20"
      ]
     },
     "execution_count": 12,
     "metadata": {},
     "output_type": "execute_result"
    }
   ],
   "source": [
    "modelPooled.f_pooled"
   ]
  },
  {
   "cell_type": "code",
   "execution_count": 13,
   "metadata": {},
   "outputs": [
    {
     "data": {
      "text/plain": [
       "mean        21.553735\n",
       "median      24.000000\n",
       "max         33.000000\n",
       "min          4.000000\n",
       "total     4578.000000\n",
       "Name: Observations per entity, dtype: float64"
      ]
     },
     "execution_count": 13,
     "metadata": {},
     "output_type": "execute_result"
    }
   ],
   "source": [
    "modelPooled.entity_info"
   ]
  },
  {
   "cell_type": "code",
   "execution_count": 14,
   "metadata": {},
   "outputs": [
    {
     "data": {
      "text/plain": [
       "Model F-statistic (homoskedastic)\n",
       "H0: All parameters ex. constant not zero\n",
       "Statistic: 2478.5311\n",
       "P-value: 0.0000\n",
       "Distributed: F(38,98634)\n",
       "WaldTestStatistic, id: 0x1c25947978"
      ]
     },
     "execution_count": 14,
     "metadata": {},
     "output_type": "execute_result"
    }
   ],
   "source": [
    "modelPooled.f_statistic"
   ]
  },
  {
   "cell_type": "code",
   "execution_count": 15,
   "metadata": {},
   "outputs": [
    {
     "data": {
      "text/plain": [
       "Model F-statistic (robust)\n",
       "H0: All parameters ex. constant not zero\n",
       "Statistic: 2780.4962\n",
       "P-value: 0.0000\n",
       "Distributed: F(38,98634)\n",
       "WaldTestStatistic, id: 0x1c28fd5ef0"
      ]
     },
     "execution_count": 15,
     "metadata": {},
     "output_type": "execute_result"
    }
   ],
   "source": [
    "modelPooled.f_statistic_robust"
   ]
  },
  {
   "cell_type": "code",
   "execution_count": 16,
   "metadata": {},
   "outputs": [
    {
     "data": {
      "text/plain": [
       "Effects                   0.000000\n",
       "Residual                  0.679835\n",
       "Percent due to Effects    0.000000\n",
       "Name: Variance Decomposition, dtype: float64"
      ]
     },
     "execution_count": 16,
     "metadata": {},
     "output_type": "execute_result"
    }
   ],
   "source": [
    "modelPooled.variance_decomposition"
   ]
  },
  {
   "cell_type": "code",
   "execution_count": 17,
   "metadata": {},
   "outputs": [
    {
     "data": {
      "text/plain": [
       "'modelRE.f_statistic\\nmodelRE.f_statistic_robust\\nmodelRE.variance_decomposition'"
      ]
     },
     "execution_count": 17,
     "metadata": {},
     "output_type": "execute_result"
    }
   ],
   "source": [
    "\"\"\"modelRE.f_statistic\n",
    "modelRE.f_statistic_robust\n",
    "modelRE.variance_decomposition\"\"\""
   ]
  },
  {
   "cell_type": "markdown",
   "metadata": {},
   "source": [
    "### 2. RandomEffects model"
   ]
  },
  {
   "cell_type": "code",
   "execution_count": 18,
   "metadata": {},
   "outputs": [
    {
     "name": "stdout",
     "output_type": "stream",
     "text": [
      "                        RandomEffects Estimation Summary                        \n",
      "================================================================================\n",
      "Dep. Variable:         log_passengers   R-squared:                        0.2337\n",
      "Estimator:              RandomEffects   R-squared (Between):              0.1783\n",
      "No. Observations:               98673   R-squared (Within):               0.2486\n",
      "Date:                Thu, Jan 16 2020   R-squared (Overall):              0.1187\n",
      "Time:                        17:32:33   Log-likelihood                    3303.8\n",
      "Cov. Estimator:                Robust                                           \n",
      "                                        F-statistic:                      791.38\n",
      "Entities:                        4578   P-value                           0.0000\n",
      "Avg Obs:                       21.554   Distribution:                F(38,98634)\n",
      "Min Obs:                       4.0000                                           \n",
      "Max Obs:                       33.000   F-statistic (robust):             2061.9\n",
      "                                        P-value                           0.0000\n",
      "Time periods:                      33   Distribution:                F(38,98634)\n",
      "Avg Obs:                       2990.1                                           \n",
      "Min Obs:                       2845.0                                           \n",
      "Max Obs:                       3137.0                                           \n",
      "                                                                                \n",
      "                                 Parameter Estimates                                 \n",
      "=====================================================================================\n",
      "                   Parameter  Std. Err.     T-stat    P-value    Lower CI    Upper CI\n",
      "-------------------------------------------------------------------------------------\n",
      "log_nsmiles           0.4263     0.0199     21.457     0.0000      0.3873      0.4652\n",
      "log_fare             -0.9840     0.0091    -108.57     0.0000     -1.0018     -0.9663\n",
      "nb_airline            0.0261     0.0007     35.975     0.0000      0.0246      0.0275\n",
      "log_income_capita     1.1200     0.0486     23.043     0.0000      1.0247      1.2152\n",
      "log_population        0.0196     0.0150     1.3088     0.1906     -0.0097      0.0489\n",
      "log_kjf_price        -1.1071     0.0987    -11.220     0.0000     -1.3005     -0.9137\n",
      "dum_dist             -0.3518     0.1583    -2.2227     0.0262     -0.6621     -0.0416\n",
      "quarter.2010Q2        0.2058     0.0083     24.677     0.0000      0.1895      0.2222\n",
      "quarter.2010Q3        0.1319     0.0072     18.304     0.0000      0.1177      0.1460\n",
      "quarter.2010Q4        0.2134     0.0128     16.724     0.0000      0.1884      0.2384\n",
      "quarter.2011Q1        0.3191     0.0253     12.633     0.0000      0.2696      0.3686\n",
      "quarter.2011Q2        0.6393     0.0380     16.805     0.0000      0.5648      0.7139\n",
      "quarter.2011Q3        0.5670     0.0344     16.464     0.0000      0.4995      0.6345\n",
      "quarter.2011Q4        0.5035     0.0327     15.379     0.0000      0.4393      0.5676\n",
      "quarter.2012Q1        0.5032     0.0372     13.542     0.0000      0.4304      0.5761\n",
      "quarter.2012Q2        0.5846     0.0314     18.638     0.0000      0.5231      0.6460\n",
      "quarter.2012Q3        0.5137     0.0310     16.566     0.0000      0.4529      0.5745\n",
      "quarter.2012Q4        0.4470     0.0300     14.877     0.0000      0.3881      0.5059\n",
      "quarter.2013Q1        0.4614     0.0337     13.684     0.0000      0.3953      0.5274\n",
      "quarter.2013Q2        0.4754     0.0231     20.564     0.0000      0.4300      0.5207\n",
      "quarter.2013Q3        0.4832     0.0262     18.448     0.0000      0.4318      0.5345\n",
      "quarter.2013Q4        0.4293     0.0247     17.385     0.0000      0.3809      0.4777\n",
      "quarter.2014Q1        0.3816     0.0264     14.478     0.0000      0.3299      0.4333\n",
      "quarter.2014Q2        0.5254     0.0247     21.277     0.0000      0.4770      0.5738\n",
      "quarter.2014Q3        0.4789     0.0235     20.422     0.0000      0.4329      0.5249\n",
      "quarter.2014Q4        0.2279     0.0093     24.536     0.0000      0.2097      0.2461\n",
      "quarter.2015Q1       -0.2060     0.0288    -7.1553     0.0000     -0.2624     -0.1496\n",
      "quarter.2015Q2       -0.0070     0.0227    -0.3076     0.7584     -0.0514      0.0375\n",
      "quarter.2015Q3       -0.1495     0.0339    -4.4144     0.0000     -0.2158     -0.0831\n",
      "quarter.2015Q4       -0.3607     0.0481    -7.5033     0.0000     -0.4549     -0.2665\n",
      "quarter.2016Q1       -0.7435     0.0756    -9.8330     0.0000     -0.8917     -0.5953\n",
      "quarter.2016Q2       -0.4219     0.0582    -7.2552     0.0000     -0.5359     -0.3079\n",
      "quarter.2016Q3       -0.3783     0.0510    -7.4121     0.0000     -0.4783     -0.2783\n",
      "quarter.2016Q4       -0.3398     0.0451    -7.5293     0.0000     -0.4282     -0.2513\n",
      "quarter.2017Q1       -0.3072     0.0377    -8.1406     0.0000     -0.3811     -0.2332\n",
      "quarter.2017Q2       -0.2445     0.0447    -5.4724     0.0000     -0.3320     -0.1569\n",
      "quarter.2017Q3       -0.2539     0.0391    -6.4872     0.0000     -0.3307     -0.1772\n",
      "quarter.2017Q4       -0.1047     0.0276    -3.7865     0.0002     -0.1588     -0.0505\n",
      "quarter.2018Q1       -0.0857     0.0200    -4.2889     0.0000     -0.1249     -0.0466\n",
      "=====================================================================================\n"
     ]
    }
   ],
   "source": [
    "# Identifying the regressors. Note that the `quarter` is the time dummies \n",
    "regressors = ['log_nsmiles','log_fare','nb_airline','log_income_capita','log_population','log_kjf_price','dum_dist', 'quarter']\n",
    "\n",
    "modelRE = RandomEffects(panel1_df.log_passengers, panel1_df[regressors])\n",
    "modelRE = modelRE.fit(cov_type='robust')\n",
    "print(modelRE)"
   ]
  },
  {
   "cell_type": "code",
   "execution_count": 19,
   "metadata": {},
   "outputs": [
    {
     "data": {
      "text/plain": [
       "Effects                   0.514189\n",
       "Residual                  0.052061\n",
       "Percent due to Effects    0.908060\n",
       "Name: Variance Decomposition, dtype: float64"
      ]
     },
     "execution_count": 19,
     "metadata": {},
     "output_type": "execute_result"
    }
   ],
   "source": [
    "modelRE.variance_decomposition"
   ]
  },
  {
   "cell_type": "code",
   "execution_count": 20,
   "metadata": {},
   "outputs": [
    {
     "data": {
      "text/html": [
       "<div>\n",
       "<style scoped>\n",
       "    .dataframe tbody tr th:only-of-type {\n",
       "        vertical-align: middle;\n",
       "    }\n",
       "\n",
       "    .dataframe tbody tr th {\n",
       "        vertical-align: top;\n",
       "    }\n",
       "\n",
       "    .dataframe thead th {\n",
       "        text-align: right;\n",
       "    }\n",
       "</style>\n",
       "<table border=\"1\" class=\"dataframe\">\n",
       "  <thead>\n",
       "    <tr style=\"text-align: right;\">\n",
       "      <th></th>\n",
       "      <th>theta</th>\n",
       "    </tr>\n",
       "    <tr>\n",
       "      <th>citymarket_id</th>\n",
       "      <th></th>\n",
       "    </tr>\n",
       "  </thead>\n",
       "  <tbody>\n",
       "    <tr>\n",
       "      <th>30135_30194</th>\n",
       "      <td>0.925211</td>\n",
       "    </tr>\n",
       "    <tr>\n",
       "      <th>30135_30198</th>\n",
       "      <td>0.871180</td>\n",
       "    </tr>\n",
       "    <tr>\n",
       "      <th>30135_30325</th>\n",
       "      <td>0.894526</td>\n",
       "    </tr>\n",
       "    <tr>\n",
       "      <th>30135_30397</th>\n",
       "      <td>0.944694</td>\n",
       "    </tr>\n",
       "    <tr>\n",
       "      <th>30135_30466</th>\n",
       "      <td>0.899883</td>\n",
       "    </tr>\n",
       "  </tbody>\n",
       "</table>\n",
       "</div>"
      ],
      "text/plain": [
       "                  theta\n",
       "citymarket_id          \n",
       "30135_30194    0.925211\n",
       "30135_30198    0.871180\n",
       "30135_30325    0.894526\n",
       "30135_30397    0.944694\n",
       "30135_30466    0.899883"
      ]
     },
     "execution_count": 20,
     "metadata": {},
     "output_type": "execute_result"
    }
   ],
   "source": [
    "modelRE.theta.head()"
   ]
  },
  {
   "cell_type": "markdown",
   "metadata": {},
   "source": [
    "### 2. BetweenOLS model\n",
    "The quarter dummies are dropped since the averaging removes differences due to the quarter. These results are broadly similar to the previous models."
   ]
  },
  {
   "cell_type": "code",
   "execution_count": 21,
   "metadata": {},
   "outputs": [
    {
     "name": "stdout",
     "output_type": "stream",
     "text": [
      "                         BetweenOLS Estimation Summary                          \n",
      "================================================================================\n",
      "Dep. Variable:         log_passengers   R-squared:                        0.5996\n",
      "Estimator:                 BetweenOLS   R-squared (Between):              0.5996\n",
      "No. Observations:                4578   R-squared (Within):              -2.6978\n",
      "Date:                Thu, Jan 16 2020   R-squared (Overall):              0.3986\n",
      "Time:                        17:32:34   Log-likelihood                   -5047.5\n",
      "Cov. Estimator:                Robust                                           \n",
      "                                        F-statistic:                      977.62\n",
      "Entities:                        4578   P-value                           0.0000\n",
      "Avg Obs:                       21.554   Distribution:                  F(7,4570)\n",
      "Min Obs:                       4.0000                                           \n",
      "Max Obs:                       33.000   F-statistic (robust):             733.95\n",
      "                                        P-value                           0.0000\n",
      "Time periods:                      33   Distribution:                  F(7,4570)\n",
      "Avg Obs:                       2990.1                                           \n",
      "Min Obs:                       2845.0                                           \n",
      "Max Obs:                       3137.0                                           \n",
      "                                                                                \n",
      "                                 Parameter Estimates                                 \n",
      "=====================================================================================\n",
      "                   Parameter  Std. Err.     T-stat    P-value    Lower CI    Upper CI\n",
      "-------------------------------------------------------------------------------------\n",
      "const                -8.4459     1.5875    -5.3204     0.0000     -11.558     -5.3337\n",
      "log_nsmiles           0.7328     0.0207     35.377     0.0000      0.6922      0.7734\n",
      "log_fare             -1.3393     0.0443    -30.239     0.0000     -1.4262     -1.2525\n",
      "nb_airline            0.4807     0.0091     52.567     0.0000      0.4628      0.4986\n",
      "log_income_capita     1.1848     0.1296     9.1432     0.0000      0.9308      1.4389\n",
      "log_population        0.0329     0.0176     1.8643     0.0623     -0.0017      0.0674\n",
      "log_kjf_price         0.1107     0.1149     0.9638     0.3352     -0.1145      0.3360\n",
      "dum_dist             -0.9375     0.1763    -5.3173     0.0000     -1.2832     -0.5919\n",
      "=====================================================================================\n"
     ]
    }
   ],
   "source": [
    "# Identifying the regressors. Note that the `quarter` is the time dummies \n",
    "panel1_df['const'] = 1\n",
    "regressors = ['const','log_nsmiles','log_fare','nb_airline','log_income_capita','log_population','log_kjf_price','dum_dist'] # , 'quarter'\n",
    "\n",
    "modelBetween = BetweenOLS(panel1_df.log_passengers, panel1_df[regressors])\n",
    "modelBetween = modelBetween.fit(cov_type='robust')\n",
    "\n",
    "print(modelBetween)"
   ]
  },
  {
   "cell_type": "markdown",
   "metadata": {},
   "source": []
  },
  {
   "cell_type": "code",
   "execution_count": null,
   "metadata": {},
   "outputs": [],
   "source": []
  },
  {
   "cell_type": "markdown",
   "metadata": {},
   "source": [
    "## Testing correlated effects\n",
    "> When effects are correlated with the regressors the RE and BE estimators are not consistent. The usual solution is to use Fixed Effects which are available in PanelOLS. Fixed effects are called entity_effects when applied to entities and time_effects when applied to the time dimension:"
   ]
  },
  {
   "cell_type": "markdown",
   "metadata": {},
   "source": [
    "### 1. Testing for Fixed Effects\n",
    "- Entity effects can be added using `entity_effects=True`. \n",
    "- Time-invariant (`dum_dist`) variable is excluded when using entity effects since it will all be 0.\n",
    "- Since the estimator is not robust, we set `cov_type='clustered'."
   ]
  },
  {
   "cell_type": "code",
   "execution_count": 22,
   "metadata": {},
   "outputs": [
    {
     "name": "stdout",
     "output_type": "stream",
     "text": [
      "                          PanelOLS Estimation Summary                           \n",
      "================================================================================\n",
      "Dep. Variable:         log_passengers   R-squared:                        0.2493\n",
      "Estimator:                   PanelOLS   R-squared (Between):              0.0204\n",
      "No. Observations:               98673   R-squared (Within):               0.2493\n",
      "Date:                Thu, Jan 16 2020   R-squared (Overall):              0.1339\n",
      "Time:                        17:32:35   Log-likelihood                    8159.0\n",
      "Cov. Estimator:             Clustered                                           \n",
      "                                        F-statistic:                      844.43\n",
      "Entities:                        4578   P-value                           0.0000\n",
      "Avg Obs:                       21.554   Distribution:                F(37,94058)\n",
      "Min Obs:                       4.0000                                           \n",
      "Max Obs:                       33.000   F-statistic (robust):             2093.5\n",
      "                                        P-value                           0.0000\n",
      "Time periods:                      33   Distribution:                F(37,94058)\n",
      "Avg Obs:                       2990.1                                           \n",
      "Min Obs:                       2845.0                                           \n",
      "Max Obs:                       3137.0                                           \n",
      "                                                                                \n",
      "                                 Parameter Estimates                                 \n",
      "=====================================================================================\n",
      "                   Parameter  Std. Err.     T-stat    P-value    Lower CI    Upper CI\n",
      "-------------------------------------------------------------------------------------\n",
      "log_nsmiles           0.8663     0.3958     2.1889     0.0286      0.0906      1.6420\n",
      "log_fare             -0.9778     0.0223    -43.847     0.0000     -1.0215     -0.9341\n",
      "nb_airline            0.0198     0.0013     15.822     0.0000      0.0173      0.0222\n",
      "log_income_capita     1.0672     0.0982     10.867     0.0000      0.8747      1.2597\n",
      "log_population       -0.0645     0.0458    -1.4077     0.1592     -0.1542      0.0253\n",
      "log_kjf_price        -1.2408     0.5368    -2.3113     0.0208     -2.2930     -0.1886\n",
      "quarter.2010Q2        0.2164     0.0304     7.1277     0.0000      0.1569      0.2759\n",
      "quarter.2010Q3        0.1355     0.0076     17.830     0.0000      0.1206      0.1504\n",
      "quarter.2010Q4        0.2345     0.0665     3.5255     0.0004      0.1041      0.3648\n",
      "quarter.2011Q1        0.3595     0.1445     2.4889     0.0128      0.0764      0.6426\n",
      "quarter.2011Q2        0.6997     0.2182     3.2072     0.0013      0.2721      1.1273\n",
      "quarter.2011Q3        0.6227     0.1995     3.1221     0.0018      0.2318      1.0136\n",
      "quarter.2011Q4        0.5584     0.1916     2.9142     0.0036      0.1828      0.9340\n",
      "quarter.2012Q1        0.5653     0.2200     2.5694     0.0102      0.1341      0.9965\n",
      "quarter.2012Q2        0.6395     0.1899     3.3669     0.0008      0.2672      1.0118\n",
      "quarter.2012Q3        0.5674     0.1865     3.0420     0.0024      0.2018      0.9330\n",
      "quarter.2012Q4        0.5032     0.1869     2.6926     0.0071      0.1369      0.8694\n",
      "quarter.2013Q1        0.5182     0.2028     2.5559     0.0106      0.1208      0.9156\n",
      "quarter.2013Q2        0.5203     0.1449     3.5904     0.0003      0.2363      0.8044\n",
      "quarter.2013Q3        0.5322     0.1624     3.2765     0.0011      0.2138      0.8506\n",
      "quarter.2013Q4        0.4787     0.1558     3.0719     0.0021      0.1733      0.7841\n",
      "quarter.2014Q1        0.4344     0.1681     2.5839     0.0098      0.1049      0.7638\n",
      "quarter.2014Q2        0.5784     0.1628     3.5528     0.0004      0.2593      0.8975\n",
      "quarter.2014Q3        0.5306     0.1577     3.3635     0.0008      0.2214      0.8398\n",
      "quarter.2014Q4        0.2596     0.0699     3.7153     0.0002      0.1227      0.3966\n",
      "quarter.2015Q1       -0.2184     0.1111    -1.9664     0.0493     -0.4362     -0.0007\n",
      "quarter.2015Q2       -0.0092     0.0761    -0.1211     0.9036     -0.1585      0.1400\n",
      "quarter.2015Q3       -0.1680     0.1367    -1.2287     0.2192     -0.4360      0.1000\n",
      "quarter.2015Q4       -0.3969     0.2152    -1.8441     0.0652     -0.8187      0.0249\n",
      "quarter.2016Q1       -0.8186     0.3660    -2.2364     0.0253     -1.5361     -0.1012\n",
      "quarter.2016Q2       -0.4722     0.2699    -1.7496     0.0802     -1.0011      0.0568\n",
      "quarter.2016Q3       -0.4177     0.2293    -1.8211     0.0686     -0.8672      0.0319\n",
      "quarter.2016Q4       -0.3687     0.1952    -1.8882     0.0590     -0.7513      0.0140\n",
      "quarter.2017Q1       -0.3252     0.1515    -2.1472     0.0318     -0.6221     -0.0284\n",
      "quarter.2017Q2       -0.2707     0.1879    -1.4402     0.1498     -0.6390      0.0977\n",
      "quarter.2017Q3       -0.2719     0.1566    -1.7366     0.0825     -0.5787      0.0350\n",
      "quarter.2017Q4       -0.1035     0.0901    -1.1494     0.2504     -0.2800      0.0730\n",
      "quarter.2018Q1       -0.0720     0.0452    -1.5904     0.1117     -0.1606      0.0167\n",
      "=====================================================================================\n",
      "\n",
      "F-test for Poolability: 263.30\n",
      "P-value: 0.0000\n",
      "Distribution: F(4577,94058)\n",
      "\n",
      "Included effects: Entity\n"
     ]
    }
   ],
   "source": [
    "regressors = ['log_nsmiles','log_fare','nb_airline','log_income_capita','log_population','log_kjf_price', 'quarter']\n",
    "\n",
    "modelFE = PanelOLS(panel1_df.log_passengers, panel1_df[regressors], \n",
    "                       entity_effects=True, time_effects=False, other_effects=None)\n",
    "modelFE = modelFE.fit(cov_type='clustered', cluster_entity=True)\n",
    "print(modelFE)\n"
   ]
  },
  {
   "cell_type": "markdown",
   "metadata": {},
   "source": [
    "### 2. Testing for Time Effects\n",
    "- Time effect can be added using `time_effects=True`. \n",
    "- Here, when we include or exclude the constant, we have the same results."
   ]
  },
  {
   "cell_type": "code",
   "execution_count": 23,
   "metadata": {},
   "outputs": [
    {
     "name": "stdout",
     "output_type": "stream",
     "text": [
      "                          PanelOLS Estimation Summary                           \n",
      "================================================================================\n",
      "Dep. Variable:         log_passengers   R-squared:                        0.4833\n",
      "Estimator:                   PanelOLS   R-squared (Between):              0.5147\n",
      "No. Observations:               98673   R-squared (Within):              -1.1651\n",
      "Date:                Thu, Jan 16 2020   R-squared (Overall):              0.4808\n",
      "Time:                        17:32:35   Log-likelihood                -1.214e+05\n",
      "Cov. Estimator:             Clustered                                           \n",
      "                                        F-statistic:                   1.845e+04\n",
      "Entities:                        4578   P-value                           0.0000\n",
      "Avg Obs:                       21.554   Distribution:                 F(5,98635)\n",
      "Min Obs:                       4.0000                                           \n",
      "Max Obs:                       33.000   F-statistic (robust):             1143.3\n",
      "                                        P-value                           0.0000\n",
      "Time periods:                      33   Distribution:                 F(5,98635)\n",
      "Avg Obs:                       2990.1                                           \n",
      "Min Obs:                       2845.0                                           \n",
      "Max Obs:                       3137.0                                           \n",
      "                                                                                \n",
      "                                 Parameter Estimates                                 \n",
      "=====================================================================================\n",
      "                   Parameter  Std. Err.     T-stat    P-value    Lower CI    Upper CI\n",
      "-------------------------------------------------------------------------------------\n",
      "const                -6.3320     1.5138    -4.1830     0.0000     -9.2989     -3.3651\n",
      "log_nsmiles           0.7295     0.0221     33.008     0.0000      0.6862      0.7728\n",
      "log_fare             -1.3810     0.0597    -23.127     0.0000     -1.4980     -1.2640\n",
      "nb_airline            0.3318     0.0057     58.490     0.0000      0.3207      0.3429\n",
      "log_income_capita     1.0692     0.1489     7.1805     0.0000      0.7774      1.3611\n",
      "log_population        0.0639     0.0202     3.1719     0.0015      0.0244      0.1035\n",
      "=====================================================================================\n",
      "\n",
      "F-test for Poolability: 20.026\n",
      "P-value: 0.0000\n",
      "Distribution: F(32,98635)\n",
      "\n",
      "Included effects: Time\n"
     ]
    }
   ],
   "source": [
    "regressors = ['const','log_nsmiles','log_fare','nb_airline','log_income_capita','log_population']\n",
    "\n",
    "modelTE = PanelOLS(panel1_df.log_passengers, panel1_df[regressors], \n",
    "                       entity_effects=False, time_effects=True, other_effects=None)\n",
    "modelTE = modelTE.fit(cov_type='clustered', cluster_entity=True, cluster_time=True) \n",
    "print(modelTE)\n"
   ]
  },
  {
   "cell_type": "markdown",
   "metadata": {},
   "source": [
    "### 3. First Differences\n",
    "> First differencing is an alternative to using fixed effects when there might be correlation. When using first differences, time-invariant variables must be excluded."
   ]
  },
  {
   "cell_type": "code",
   "execution_count": 24,
   "metadata": {},
   "outputs": [
    {
     "name": "stdout",
     "output_type": "stream",
     "text": [
      "                          PanelOLS Estimation Summary                           \n",
      "================================================================================\n",
      "Dep. Variable:         log_passengers   R-squared:                        0.4833\n",
      "Estimator:                   PanelOLS   R-squared (Between):              0.5147\n",
      "No. Observations:               98673   R-squared (Within):              -1.1651\n",
      "Date:                Thu, Jan 16 2020   R-squared (Overall):              0.4808\n",
      "Time:                        17:32:35   Log-likelihood                -1.214e+05\n",
      "Cov. Estimator:             Clustered                                           \n",
      "                                        F-statistic:                   1.845e+04\n",
      "Entities:                        4578   P-value                           0.0000\n",
      "Avg Obs:                       21.554   Distribution:                 F(5,98635)\n",
      "Min Obs:                       4.0000                                           \n",
      "Max Obs:                       33.000   F-statistic (robust):             1143.3\n",
      "                                        P-value                           0.0000\n",
      "Time periods:                      33   Distribution:                 F(5,98635)\n",
      "Avg Obs:                       2990.1                                           \n",
      "Min Obs:                       2845.0                                           \n",
      "Max Obs:                       3137.0                                           \n",
      "                                                                                \n",
      "                                 Parameter Estimates                                 \n",
      "=====================================================================================\n",
      "                   Parameter  Std. Err.     T-stat    P-value    Lower CI    Upper CI\n",
      "-------------------------------------------------------------------------------------\n",
      "const                -6.3320     1.5138    -4.1830     0.0000     -9.2989     -3.3651\n",
      "log_nsmiles           0.7295     0.0221     33.008     0.0000      0.6862      0.7728\n",
      "log_fare             -1.3810     0.0597    -23.127     0.0000     -1.4980     -1.2640\n",
      "nb_airline            0.3318     0.0057     58.490     0.0000      0.3207      0.3429\n",
      "log_income_capita     1.0692     0.1489     7.1805     0.0000      0.7774      1.3611\n",
      "log_population        0.0639     0.0202     3.1719     0.0015      0.0244      0.1035\n",
      "=====================================================================================\n",
      "\n",
      "F-test for Poolability: 20.026\n",
      "P-value: 0.0000\n",
      "Distribution: F(32,98635)\n",
      "\n",
      "Included effects: Time\n"
     ]
    }
   ],
   "source": [
    "regressors = ['log_nsmiles','log_fare','nb_airline','log_income_capita','log_population']\n",
    "\n",
    "modelFD = FirstDifferenceOLS(panel1_df.log_passengers, panel1_df[regressors])\n",
    "modelFD = modelFD.fit(cov_type='clustered', cluster_entity=True) \n",
    "print(modelTE)\n"
   ]
  },
  {
   "cell_type": "markdown",
   "metadata": {},
   "source": [
    "## Comparing between modelBetween, modelRE and modelPooled models"
   ]
  },
  {
   "cell_type": "code",
   "execution_count": 25,
   "metadata": {},
   "outputs": [
    {
     "name": "stdout",
     "output_type": "stream",
     "text": [
      "                            Model Comparison                            \n",
      "========================================================================\n",
      "                               Between        PooledOLS    RandomEffects\n",
      "------------------------------------------------------------------------\n",
      "Dep. Variable           log_passengers   log_passengers   log_passengers\n",
      "Estimator                   BetweenOLS         PanelOLS    RandomEffects\n",
      "No. Observations                  4578            98673            98673\n",
      "Cov. Est.                       Robust           Robust           Robust\n",
      "R-squared                       0.5996           0.4885           0.2337\n",
      "R-Squared (Within)             -2.6978          -1.1120           0.2486\n",
      "R-Squared (Between)             0.5996           0.5208           0.1783\n",
      "R-Squared (Overall)             0.3986           0.4885           0.1187\n",
      "F-statistic                     977.62           2478.5           791.38\n",
      "P-value (F-stat)                0.0000           0.0000           0.0000\n",
      "===================== ================ ================ ================\n",
      "const                          -8.4459                                  \n",
      "                             (-5.3204)                                  \n",
      "log_nsmiles                     0.7328           0.6927           0.4263\n",
      "                              (35.377)         (147.62)         (21.457)\n",
      "log_fare                       -1.3393          -1.3773          -0.9840\n",
      "                             (-30.239)        (-130.50)        (-108.57)\n",
      "nb_airline                      0.4807           0.3340           0.0261\n",
      "                              (52.567)         (237.38)         (35.975)\n",
      "log_income_capita               1.1848           1.1407           1.1200\n",
      "                              (9.1432)         (36.324)         (23.043)\n",
      "log_population                  0.0329           0.0673           0.0196\n",
      "                              (1.8643)         (15.710)         (1.3088)\n",
      "log_kjf_price                   0.1107          -1.3059          -1.1071\n",
      "                              (0.9638)        (-22.341)        (-11.220)\n",
      "dum_dist                       -0.9375          -0.8367          -0.3518\n",
      "                             (-5.3173)        (-24.381)        (-2.2227)\n",
      "quarter.2010Q2                                   0.1139           0.2058\n",
      "                                               (5.2218)         (24.677)\n",
      "quarter.2010Q3                                   0.0613           0.1319\n",
      "                                               (2.8157)         (18.304)\n",
      "quarter.2010Q4                                   0.1286           0.2134\n",
      "                                               (5.6886)         (16.724)\n",
      "quarter.2011Q1                                   0.3658           0.3191\n",
      "                                               (13.779)         (12.633)\n",
      "quarter.2011Q2                                   0.6599           0.6393\n",
      "                                               (21.210)         (16.805)\n",
      "quarter.2011Q3                                   0.6244           0.5670\n",
      "                                               (21.166)         (16.464)\n",
      "quarter.2011Q4                                   0.5117           0.5035\n",
      "                                               (17.786)         (15.379)\n",
      "quarter.2012Q1                                   0.5958           0.5032\n",
      "                                               (19.376)         (13.542)\n",
      "quarter.2012Q2                                   0.6828           0.5846\n",
      "                                               (24.152)         (18.638)\n",
      "quarter.2012Q3                                   0.6276           0.5137\n",
      "                                               (22.213)         (16.566)\n",
      "quarter.2012Q4                                   0.5433           0.4470\n",
      "                                               (19.475)         (14.877)\n",
      "quarter.2013Q1                                   0.6497           0.4614\n",
      "                                               (22.082)         (13.684)\n",
      "quarter.2013Q2                                   0.5360           0.4754\n",
      "                                               (21.420)         (20.564)\n",
      "quarter.2013Q3                                   0.5940           0.4832\n",
      "                                               (22.770)         (18.448)\n",
      "quarter.2013Q4                                   0.4678           0.4293\n",
      "                                               (18.247)         (17.385)\n",
      "quarter.2014Q1                                   0.4645           0.3816\n",
      "                                               (17.489)         (14.478)\n",
      "quarter.2014Q2                                   0.5892           0.5254\n",
      "                                               (23.137)         (21.277)\n",
      "quarter.2014Q3                                   0.5933           0.4789\n",
      "                                               (23.587)         (20.422)\n",
      "quarter.2014Q4                                   0.2299           0.2279\n",
      "                                               (10.550)         (24.536)\n",
      "quarter.2015Q1                                  -0.2178          -0.2060\n",
      "                                              (-7.8688)        (-7.1553)\n",
      "quarter.2015Q2                                  -0.0311          -0.0070\n",
      "                                              (-1.2192)        (-0.3076)\n",
      "quarter.2015Q3                                  -0.1131          -0.1495\n",
      "                                              (-3.8052)        (-4.4144)\n",
      "quarter.2015Q4                                  -0.4428          -0.3607\n",
      "                                              (-12.330)        (-7.5033)\n",
      "quarter.2016Q1                                  -0.8005          -0.7435\n",
      "                                              (-15.949)        (-9.8330)\n",
      "quarter.2016Q2                                  -0.4829          -0.4219\n",
      "                                              (-11.751)        (-7.2552)\n",
      "quarter.2016Q3                                  -0.4193          -0.3783\n",
      "                                              (-11.126)        (-7.4121)\n",
      "quarter.2016Q4                                  -0.4406          -0.3398\n",
      "                                              (-12.720)        (-7.5293)\n",
      "quarter.2017Q1                                  -0.3255          -0.3072\n",
      "                                              (-10.322)        (-8.1406)\n",
      "quarter.2017Q2                                  -0.3064          -0.2445\n",
      "                                              (-8.8922)        (-5.4724)\n",
      "quarter.2017Q3                                  -0.2743          -0.2539\n",
      "                                              (-8.5239)        (-6.4872)\n",
      "quarter.2017Q4                                  -0.1519          -0.1047\n",
      "                                              (-5.5663)        (-3.7865)\n",
      "quarter.2018Q1                                  -0.0425          -0.0857\n",
      "                                              (-1.7060)        (-4.2889)\n",
      "------------------------------------------------------------------------\n",
      "\n",
      "T-stats reported in parentheses\n"
     ]
    }
   ],
   "source": [
    "from linearmodels.panel import compare\n",
    "modelCompare = compare({'PooledOLS':modelPooled, 'Between':modelBetween, 'RandomEffects':modelRE})\n",
    "print(modelCompare)"
   ]
  },
  {
   "cell_type": "markdown",
   "metadata": {},
   "source": [
    "### Comparing between Robust, Entity and Entity-Time mothods"
   ]
  },
  {
   "cell_type": "code",
   "execution_count": 26,
   "metadata": {},
   "outputs": [],
   "source": [
    "regressors = ['const','log_nsmiles','log_fare','nb_airline','log_income_capita','log_population']\n",
    "\n",
    "modelComp = PanelOLS(panel1_df.log_passengers, panel1_df[regressors])\n",
    "\n",
    "robust = modelComp.fit(cov_type='robust')\n",
    "clust_entity = modelComp.fit(cov_type='clustered', cluster_entity=True)\n",
    "clust_entity_time = modelComp.fit(cov_type='clustered', cluster_entity=True, cluster_time=True)\n"
   ]
  },
  {
   "cell_type": "code",
   "execution_count": 27,
   "metadata": {},
   "outputs": [
    {
     "name": "stdout",
     "output_type": "stream",
     "text": [
      "                            Model Comparison                            \n",
      "========================================================================\n",
      "                                Robust           Entity      Entity-Time\n",
      "------------------------------------------------------------------------\n",
      "Dep. Variable           log_passengers   log_passengers   log_passengers\n",
      "Estimator                     PanelOLS         PanelOLS         PanelOLS\n",
      "No. Observations                 98673            98673            98673\n",
      "Cov. Est.                       Robust        Clustered        Clustered\n",
      "R-squared                       0.4809           0.4809           0.4809\n",
      "R-Squared (Within)             -1.1500          -1.1500          -1.1500\n",
      "R-Squared (Between)             0.5141           0.5141           0.5141\n",
      "R-Squared (Overall)             0.4809           0.4809           0.4809\n",
      "F-statistic                  1.828e+04        1.828e+04        1.828e+04\n",
      "P-value (F-stat)                0.0000           0.0000           0.0000\n",
      "===================== ================ ================ ================\n",
      "const                          -7.0335          -7.0335          -7.0335\n",
      "                             (-29.946)        (-8.5376)        (-6.2243)\n",
      "log_nsmiles                     0.7254           0.7254           0.7254\n",
      "                              (158.31)         (34.892)         (33.688)\n",
      "log_fare                       -1.3623          -1.3623          -1.3623\n",
      "                             (-132.31)        (-34.167)        (-23.903)\n",
      "nb_airline                      0.3308           0.3308           0.3308\n",
      "                              (232.97)         (62.613)         (58.778)\n",
      "log_income_capita               1.1309           1.1309           1.1309\n",
      "                              (48.620)         (13.699)         (10.001)\n",
      "log_population                  0.0620           0.0620           0.0620\n",
      "                              (14.632)         (3.2443)         (3.1362)\n",
      "------------------------------------------------------------------------\n",
      "\n",
      "T-stats reported in parentheses\n"
     ]
    }
   ],
   "source": [
    "from collections import OrderedDict\n",
    "\n",
    "results = OrderedDict()\n",
    "results['Robust'] = robust\n",
    "results['Entity'] = clust_entity\n",
    "results['Entity-Time'] = clust_entity_time\n",
    "\n",
    "print(compare(results))"
   ]
  },
  {
   "cell_type": "code",
   "execution_count": null,
   "metadata": {},
   "outputs": [],
   "source": []
  },
  {
   "cell_type": "code",
   "execution_count": null,
   "metadata": {},
   "outputs": [],
   "source": []
  },
  {
   "cell_type": "code",
   "execution_count": 28,
   "metadata": {},
   "outputs": [
    {
     "data": {
      "text/html": [
       "<div>\n",
       "<style scoped>\n",
       "    .dataframe tbody tr th:only-of-type {\n",
       "        vertical-align: middle;\n",
       "    }\n",
       "\n",
       "    .dataframe tbody tr th {\n",
       "        vertical-align: top;\n",
       "    }\n",
       "\n",
       "    .dataframe thead th {\n",
       "        text-align: right;\n",
       "    }\n",
       "</style>\n",
       "<table border=\"1\" class=\"dataframe\">\n",
       "  <thead>\n",
       "    <tr style=\"text-align: right;\">\n",
       "      <th></th>\n",
       "      <th>citymarket_id</th>\n",
       "      <th>quarter_index</th>\n",
       "      <th>ID</th>\n",
       "      <th>quarter</th>\n",
       "      <th>log_passengers</th>\n",
       "      <th>log_nsmiles</th>\n",
       "      <th>log_fare</th>\n",
       "      <th>nb_airline</th>\n",
       "      <th>log_income_capita</th>\n",
       "      <th>log_population</th>\n",
       "      <th>log_kjf_price</th>\n",
       "      <th>dum_dist</th>\n",
       "      <th>dum_q1</th>\n",
       "      <th>dum_q2</th>\n",
       "      <th>dum_q3</th>\n",
       "      <th>dum_q4</th>\n",
       "      <th>const</th>\n",
       "    </tr>\n",
       "  </thead>\n",
       "  <tbody>\n",
       "    <tr>\n",
       "      <th>0</th>\n",
       "      <td>30135_30194</td>\n",
       "      <td>20101</td>\n",
       "      <td>1</td>\n",
       "      <td>2010Q1</td>\n",
       "      <td>3.332205</td>\n",
       "      <td>7.176255</td>\n",
       "      <td>5.370359</td>\n",
       "      <td>2</td>\n",
       "      <td>10.576317</td>\n",
       "      <td>16.754431</td>\n",
       "      <td>5.371878</td>\n",
       "      <td>0</td>\n",
       "      <td>1</td>\n",
       "      <td>0</td>\n",
       "      <td>0</td>\n",
       "      <td>0</td>\n",
       "      <td>1</td>\n",
       "    </tr>\n",
       "    <tr>\n",
       "      <th>1</th>\n",
       "      <td>30135_30194</td>\n",
       "      <td>20102</td>\n",
       "      <td>1</td>\n",
       "      <td>2010Q2</td>\n",
       "      <td>3.737670</td>\n",
       "      <td>7.176255</td>\n",
       "      <td>5.460224</td>\n",
       "      <td>1</td>\n",
       "      <td>10.594457</td>\n",
       "      <td>16.757335</td>\n",
       "      <td>5.428614</td>\n",
       "      <td>0</td>\n",
       "      <td>0</td>\n",
       "      <td>1</td>\n",
       "      <td>0</td>\n",
       "      <td>0</td>\n",
       "      <td>1</td>\n",
       "    </tr>\n",
       "    <tr>\n",
       "      <th>2</th>\n",
       "      <td>30135_30194</td>\n",
       "      <td>20104</td>\n",
       "      <td>1</td>\n",
       "      <td>2010Q4</td>\n",
       "      <td>4.158883</td>\n",
       "      <td>7.176255</td>\n",
       "      <td>5.243756</td>\n",
       "      <td>1</td>\n",
       "      <td>10.620949</td>\n",
       "      <td>16.763388</td>\n",
       "      <td>5.497988</td>\n",
       "      <td>0</td>\n",
       "      <td>0</td>\n",
       "      <td>0</td>\n",
       "      <td>0</td>\n",
       "      <td>1</td>\n",
       "      <td>1</td>\n",
       "    </tr>\n",
       "    <tr>\n",
       "      <th>3</th>\n",
       "      <td>30135_30194</td>\n",
       "      <td>20113</td>\n",
       "      <td>1</td>\n",
       "      <td>2011Q3</td>\n",
       "      <td>3.850148</td>\n",
       "      <td>7.175490</td>\n",
       "      <td>5.495117</td>\n",
       "      <td>1</td>\n",
       "      <td>10.669920</td>\n",
       "      <td>16.771834</td>\n",
       "      <td>5.748118</td>\n",
       "      <td>0</td>\n",
       "      <td>0</td>\n",
       "      <td>0</td>\n",
       "      <td>1</td>\n",
       "      <td>0</td>\n",
       "      <td>1</td>\n",
       "    </tr>\n",
       "    <tr>\n",
       "      <th>4</th>\n",
       "      <td>30135_30194</td>\n",
       "      <td>20122</td>\n",
       "      <td>1</td>\n",
       "      <td>2012Q2</td>\n",
       "      <td>3.663562</td>\n",
       "      <td>7.175490</td>\n",
       "      <td>5.618007</td>\n",
       "      <td>2</td>\n",
       "      <td>10.704951</td>\n",
       "      <td>16.780740</td>\n",
       "      <td>5.732370</td>\n",
       "      <td>0</td>\n",
       "      <td>0</td>\n",
       "      <td>1</td>\n",
       "      <td>0</td>\n",
       "      <td>0</td>\n",
       "      <td>1</td>\n",
       "    </tr>\n",
       "  </tbody>\n",
       "</table>\n",
       "</div>"
      ],
      "text/plain": [
       "  citymarket_id  quarter_index  ID quarter  log_passengers  log_nsmiles  \\\n",
       "0   30135_30194          20101   1  2010Q1        3.332205     7.176255   \n",
       "1   30135_30194          20102   1  2010Q2        3.737670     7.176255   \n",
       "2   30135_30194          20104   1  2010Q4        4.158883     7.176255   \n",
       "3   30135_30194          20113   1  2011Q3        3.850148     7.175490   \n",
       "4   30135_30194          20122   1  2012Q2        3.663562     7.175490   \n",
       "\n",
       "   log_fare  nb_airline  log_income_capita  log_population  log_kjf_price  \\\n",
       "0  5.370359           2          10.576317       16.754431       5.371878   \n",
       "1  5.460224           1          10.594457       16.757335       5.428614   \n",
       "2  5.243756           1          10.620949       16.763388       5.497988   \n",
       "3  5.495117           1          10.669920       16.771834       5.748118   \n",
       "4  5.618007           2          10.704951       16.780740       5.732370   \n",
       "\n",
       "   dum_dist  dum_q1  dum_q2  dum_q3  dum_q4  const  \n",
       "0         0       1       0       0       0      1  \n",
       "1         0       0       1       0       0      1  \n",
       "2         0       0       0       0       1      1  \n",
       "3         0       0       0       1       0      1  \n",
       "4         0       0       1       0       0      1  "
      ]
     },
     "execution_count": 28,
     "metadata": {},
     "output_type": "execute_result"
    }
   ],
   "source": [
    "# Reset the index in order to compute the Ìnstrumentals variables`\n",
    "panel1_df.reset_index(inplace=True)\n",
    "panel1_df.head()"
   ]
  },
  {
   "cell_type": "code",
   "execution_count": null,
   "metadata": {},
   "outputs": [],
   "source": []
  },
  {
   "cell_type": "markdown",
   "metadata": {},
   "source": [
    "### Instruments as lags of order 1 and 2 of first differences\n",
    "- Because, we want to campute the `first difference` and the `second difference` of the variables, we first need to campute the `lags` values of this variables. \n",
    "- To do that, we first create a function named `lag_by_individual` and use the `shift()` python function inside this new one.\n",
    "    - The `lag_by_individual` function help us to identify the first and the last obseration of each individual (`city market`) as well as strictly succesive observations. In the lagged variables, the first observation for each `city market` will be `\"NaN\"` (missing value).\n",
    "\n",
    "- The first difference is computed by using the following formular `difference(t) = observation(i,t) - observation(i,t-1)`. For example, for a given `city market`, we calculate the difference between the observation of `quarter q`  and the observation of `quarter q-1`.  \n",
    "#### Let's test our `lag_by_individual`function with some observations before applying it in our data"
   ]
  },
  {
   "cell_type": "markdown",
   "metadata": {},
   "source": [
    "#### Example of lagged variables\n",
    "Because we want to be sure if our `lag_by_individual` function work well, we generate a small DataFrame and the test it before using our big table."
   ]
  },
  {
   "cell_type": "code",
   "execution_count": 29,
   "metadata": {},
   "outputs": [
    {
     "data": {
      "text/html": [
       "<div>\n",
       "<style scoped>\n",
       "    .dataframe tbody tr th:only-of-type {\n",
       "        vertical-align: middle;\n",
       "    }\n",
       "\n",
       "    .dataframe tbody tr th {\n",
       "        vertical-align: top;\n",
       "    }\n",
       "\n",
       "    .dataframe thead th {\n",
       "        text-align: right;\n",
       "    }\n",
       "</style>\n",
       "<table border=\"1\" class=\"dataframe\">\n",
       "  <thead>\n",
       "    <tr style=\"text-align: right;\">\n",
       "      <th></th>\n",
       "      <th>quarter_index</th>\n",
       "      <th>citymarket_id</th>\n",
       "      <th>var1</th>\n",
       "      <th>var2</th>\n",
       "      <th>var1_lag1</th>\n",
       "      <th>var2_lag1</th>\n",
       "      <th>id_lag1</th>\n",
       "      <th>var1_dif1</th>\n",
       "      <th>var1_dif2</th>\n",
       "      <th>var1_dif3</th>\n",
       "    </tr>\n",
       "  </thead>\n",
       "  <tbody>\n",
       "    <tr>\n",
       "      <th>0</th>\n",
       "      <td>2019-01-01</td>\n",
       "      <td>group1</td>\n",
       "      <td>1.764052</td>\n",
       "      <td>15.220755</td>\n",
       "      <td>NaN</td>\n",
       "      <td>NaN</td>\n",
       "      <td>NaN</td>\n",
       "      <td>NaN</td>\n",
       "      <td>NaN</td>\n",
       "      <td>NaN</td>\n",
       "    </tr>\n",
       "    <tr>\n",
       "      <th>3</th>\n",
       "      <td>2019-01-02</td>\n",
       "      <td>group1</td>\n",
       "      <td>2.240893</td>\n",
       "      <td>6.673487</td>\n",
       "      <td>1.764052</td>\n",
       "      <td>15.220755</td>\n",
       "      <td>1.0</td>\n",
       "      <td>0.476841</td>\n",
       "      <td>NaN</td>\n",
       "      <td>NaN</td>\n",
       "    </tr>\n",
       "    <tr>\n",
       "      <th>6</th>\n",
       "      <td>2019-01-03</td>\n",
       "      <td>group1</td>\n",
       "      <td>0.950088</td>\n",
       "      <td>6.261354</td>\n",
       "      <td>2.240893</td>\n",
       "      <td>6.673487</td>\n",
       "      <td>1.0</td>\n",
       "      <td>-1.290805</td>\n",
       "      <td>0.476841</td>\n",
       "      <td>NaN</td>\n",
       "    </tr>\n",
       "    <tr>\n",
       "      <th>9</th>\n",
       "      <td>2019-01-04</td>\n",
       "      <td>group1</td>\n",
       "      <td>0.410599</td>\n",
       "      <td>13.072372</td>\n",
       "      <td>0.950088</td>\n",
       "      <td>6.261354</td>\n",
       "      <td>1.0</td>\n",
       "      <td>-0.539490</td>\n",
       "      <td>-1.290805</td>\n",
       "      <td>0.476841</td>\n",
       "    </tr>\n",
       "    <tr>\n",
       "      <th>1</th>\n",
       "      <td>2019-01-01</td>\n",
       "      <td>group2</td>\n",
       "      <td>0.400157</td>\n",
       "      <td>2.433500</td>\n",
       "      <td>NaN</td>\n",
       "      <td>NaN</td>\n",
       "      <td>NaN</td>\n",
       "      <td>NaN</td>\n",
       "      <td>NaN</td>\n",
       "      <td>NaN</td>\n",
       "    </tr>\n",
       "    <tr>\n",
       "      <th>4</th>\n",
       "      <td>2019-01-02</td>\n",
       "      <td>group2</td>\n",
       "      <td>1.867558</td>\n",
       "      <td>29.881581</td>\n",
       "      <td>0.400157</td>\n",
       "      <td>2.433500</td>\n",
       "      <td>1.0</td>\n",
       "      <td>1.467401</td>\n",
       "      <td>NaN</td>\n",
       "      <td>NaN</td>\n",
       "    </tr>\n",
       "    <tr>\n",
       "      <th>7</th>\n",
       "      <td>2019-01-03</td>\n",
       "      <td>group2</td>\n",
       "      <td>-0.151357</td>\n",
       "      <td>-17.081915</td>\n",
       "      <td>1.867558</td>\n",
       "      <td>29.881581</td>\n",
       "      <td>1.0</td>\n",
       "      <td>-2.018915</td>\n",
       "      <td>1.467401</td>\n",
       "      <td>NaN</td>\n",
       "    </tr>\n",
       "    <tr>\n",
       "      <th>10</th>\n",
       "      <td>2019-01-04</td>\n",
       "      <td>group2</td>\n",
       "      <td>0.144044</td>\n",
       "      <td>17.288724</td>\n",
       "      <td>-0.151357</td>\n",
       "      <td>-17.081915</td>\n",
       "      <td>1.0</td>\n",
       "      <td>0.295401</td>\n",
       "      <td>-2.018915</td>\n",
       "      <td>1.467401</td>\n",
       "    </tr>\n",
       "    <tr>\n",
       "      <th>2</th>\n",
       "      <td>2019-01-01</td>\n",
       "      <td>group3</td>\n",
       "      <td>0.978738</td>\n",
       "      <td>8.877265</td>\n",
       "      <td>NaN</td>\n",
       "      <td>NaN</td>\n",
       "      <td>NaN</td>\n",
       "      <td>NaN</td>\n",
       "      <td>NaN</td>\n",
       "      <td>NaN</td>\n",
       "    </tr>\n",
       "    <tr>\n",
       "      <th>5</th>\n",
       "      <td>2019-01-02</td>\n",
       "      <td>group3</td>\n",
       "      <td>-0.977278</td>\n",
       "      <td>-4.103165</td>\n",
       "      <td>0.978738</td>\n",
       "      <td>8.877265</td>\n",
       "      <td>1.0</td>\n",
       "      <td>-1.956016</td>\n",
       "      <td>NaN</td>\n",
       "      <td>NaN</td>\n",
       "    </tr>\n",
       "    <tr>\n",
       "      <th>8</th>\n",
       "      <td>2019-01-03</td>\n",
       "      <td>group3</td>\n",
       "      <td>-0.103219</td>\n",
       "      <td>-51.059796</td>\n",
       "      <td>-0.977278</td>\n",
       "      <td>-4.103165</td>\n",
       "      <td>1.0</td>\n",
       "      <td>0.874059</td>\n",
       "      <td>-1.956016</td>\n",
       "      <td>NaN</td>\n",
       "    </tr>\n",
       "    <tr>\n",
       "      <th>11</th>\n",
       "      <td>2019-01-04</td>\n",
       "      <td>group3</td>\n",
       "      <td>1.454274</td>\n",
       "      <td>-14.843300</td>\n",
       "      <td>-0.103219</td>\n",
       "      <td>-51.059796</td>\n",
       "      <td>1.0</td>\n",
       "      <td>1.557492</td>\n",
       "      <td>0.874059</td>\n",
       "      <td>-1.956016</td>\n",
       "    </tr>\n",
       "  </tbody>\n",
       "</table>\n",
       "</div>"
      ],
      "text/plain": [
       "   quarter_index citymarket_id      var1       var2  var1_lag1  var2_lag1  \\\n",
       "0     2019-01-01        group1  1.764052  15.220755        NaN        NaN   \n",
       "3     2019-01-02        group1  2.240893   6.673487   1.764052  15.220755   \n",
       "6     2019-01-03        group1  0.950088   6.261354   2.240893   6.673487   \n",
       "9     2019-01-04        group1  0.410599  13.072372   0.950088   6.261354   \n",
       "1     2019-01-01        group2  0.400157   2.433500        NaN        NaN   \n",
       "4     2019-01-02        group2  1.867558  29.881581   0.400157   2.433500   \n",
       "7     2019-01-03        group2 -0.151357 -17.081915   1.867558  29.881581   \n",
       "10    2019-01-04        group2  0.144044  17.288724  -0.151357 -17.081915   \n",
       "2     2019-01-01        group3  0.978738   8.877265        NaN        NaN   \n",
       "5     2019-01-02        group3 -0.977278  -4.103165   0.978738   8.877265   \n",
       "8     2019-01-03        group3 -0.103219 -51.059796  -0.977278  -4.103165   \n",
       "11    2019-01-04        group3  1.454274 -14.843300  -0.103219 -51.059796   \n",
       "\n",
       "    id_lag1  var1_dif1  var1_dif2  var1_dif3  \n",
       "0       NaN        NaN        NaN        NaN  \n",
       "3       1.0   0.476841        NaN        NaN  \n",
       "6       1.0  -1.290805   0.476841        NaN  \n",
       "9       1.0  -0.539490  -1.290805   0.476841  \n",
       "1       NaN        NaN        NaN        NaN  \n",
       "4       1.0   1.467401        NaN        NaN  \n",
       "7       1.0  -2.018915   1.467401        NaN  \n",
       "10      1.0   0.295401  -2.018915   1.467401  \n",
       "2       NaN        NaN        NaN        NaN  \n",
       "5       1.0  -1.956016        NaN        NaN  \n",
       "8       1.0   0.874059  -1.956016        NaN  \n",
       "11      1.0   1.557492   0.874059  -1.956016  "
      ]
     },
     "execution_count": 29,
     "metadata": {},
     "output_type": "execute_result"
    }
   ],
   "source": [
    "# Create a random data\n",
    "np.random.seed(0) # ensures the same set of random numbers are generated\n",
    "date = ['2019-01-01']*3 + ['2019-01-02']*3 + ['2019-01-03']*3+['2019-01-04']*3\n",
    "var1, var2 = np.random.randn(12), np.random.randn(12)*20 \n",
    "group = [\"group1\", \"group2\", \"group3\"]*4 # to assign the groups for the multiple group case\n",
    "\n",
    "DataFrame = pd.DataFrame({\"quarter_index\": date, \"citymarket_id\":group, \"var1\": var1, \"var2\": var2}) # many vars, many groups\n",
    "\n",
    "grouped_df = DataFrame.groupby([\"citymarket_id\"])\n",
    "\n",
    "# The function\n",
    "def lag_by_individual(key, value_df):\n",
    "    \n",
    "    \"\"\"\n",
    "    This first line returns a copy of the df, with group columns assigned the key value.\n",
    "    The parenthesis allow us to chain methods and avoid intermediate variable assignment\n",
    "    \n",
    "    Refference:\n",
    "    https://towardsdatascience.com/timeseries-data-munging-lagging-variables-that-are-distributed-across-multiple-groups-86e0a038460c\n",
    "    \"\"\"\n",
    "    \n",
    "    df = value_df.assign(citymarket_id = key)\n",
    "    return (df.sort_values(by=[\"quarter_index\"], ascending=True).set_index([\"quarter_index\"]).shift(1))\n",
    "\n",
    "# Applied the function\n",
    "lag_values = [lag_by_individual(g, grouped_df.get_group(g)) for g in grouped_df.groups.keys()]\n",
    "lag_df = pd.concat(lag_values, axis=0).reset_index()\n",
    "\n",
    "lag_df.loc[(lag_df.citymarket_id.isna() != True), 'id'] = 1 # This variable help to campute the diffenrence only when the obs are strictly succesive\n",
    "lag_df.loc[(lag_df.citymarket_id.isna() == True), 'citymarket_id'] = lag_df.citymarket_id.shift(-1) # deshift the varaiable\n",
    "\n",
    "lag_df.set_index(['quarter_index','citymarket_id'], inplace=True)\n",
    "\n",
    "lag_df.columns = lag_df.columns.values+'_lag1'\n",
    "\n",
    "dif = pd.merge(DataFrame,lag_df, on = ['quarter_index','citymarket_id'], how='inner').sort_values(['citymarket_id','quarter_index'])\n",
    "dif.loc[(dif.id_lag1.isna() != True), 'var1_dif1'] = dif.var1-dif.var1.shift()\n",
    "dif.loc[((dif.id_lag1.isna() != True) & (dif.var1_dif1.isna() != True)), 'var1_dif2'] = dif.var1_dif1.shift()\n",
    "dif.loc[((dif.id_lag1.isna() != True) & (dif.var1_dif2.shift().isna() != True)), 'var1_dif3'] = dif.var1_dif1.shift(2)\n",
    "\n",
    "\n",
    "dif.loc[((dif.id_lag1.isna() != True) & \n",
    "         (dif.var1_dif1.isna() != True) & (dif.var1_dif2.shift().isna() != True)), 'var1_dif3'] = dif.var1_dif1.shift(2)\n",
    "\n",
    "dif.tail(20)"
   ]
  },
  {
   "cell_type": "code",
   "execution_count": 30,
   "metadata": {},
   "outputs": [],
   "source": [
    "grouped_df = panel1_df.groupby([\"citymarket_id\"])\n",
    "\n",
    "def lag_by_individual(key, value_df):\n",
    "    \n",
    "    \"\"\"\n",
    "    - This first line returns a copy of the df, with group columns assigned the key value.\n",
    "    - The function return the lagged values by city market. The first observation for each group will be \"NaN\".\n",
    "    \n",
    "    Refference:\n",
    "    https://towardsdatascience.com/timeseries-data-munging-lagging-variables-that-are-distributed-across-multiple-groups-86e0a038460c\n",
    "    \"\"\"\n",
    "    \n",
    "    df = value_df.assign(citymarket_id = key)\n",
    "    return (df.sort_values(by=[\"quarter\"], ascending=True).set_index([\"quarter\"]).shift(1))\n"
   ]
  },
  {
   "cell_type": "code",
   "execution_count": 31,
   "metadata": {},
   "outputs": [
    {
     "data": {
      "text/html": [
       "<div>\n",
       "<style scoped>\n",
       "    .dataframe tbody tr th:only-of-type {\n",
       "        vertical-align: middle;\n",
       "    }\n",
       "\n",
       "    .dataframe tbody tr th {\n",
       "        vertical-align: top;\n",
       "    }\n",
       "\n",
       "    .dataframe thead th {\n",
       "        text-align: right;\n",
       "    }\n",
       "</style>\n",
       "<table border=\"1\" class=\"dataframe\">\n",
       "  <thead>\n",
       "    <tr style=\"text-align: right;\">\n",
       "      <th></th>\n",
       "      <th>quarter</th>\n",
       "      <th>citymarket_id</th>\n",
       "      <th>quarter_index</th>\n",
       "      <th>ID</th>\n",
       "      <th>log_passengers</th>\n",
       "      <th>log_nsmiles</th>\n",
       "      <th>log_fare</th>\n",
       "      <th>nb_airline</th>\n",
       "      <th>log_income_capita</th>\n",
       "      <th>log_population</th>\n",
       "      <th>log_kjf_price</th>\n",
       "      <th>dum_dist</th>\n",
       "      <th>dum_q1</th>\n",
       "      <th>dum_q2</th>\n",
       "      <th>dum_q3</th>\n",
       "      <th>dum_q4</th>\n",
       "      <th>const</th>\n",
       "      <th>id_lag1</th>\n",
       "    </tr>\n",
       "  </thead>\n",
       "  <tbody>\n",
       "    <tr>\n",
       "      <th>0</th>\n",
       "      <td>2010Q1</td>\n",
       "      <td>30135_30194</td>\n",
       "      <td>20101</td>\n",
       "      <td>1</td>\n",
       "      <td>3.332205</td>\n",
       "      <td>7.176255</td>\n",
       "      <td>5.370359</td>\n",
       "      <td>2</td>\n",
       "      <td>10.576317</td>\n",
       "      <td>16.754431</td>\n",
       "      <td>5.371878</td>\n",
       "      <td>0</td>\n",
       "      <td>1</td>\n",
       "      <td>0</td>\n",
       "      <td>0</td>\n",
       "      <td>0</td>\n",
       "      <td>1</td>\n",
       "      <td>NaN</td>\n",
       "    </tr>\n",
       "    <tr>\n",
       "      <th>1</th>\n",
       "      <td>2010Q2</td>\n",
       "      <td>30135_30194</td>\n",
       "      <td>20102</td>\n",
       "      <td>1</td>\n",
       "      <td>3.737670</td>\n",
       "      <td>7.176255</td>\n",
       "      <td>5.460224</td>\n",
       "      <td>1</td>\n",
       "      <td>10.594457</td>\n",
       "      <td>16.757335</td>\n",
       "      <td>5.428614</td>\n",
       "      <td>0</td>\n",
       "      <td>0</td>\n",
       "      <td>1</td>\n",
       "      <td>0</td>\n",
       "      <td>0</td>\n",
       "      <td>1</td>\n",
       "      <td>1.0</td>\n",
       "    </tr>\n",
       "    <tr>\n",
       "      <th>2</th>\n",
       "      <td>2010Q4</td>\n",
       "      <td>30135_30194</td>\n",
       "      <td>20104</td>\n",
       "      <td>1</td>\n",
       "      <td>4.158883</td>\n",
       "      <td>7.176255</td>\n",
       "      <td>5.243756</td>\n",
       "      <td>1</td>\n",
       "      <td>10.620949</td>\n",
       "      <td>16.763388</td>\n",
       "      <td>5.497988</td>\n",
       "      <td>0</td>\n",
       "      <td>0</td>\n",
       "      <td>0</td>\n",
       "      <td>0</td>\n",
       "      <td>1</td>\n",
       "      <td>1</td>\n",
       "      <td>1.0</td>\n",
       "    </tr>\n",
       "    <tr>\n",
       "      <th>3</th>\n",
       "      <td>2011Q3</td>\n",
       "      <td>30135_30194</td>\n",
       "      <td>20113</td>\n",
       "      <td>1</td>\n",
       "      <td>3.850148</td>\n",
       "      <td>7.175490</td>\n",
       "      <td>5.495117</td>\n",
       "      <td>1</td>\n",
       "      <td>10.669920</td>\n",
       "      <td>16.771834</td>\n",
       "      <td>5.748118</td>\n",
       "      <td>0</td>\n",
       "      <td>0</td>\n",
       "      <td>0</td>\n",
       "      <td>1</td>\n",
       "      <td>0</td>\n",
       "      <td>1</td>\n",
       "      <td>1.0</td>\n",
       "    </tr>\n",
       "    <tr>\n",
       "      <th>4</th>\n",
       "      <td>2012Q2</td>\n",
       "      <td>30135_30194</td>\n",
       "      <td>20122</td>\n",
       "      <td>1</td>\n",
       "      <td>3.663562</td>\n",
       "      <td>7.175490</td>\n",
       "      <td>5.618007</td>\n",
       "      <td>2</td>\n",
       "      <td>10.704951</td>\n",
       "      <td>16.780740</td>\n",
       "      <td>5.732370</td>\n",
       "      <td>0</td>\n",
       "      <td>0</td>\n",
       "      <td>1</td>\n",
       "      <td>0</td>\n",
       "      <td>0</td>\n",
       "      <td>1</td>\n",
       "      <td>1.0</td>\n",
       "    </tr>\n",
       "  </tbody>\n",
       "</table>\n",
       "</div>"
      ],
      "text/plain": [
       "  quarter citymarket_id  quarter_index  ID  log_passengers  log_nsmiles  \\\n",
       "0  2010Q1   30135_30194          20101   1        3.332205     7.176255   \n",
       "1  2010Q2   30135_30194          20102   1        3.737670     7.176255   \n",
       "2  2010Q4   30135_30194          20104   1        4.158883     7.176255   \n",
       "3  2011Q3   30135_30194          20113   1        3.850148     7.175490   \n",
       "4  2012Q2   30135_30194          20122   1        3.663562     7.175490   \n",
       "\n",
       "   log_fare  nb_airline  log_income_capita  log_population  log_kjf_price  \\\n",
       "0  5.370359           2          10.576317       16.754431       5.371878   \n",
       "1  5.460224           1          10.594457       16.757335       5.428614   \n",
       "2  5.243756           1          10.620949       16.763388       5.497988   \n",
       "3  5.495117           1          10.669920       16.771834       5.748118   \n",
       "4  5.618007           2          10.704951       16.780740       5.732370   \n",
       "\n",
       "   dum_dist  dum_q1  dum_q2  dum_q3  dum_q4  const  id_lag1  \n",
       "0         0       1       0       0       0      1      NaN  \n",
       "1         0       0       1       0       0      1      1.0  \n",
       "2         0       0       0       0       1      1      1.0  \n",
       "3         0       0       0       1       0      1      1.0  \n",
       "4         0       0       1       0       0      1      1.0  "
      ]
     },
     "execution_count": 31,
     "metadata": {},
     "output_type": "execute_result"
    }
   ],
   "source": [
    "# Apply the function \n",
    "lag_values = [lag_by_individual(g, grouped_df.get_group(g)) for g in grouped_df.groups.keys()]\n",
    "lag_df = pd.concat(lag_values, axis=0).reset_index()\n",
    "\n",
    "lag_df.loc[(lag_df.citymarket_id.isna() != True), 'id'] = 1 # This variable help to campute the diffenrence only when the obs are strictly succesive\n",
    "lag_df.loc[(lag_df.citymarket_id.isna() == True), 'citymarket_id'] = lag_df.citymarket_id.shift(-1) # deshift the varaiable\n",
    "\n",
    "lag_df.set_index(['quarter','citymarket_id'], inplace=True)\n",
    "\n",
    "lag_df.columns = lag_df.columns.values+'_lag1'\n",
    "lag_df = lag_df[['id_lag1']]\n",
    "\n",
    "final_df = pd.concat([panel1_df.set_index(['quarter','citymarket_id']), lag_df],axis=1).reset_index()\n",
    "\n",
    "final_df.head()"
   ]
  },
  {
   "cell_type": "markdown",
   "metadata": {},
   "source": [
    "### Campute the lags of order 1 and 2 of first differences\n",
    "Note that we create also a lagged variable `log_passengers` withou the first difference name `log_passengers_lag1`. This variable will be used in th dynamique model"
   ]
  },
  {
   "cell_type": "code",
   "execution_count": 32,
   "metadata": {},
   "outputs": [
    {
     "data": {
      "text/html": [
       "<div>\n",
       "<style scoped>\n",
       "    .dataframe tbody tr th:only-of-type {\n",
       "        vertical-align: middle;\n",
       "    }\n",
       "\n",
       "    .dataframe tbody tr th {\n",
       "        vertical-align: top;\n",
       "    }\n",
       "\n",
       "    .dataframe thead th {\n",
       "        text-align: right;\n",
       "    }\n",
       "</style>\n",
       "<table border=\"1\" class=\"dataframe\">\n",
       "  <thead>\n",
       "    <tr style=\"text-align: right;\">\n",
       "      <th></th>\n",
       "      <th>quarter</th>\n",
       "      <th>citymarket_id</th>\n",
       "      <th>log_passengers</th>\n",
       "      <th>log_passengers_lag1</th>\n",
       "      <th>log_passengers_dif1</th>\n",
       "      <th>log_passengers_dif2</th>\n",
       "      <th>log_fare</th>\n",
       "      <th>log_fare_dif1</th>\n",
       "      <th>log_fare_dif2</th>\n",
       "      <th>log_income_capita_dif1</th>\n",
       "      <th>log_income_capita_dif3</th>\n",
       "      <th>log_population_dif3</th>\n",
       "    </tr>\n",
       "  </thead>\n",
       "  <tbody>\n",
       "    <tr>\n",
       "      <th>0</th>\n",
       "      <td>2010Q1</td>\n",
       "      <td>30135_30194</td>\n",
       "      <td>3.332205</td>\n",
       "      <td>NaN</td>\n",
       "      <td>NaN</td>\n",
       "      <td>NaN</td>\n",
       "      <td>5.370359</td>\n",
       "      <td>NaN</td>\n",
       "      <td>NaN</td>\n",
       "      <td>NaN</td>\n",
       "      <td>NaN</td>\n",
       "      <td>NaN</td>\n",
       "    </tr>\n",
       "    <tr>\n",
       "      <th>1</th>\n",
       "      <td>2010Q2</td>\n",
       "      <td>30135_30194</td>\n",
       "      <td>3.737670</td>\n",
       "      <td>3.332205</td>\n",
       "      <td>0.405465</td>\n",
       "      <td>NaN</td>\n",
       "      <td>5.460224</td>\n",
       "      <td>0.089865</td>\n",
       "      <td>NaN</td>\n",
       "      <td>0.018140</td>\n",
       "      <td>NaN</td>\n",
       "      <td>NaN</td>\n",
       "    </tr>\n",
       "    <tr>\n",
       "      <th>2</th>\n",
       "      <td>2010Q4</td>\n",
       "      <td>30135_30194</td>\n",
       "      <td>4.158883</td>\n",
       "      <td>3.737670</td>\n",
       "      <td>0.421213</td>\n",
       "      <td>0.405465</td>\n",
       "      <td>5.243756</td>\n",
       "      <td>-0.216468</td>\n",
       "      <td>0.089865</td>\n",
       "      <td>0.026492</td>\n",
       "      <td>NaN</td>\n",
       "      <td>NaN</td>\n",
       "    </tr>\n",
       "    <tr>\n",
       "      <th>3</th>\n",
       "      <td>2011Q3</td>\n",
       "      <td>30135_30194</td>\n",
       "      <td>3.850148</td>\n",
       "      <td>4.158883</td>\n",
       "      <td>-0.308735</td>\n",
       "      <td>0.421213</td>\n",
       "      <td>5.495117</td>\n",
       "      <td>0.251361</td>\n",
       "      <td>-0.216468</td>\n",
       "      <td>0.048971</td>\n",
       "      <td>0.018140</td>\n",
       "      <td>0.002904</td>\n",
       "    </tr>\n",
       "    <tr>\n",
       "      <th>4</th>\n",
       "      <td>2012Q2</td>\n",
       "      <td>30135_30194</td>\n",
       "      <td>3.663562</td>\n",
       "      <td>3.850148</td>\n",
       "      <td>-0.186586</td>\n",
       "      <td>-0.308735</td>\n",
       "      <td>5.618007</td>\n",
       "      <td>0.122890</td>\n",
       "      <td>0.251361</td>\n",
       "      <td>0.035031</td>\n",
       "      <td>0.026492</td>\n",
       "      <td>0.006054</td>\n",
       "    </tr>\n",
       "  </tbody>\n",
       "</table>\n",
       "</div>"
      ],
      "text/plain": [
       "  quarter citymarket_id  log_passengers  log_passengers_lag1  \\\n",
       "0  2010Q1   30135_30194        3.332205                  NaN   \n",
       "1  2010Q2   30135_30194        3.737670             3.332205   \n",
       "2  2010Q4   30135_30194        4.158883             3.737670   \n",
       "3  2011Q3   30135_30194        3.850148             4.158883   \n",
       "4  2012Q2   30135_30194        3.663562             3.850148   \n",
       "\n",
       "   log_passengers_dif1  log_passengers_dif2  log_fare  log_fare_dif1  \\\n",
       "0                  NaN                  NaN  5.370359            NaN   \n",
       "1             0.405465                  NaN  5.460224       0.089865   \n",
       "2             0.421213             0.405465  5.243756      -0.216468   \n",
       "3            -0.308735             0.421213  5.495117       0.251361   \n",
       "4            -0.186586            -0.308735  5.618007       0.122890   \n",
       "\n",
       "   log_fare_dif2  log_income_capita_dif1  log_income_capita_dif3  \\\n",
       "0            NaN                     NaN                     NaN   \n",
       "1            NaN                0.018140                     NaN   \n",
       "2       0.089865                0.026492                     NaN   \n",
       "3      -0.216468                0.048971                0.018140   \n",
       "4       0.251361                0.035031                0.026492   \n",
       "\n",
       "   log_population_dif3  \n",
       "0                  NaN  \n",
       "1                  NaN  \n",
       "2                  NaN  \n",
       "3             0.002904  \n",
       "4             0.006054  "
      ]
     },
     "execution_count": 32,
     "metadata": {},
     "output_type": "execute_result"
    }
   ],
   "source": [
    "final_df.loc[(final_df.id_lag1.isna() != True), 'log_passengers_lag1'] = final_df.log_passengers.shift()\n",
    "final_df.loc[(final_df.id_lag1.isna() != True), 'log_passengers_dif1'] = final_df.log_passengers-final_df.log_passengers.shift()\n",
    "\n",
    "final_df.loc[((final_df.id_lag1.isna() != True) & \n",
    "              (final_df.log_passengers_dif1.isna() != True)), 'log_passengers_dif2'] = final_df.log_passengers_dif1.shift()\n",
    "\n",
    "final_df.loc[((final_df.id_lag1.isna() != True) & \n",
    "              (final_df.log_passengers_dif1.isna() != True) & \n",
    "              (final_df.log_passengers_dif1.shift().isna() != True)), 'log_passengers_dif3'] = final_df.log_passengers_dif1.shift(2)\n",
    "\n",
    "final_df.loc[(final_df.id_lag1.isna() != True), 'log_nsmiles_dif1'] = final_df.log_nsmiles-final_df.log_nsmiles.shift()\n",
    "final_df.loc[(final_df.id_lag1.isna() != True), 'log_nsmiles_dif2'] = final_df.log_nsmiles_dif1.shift()\n",
    "# For a given individual(city market), the distance still constant in each periods\n",
    "#final_df = final_df.loc[(final_df.id_lag1.isna() != True) & (final_df.log_nsmiles == final_df.log_nsmiles.shift())]\n",
    "#final_df = final_df.loc[(final_df.id_lag1.isna() != True) & (final_df.log_nsmiles == final_df.log_nsmiles.shift(2))]\n",
    "#final_df = final_df.loc[(final_df.id_lag1.isna() != True) & (final_df.log_nsmiles == final_df.log_nsmiles.shift(3))]\n",
    "#final_df = final_df.loc[final_df.log_nsmiles_dif2==0]\n",
    "\n",
    "final_df.loc[(final_df.id_lag1.isna() != True), 'log_fare_dif1'] = final_df.log_fare-final_df.log_fare.shift()\n",
    "final_df.loc[(final_df.id_lag1.isna() != True), 'log_fare_dif2'] = final_df.log_fare_dif1.shift()\n",
    "\n",
    "final_df.loc[(final_df.id_lag1.isna() != True), 'nb_airline_dif1'] = final_df.nb_airline-final_df.nb_airline.shift()\n",
    "final_df.loc[(final_df.id_lag1.isna() != True), 'nb_airline_dif2'] = final_df.nb_airline_dif1.shift()\n",
    "\n",
    "final_df.loc[(final_df.id_lag1.isna() != True), 'log_income_capita_dif1'] = final_df.log_income_capita-final_df.log_income_capita.shift()\n",
    "final_df.loc[((final_df.id_lag1.isna() != True) & \n",
    "              (final_df.log_income_capita_dif1.isna() != True)), 'log_income_capita_dif2'] = final_df.log_income_capita_dif1.shift()\n",
    "final_df.loc[((final_df.id_lag1.isna() != True) & \n",
    "              (final_df.log_income_capita_dif1.isna() != True) & \n",
    "              (final_df.log_income_capita_dif1.shift().isna() != True)), 'log_income_capita_dif3'] = final_df.log_income_capita_dif1.shift(2)\n",
    "\n",
    "final_df.loc[(final_df.id_lag1.isna() != True), 'log_population_dif1'] = final_df.log_population-final_df.log_population.shift()\n",
    "final_df.loc[((final_df.id_lag1.isna() != True) & \n",
    "              (final_df.log_population_dif1.isna() != True)), 'log_population_dif2'] = final_df.log_population_dif1.shift()\n",
    "final_df.loc[((final_df.id_lag1.isna() != True) & \n",
    "              (final_df.log_population_dif1.isna() != True) & \n",
    "              (final_df.log_population_dif1.shift().isna() != True)), 'log_population_dif3'] = final_df.log_population_dif1.shift(2)\n",
    "\n",
    "final_df.loc[(final_df.id_lag1.isna() != True), 'log_kjf_dif1'] = final_df.log_kjf_price-final_df.log_kjf_price.shift()\n",
    "final_df.loc[((final_df.id_lag1.isna() != True) & \n",
    "              (final_df.log_kjf_dif1.isna() != True)), 'log_kjf_dif2'] = final_df.log_kjf_dif1.shift()\n",
    "final_df.loc[((final_df.id_lag1.isna() != True) & \n",
    "              (final_df.log_kjf_dif1.isna() != True) & \n",
    "              (final_df.log_kjf_dif1.shift().isna() != True)), 'log_kjf_dif3'] = final_df.log_kjf_dif1.shift(2)\n",
    "\n",
    "final_df[['quarter','citymarket_id','log_passengers','log_passengers_lag1','log_passengers_dif1','log_passengers_dif2',\n",
    "          'log_fare','log_fare_dif1','log_fare_dif2','log_income_capita_dif1','log_income_capita_dif3','log_population_dif3']].head()"
   ]
  },
  {
   "cell_type": "code",
   "execution_count": 33,
   "metadata": {},
   "outputs": [
    {
     "name": "stdout",
     "output_type": "stream",
     "text": [
      "We delete '13734' observations because their have not first or second differences values.\n",
      "Now, we have '84939' obserations in our dataset after camputing the first and second differences.\n",
      "\n",
      "We have 4578 uniques city-pair markets and 30 periods on our dataset\n"
     ]
    }
   ],
   "source": [
    "# Eliminate observations with missing values (data without first and second differences)\n",
    "final_df.dropna(axis=0, how='any', inplace=True)\n",
    "\n",
    "print(\"We delete '{}' observations because their have not first or second differences values.\".format(panel1_df.shape[0]-final_df.shape[0]))\n",
    "print(\"Now, we have '{}' obserations in our dataset after camputing the first and second differences.\\n\".format(final_df.shape[0]))\n",
    "\n",
    "final_df[['quarter','citymarket_id','log_passengers','log_passengers_lag1','log_passengers_dif1','log_passengers_dif2',\n",
    "          'log_fare','log_fare_dif1','log_fare_dif2','log_income_capita_dif1']].head()\n",
    "\n",
    "print('We have {} uniques city-pair markets and {} periods on our dataset'.format(final_df.citymarket_id.nunique(),\n",
    "                                                                                    final_df.quarter.nunique()))"
   ]
  },
  {
   "cell_type": "code",
   "execution_count": 34,
   "metadata": {},
   "outputs": [
    {
     "data": {
      "text/plain": [
       "\"final_df.sort_values(by=['ID','quarter'], inplace=True)\\n\\n# Exportation\\npath = '../notebooks/final_panel_df.csv'\\nfinal_df.to_csv(path, index=False)\""
      ]
     },
     "execution_count": 34,
     "metadata": {},
     "output_type": "execute_result"
    }
   ],
   "source": [
    "\"\"\"final_df.sort_values(by=['ID','quarter'], inplace=True)\n",
    "\n",
    "# Exportation\n",
    "path = '../notebooks/final_panel_df.csv'\n",
    "final_df.to_csv(path, index=False)\"\"\""
   ]
  },
  {
   "cell_type": "markdown",
   "metadata": {},
   "source": [
    "### Here, we compute the dummies of the times variables manually"
   ]
  },
  {
   "cell_type": "code",
   "execution_count": 35,
   "metadata": {},
   "outputs": [
    {
     "data": {
      "text/html": [
       "<div>\n",
       "<style scoped>\n",
       "    .dataframe tbody tr th:only-of-type {\n",
       "        vertical-align: middle;\n",
       "    }\n",
       "\n",
       "    .dataframe tbody tr th {\n",
       "        vertical-align: top;\n",
       "    }\n",
       "\n",
       "    .dataframe thead th {\n",
       "        text-align: right;\n",
       "    }\n",
       "</style>\n",
       "<table border=\"1\" class=\"dataframe\">\n",
       "  <thead>\n",
       "    <tr style=\"text-align: right;\">\n",
       "      <th></th>\n",
       "      <th></th>\n",
       "      <th>quarter</th>\n",
       "      <th>ID</th>\n",
       "      <th>log_passengers</th>\n",
       "      <th>log_nsmiles</th>\n",
       "      <th>log_fare</th>\n",
       "      <th>nb_airline</th>\n",
       "      <th>log_income_capita</th>\n",
       "      <th>log_population</th>\n",
       "      <th>log_kjf_price</th>\n",
       "      <th>dum_dist</th>\n",
       "      <th>...</th>\n",
       "      <th>dum_20154</th>\n",
       "      <th>dum_20161</th>\n",
       "      <th>dum_20162</th>\n",
       "      <th>dum_20163</th>\n",
       "      <th>dum_20164</th>\n",
       "      <th>dum_20171</th>\n",
       "      <th>dum_20172</th>\n",
       "      <th>dum_20173</th>\n",
       "      <th>dum_20174</th>\n",
       "      <th>dum_20181</th>\n",
       "    </tr>\n",
       "    <tr>\n",
       "      <th>citymarket_id</th>\n",
       "      <th>quarter_index</th>\n",
       "      <th></th>\n",
       "      <th></th>\n",
       "      <th></th>\n",
       "      <th></th>\n",
       "      <th></th>\n",
       "      <th></th>\n",
       "      <th></th>\n",
       "      <th></th>\n",
       "      <th></th>\n",
       "      <th></th>\n",
       "      <th></th>\n",
       "      <th></th>\n",
       "      <th></th>\n",
       "      <th></th>\n",
       "      <th></th>\n",
       "      <th></th>\n",
       "      <th></th>\n",
       "      <th></th>\n",
       "      <th></th>\n",
       "      <th></th>\n",
       "      <th></th>\n",
       "    </tr>\n",
       "  </thead>\n",
       "  <tbody>\n",
       "    <tr>\n",
       "      <th rowspan=\"5\" valign=\"top\">30135_30194</th>\n",
       "      <th>20113</th>\n",
       "      <td>20113</td>\n",
       "      <td>1</td>\n",
       "      <td>3.850148</td>\n",
       "      <td>7.17549</td>\n",
       "      <td>5.495117</td>\n",
       "      <td>1</td>\n",
       "      <td>10.669920</td>\n",
       "      <td>16.771834</td>\n",
       "      <td>5.748118</td>\n",
       "      <td>0</td>\n",
       "      <td>...</td>\n",
       "      <td>0</td>\n",
       "      <td>0</td>\n",
       "      <td>0</td>\n",
       "      <td>0</td>\n",
       "      <td>0</td>\n",
       "      <td>0</td>\n",
       "      <td>0</td>\n",
       "      <td>0</td>\n",
       "      <td>0</td>\n",
       "      <td>0</td>\n",
       "    </tr>\n",
       "    <tr>\n",
       "      <th>20122</th>\n",
       "      <td>20122</td>\n",
       "      <td>1</td>\n",
       "      <td>3.663562</td>\n",
       "      <td>7.17549</td>\n",
       "      <td>5.618007</td>\n",
       "      <td>2</td>\n",
       "      <td>10.704951</td>\n",
       "      <td>16.780740</td>\n",
       "      <td>5.732370</td>\n",
       "      <td>0</td>\n",
       "      <td>...</td>\n",
       "      <td>0</td>\n",
       "      <td>0</td>\n",
       "      <td>0</td>\n",
       "      <td>0</td>\n",
       "      <td>0</td>\n",
       "      <td>0</td>\n",
       "      <td>0</td>\n",
       "      <td>0</td>\n",
       "      <td>0</td>\n",
       "      <td>0</td>\n",
       "    </tr>\n",
       "    <tr>\n",
       "      <th>20133</th>\n",
       "      <td>20133</td>\n",
       "      <td>1</td>\n",
       "      <td>3.218876</td>\n",
       "      <td>7.17549</td>\n",
       "      <td>5.767258</td>\n",
       "      <td>1</td>\n",
       "      <td>10.719306</td>\n",
       "      <td>16.794439</td>\n",
       "      <td>5.681196</td>\n",
       "      <td>0</td>\n",
       "      <td>...</td>\n",
       "      <td>0</td>\n",
       "      <td>0</td>\n",
       "      <td>0</td>\n",
       "      <td>0</td>\n",
       "      <td>0</td>\n",
       "      <td>0</td>\n",
       "      <td>0</td>\n",
       "      <td>0</td>\n",
       "      <td>0</td>\n",
       "      <td>0</td>\n",
       "    </tr>\n",
       "    <tr>\n",
       "      <th>20134</th>\n",
       "      <td>20134</td>\n",
       "      <td>1</td>\n",
       "      <td>3.178054</td>\n",
       "      <td>7.17549</td>\n",
       "      <td>5.775390</td>\n",
       "      <td>1</td>\n",
       "      <td>10.725512</td>\n",
       "      <td>16.797812</td>\n",
       "      <td>5.669421</td>\n",
       "      <td>0</td>\n",
       "      <td>...</td>\n",
       "      <td>0</td>\n",
       "      <td>0</td>\n",
       "      <td>0</td>\n",
       "      <td>0</td>\n",
       "      <td>0</td>\n",
       "      <td>0</td>\n",
       "      <td>0</td>\n",
       "      <td>0</td>\n",
       "      <td>0</td>\n",
       "      <td>0</td>\n",
       "    </tr>\n",
       "    <tr>\n",
       "      <th>20143</th>\n",
       "      <td>20143</td>\n",
       "      <td>1</td>\n",
       "      <td>3.433987</td>\n",
       "      <td>7.17549</td>\n",
       "      <td>5.657739</td>\n",
       "      <td>1</td>\n",
       "      <td>10.772645</td>\n",
       "      <td>16.807167</td>\n",
       "      <td>5.675040</td>\n",
       "      <td>0</td>\n",
       "      <td>...</td>\n",
       "      <td>0</td>\n",
       "      <td>0</td>\n",
       "      <td>0</td>\n",
       "      <td>0</td>\n",
       "      <td>0</td>\n",
       "      <td>0</td>\n",
       "      <td>0</td>\n",
       "      <td>0</td>\n",
       "      <td>0</td>\n",
       "      <td>0</td>\n",
       "    </tr>\n",
       "  </tbody>\n",
       "</table>\n",
       "<p>5 rows × 65 columns</p>\n",
       "</div>"
      ],
      "text/plain": [
       "                            quarter  ID  log_passengers  log_nsmiles  \\\n",
       "citymarket_id quarter_index                                            \n",
       "30135_30194   20113           20113   1        3.850148      7.17549   \n",
       "              20122           20122   1        3.663562      7.17549   \n",
       "              20133           20133   1        3.218876      7.17549   \n",
       "              20134           20134   1        3.178054      7.17549   \n",
       "              20143           20143   1        3.433987      7.17549   \n",
       "\n",
       "                             log_fare  nb_airline  log_income_capita  \\\n",
       "citymarket_id quarter_index                                            \n",
       "30135_30194   20113          5.495117           1          10.669920   \n",
       "              20122          5.618007           2          10.704951   \n",
       "              20133          5.767258           1          10.719306   \n",
       "              20134          5.775390           1          10.725512   \n",
       "              20143          5.657739           1          10.772645   \n",
       "\n",
       "                             log_population  log_kjf_price  dum_dist  ...  \\\n",
       "citymarket_id quarter_index                                           ...   \n",
       "30135_30194   20113               16.771834       5.748118         0  ...   \n",
       "              20122               16.780740       5.732370         0  ...   \n",
       "              20133               16.794439       5.681196         0  ...   \n",
       "              20134               16.797812       5.669421         0  ...   \n",
       "              20143               16.807167       5.675040         0  ...   \n",
       "\n",
       "                             dum_20154  dum_20161  dum_20162  dum_20163  \\\n",
       "citymarket_id quarter_index                                               \n",
       "30135_30194   20113                  0          0          0          0   \n",
       "              20122                  0          0          0          0   \n",
       "              20133                  0          0          0          0   \n",
       "              20134                  0          0          0          0   \n",
       "              20143                  0          0          0          0   \n",
       "\n",
       "                             dum_20164  dum_20171  dum_20172  dum_20173  \\\n",
       "citymarket_id quarter_index                                               \n",
       "30135_30194   20113                  0          0          0          0   \n",
       "              20122                  0          0          0          0   \n",
       "              20133                  0          0          0          0   \n",
       "              20134                  0          0          0          0   \n",
       "              20143                  0          0          0          0   \n",
       "\n",
       "                             dum_20174  dum_20181  \n",
       "citymarket_id quarter_index                        \n",
       "30135_30194   20113                  0          0  \n",
       "              20122                  0          0  \n",
       "              20133                  0          0  \n",
       "              20134                  0          0  \n",
       "              20143                  0          0  \n",
       "\n",
       "[5 rows x 65 columns]"
      ]
     },
     "execution_count": 35,
     "metadata": {},
     "output_type": "execute_result"
    }
   ],
   "source": [
    "final_df['get_dum_quarter'] = final_df['quarter_index']\n",
    "\n",
    "dum_period = pd.get_dummies(final_df.quarter_index, prefix='dum', columns=['quarter_index']).columns.values.tolist()\n",
    "panel_df =  pd.get_dummies(final_df, prefix='dum', columns=['get_dum_quarter'])\n",
    "\n",
    "panel_df['quarter'] = pd.Categorical(panel_df.quarter_index)\n",
    "panel_df.sort_values(['citymarket_id', 'quarter_index'], inplace=True)\n",
    "panel_df.set_index(['citymarket_id', 'quarter_index'], inplace=True)\n",
    "panel_df.head()"
   ]
  },
  {
   "cell_type": "code",
   "execution_count": 36,
   "metadata": {},
   "outputs": [
    {
     "data": {
      "text/plain": [
       "array(['dum_20104', 'dum_20111', 'dum_20112', 'dum_20113', 'dum_20114',\n",
       "       'dum_20121', 'dum_20122', 'dum_20123', 'dum_20124', 'dum_20131',\n",
       "       'dum_20132', 'dum_20133', 'dum_20134', 'dum_20141', 'dum_20142',\n",
       "       'dum_20143', 'dum_20144', 'dum_20151', 'dum_20152', 'dum_20153',\n",
       "       'dum_20154', 'dum_20161', 'dum_20162', 'dum_20163', 'dum_20164',\n",
       "       'dum_20171', 'dum_20172', 'dum_20173', 'dum_20174', 'dum_20181'],\n",
       "      dtype='<U9')"
      ]
     },
     "execution_count": 36,
     "metadata": {},
     "output_type": "execute_result"
    }
   ],
   "source": [
    "# Show the columns of the times dummies\n",
    "np.array(dum_period)"
   ]
  },
  {
   "cell_type": "code",
   "execution_count": 37,
   "metadata": {},
   "outputs": [
    {
     "name": "stdout",
     "output_type": "stream",
     "text": [
      "Number of city-market: 4578 \n",
      "Number of quarter: 30\n"
     ]
    }
   ],
   "source": [
    "print('Number of city-market:', panel_df.ID.nunique(), \n",
    "      '\\nNumber of quarter:', panel_df.quarter.nunique())"
   ]
  },
  {
   "cell_type": "code",
   "execution_count": 38,
   "metadata": {},
   "outputs": [
    {
     "data": {
      "text/plain": [
       "(84939, 65)"
      ]
     },
     "execution_count": 38,
     "metadata": {},
     "output_type": "execute_result"
    }
   ],
   "source": [
    "panel_df.shape"
   ]
  },
  {
   "cell_type": "markdown",
   "metadata": {},
   "source": [
    "## Linear Instrumental-Variables Regression\n",
    "[Reference](https://bashtage.github.io/linearmodels/doc/iv/examples/advanced-examples.html)\n"
   ]
  },
  {
   "cell_type": "code",
   "execution_count": 39,
   "metadata": {},
   "outputs": [],
   "source": [
    "from linearmodels import IV2SLS, IVLIML, IVGMM, IVGMMCUE"
   ]
  },
  {
   "cell_type": "markdown",
   "metadata": {},
   "source": [
    "## 1. IV 2SLS as OLS\n",
    "For running a `2SLS` as `OLS` estimator of parameters in PanelData, we call the `IV2SLS` using `None` for the `endogenous` and the `instruments`."
   ]
  },
  {
   "cell_type": "code",
   "execution_count": 40,
   "metadata": {},
   "outputs": [
    {
     "name": "stdout",
     "output_type": "stream",
     "text": [
      "                            OLS Estimation Summary                            \n",
      "==============================================================================\n",
      "Dep. Variable:         log_passengers   R-squared:                      0.9418\n",
      "Estimator:                        OLS   Adj. R-squared:                 0.9418\n",
      "No. Observations:               84939   F-statistic:                 1.777e+06\n",
      "Date:                Thu, Jan 16 2020   P-value (F-stat)                0.0000\n",
      "Time:                        17:32:59   Distribution:                 chi2(36)\n",
      "Cov. Estimator:                robust                                         \n",
      "                                                                              \n",
      "                                  Parameter Estimates                                  \n",
      "=======================================================================================\n",
      "                     Parameter  Std. Err.     T-stat    P-value    Lower CI    Upper CI\n",
      "---------------------------------------------------------------------------------------\n",
      "const                   6.2081     0.4261     14.569     0.0000      5.3729      7.0432\n",
      "log_passengers_lag1     0.9345     0.0013     708.68     0.0000      0.9319      0.9371\n",
      "log_nsmiles             0.0532     0.0020     26.568     0.0000      0.0493      0.0571\n",
      "log_fare               -0.1244     0.0053    -23.310     0.0000     -0.1349     -0.1139\n",
      "log_income_capita       0.0458     0.0130     3.5234     0.0004      0.0203      0.0712\n",
      "log_population          0.0070     0.0016     4.5032     0.0000      0.0040      0.0101\n",
      "nb_airline              0.0249     0.0006     44.966     0.0000      0.0238      0.0260\n",
      "log_kjf_price          -1.1938     0.0776    -15.375     0.0000     -1.3459     -1.0416\n",
      "dum_dist               -0.0525     0.0111    -4.7171     0.0000     -0.0743     -0.0307\n",
      "dum_20104               0.2894     0.0186     15.576     0.0000      0.2530      0.3258\n",
      "dum_20111               0.3511     0.0294     11.954     0.0000      0.2935      0.4087\n",
      "dum_20112               0.7797     0.0400     19.501     0.0000      0.7014      0.8581\n",
      "dum_20113               0.5802     0.0372     15.605     0.0000      0.5073      0.6531\n",
      "dum_20114               0.5240     0.0361     14.497     0.0000      0.4531      0.5948\n",
      "dum_20121               0.5659     0.0402     14.062     0.0000      0.4870      0.6448\n",
      "dum_20122               0.7080     0.0361     19.606     0.0000      0.6372      0.7788\n",
      "dum_20123               0.5370     0.0355     15.143     0.0000      0.4675      0.6065\n",
      "dum_20124               0.5390     0.0357     15.103     0.0000      0.4690      0.6089\n",
      "dum_20131               0.5227     0.0378     13.818     0.0000      0.4485      0.5968\n",
      "dum_20132               0.6268     0.0297     21.080     0.0000      0.5685      0.6850\n",
      "dum_20133               0.4696     0.0321     14.630     0.0000      0.4067      0.5325\n",
      "dum_20134               0.5022     0.0313     16.060     0.0000      0.4409      0.5635\n",
      "dum_20141               0.4563     0.0330     13.818     0.0000      0.3916      0.5210\n",
      "dum_20142               0.6656     0.0323     20.587     0.0000      0.6022      0.7289\n",
      "dum_20143               0.4915     0.0315     15.606     0.0000      0.4298      0.5532\n",
      "dum_20144               0.2757     0.0191     14.415     0.0000      0.2382      0.3132\n",
      "dum_20151              -0.1714     0.0099    -17.332     0.0000     -0.1908     -0.1520\n",
      "dum_20152               0.1325     0.0072     18.303     0.0000      0.1183      0.1466\n",
      "dum_20153              -0.1295     0.0125    -10.339     0.0000     -0.1540     -0.1049\n",
      "dum_20154              -0.3270     0.0234    -13.946     0.0000     -0.3729     -0.2810\n",
      "dum_20161              -0.7460     0.0450    -16.589     0.0000     -0.8341     -0.6578\n",
      "dum_20162              -0.2954     0.0313    -9.4370     0.0000     -0.3568     -0.2341\n",
      "dum_20163              -0.3548     0.0252    -14.074     0.0000     -0.4042     -0.3054\n",
      "dum_20164              -0.2760     0.0205    -13.439     0.0000     -0.3163     -0.2358\n",
      "dum_20171              -0.2459     0.0145    -16.975     0.0000     -0.2743     -0.2175\n",
      "dum_20172              -0.1216     0.0195    -6.2368     0.0000     -0.1598     -0.0834\n",
      "dum_20173              -0.1963     0.0150    -13.120     0.0000     -0.2256     -0.1670\n",
      "=======================================================================================\n"
     ]
    }
   ],
   "source": [
    "controls = ['const','log_passengers_lag1','log_nsmiles','log_fare','log_income_capita','log_population',\n",
    "            'nb_airline','log_kjf_price','dum_dist']\n",
    "\n",
    "ivolsmodel = IV2SLS(panel_df.log_passengers, \n",
    "                    panel_df[controls + dum_period[:-2]], \n",
    "                    None, None).fit()\n",
    "\n",
    "print(ivolsmodel.summary)"
   ]
  },
  {
   "cell_type": "markdown",
   "metadata": {},
   "source": [
    "### 2. IV 2SLS using `log_income_capita_dif1` and `log_fare` as endogenous variables"
   ]
  },
  {
   "cell_type": "code",
   "execution_count": 41,
   "metadata": {},
   "outputs": [
    {
     "data": {
      "text/plain": [
       "\"\\ninstruements = ['log_income_capita_dif1','log_population_dif1','nb_airline_dif1',\\n                'log_income_capita_dif2','log_population_dif2','nb_airline_dif2',\\n                'log_income_capita_dif3','log_population_dif3']\""
      ]
     },
     "execution_count": 41,
     "metadata": {},
     "output_type": "execute_result"
    }
   ],
   "source": [
    "\"\"\"\n",
    "instruements = ['log_income_capita_dif1','log_population_dif1','nb_airline_dif1',\n",
    "                'log_income_capita_dif2','log_population_dif2','nb_airline_dif2',\n",
    "                'log_income_capita_dif3','log_population_dif3']\"\"\""
   ]
  },
  {
   "cell_type": "code",
   "execution_count": 42,
   "metadata": {},
   "outputs": [
    {
     "name": "stdout",
     "output_type": "stream",
     "text": [
      "                          IV-2SLS Estimation Summary                          \n",
      "==============================================================================\n",
      "Dep. Variable:         log_passengers   R-squared:                      0.9134\n",
      "Estimator:                    IV-2SLS   Adj. R-squared:                 0.9134\n",
      "No. Observations:               84939   F-statistic:                 4.806e+05\n",
      "Date:                Thu, Jan 16 2020   P-value (F-stat)                0.0000\n",
      "Time:                        17:33:00   Distribution:                 chi2(36)\n",
      "Cov. Estimator:                robust                                         \n",
      "                                                                              \n",
      "                                  Parameter Estimates                                  \n",
      "=======================================================================================\n",
      "                     Parameter  Std. Err.     T-stat    P-value    Lower CI    Upper CI\n",
      "---------------------------------------------------------------------------------------\n",
      "const                   5.5477     0.5254     10.559     0.0000      4.5180      6.5775\n",
      "log_nsmiles             0.2394     0.0051     47.107     0.0000      0.2294      0.2494\n",
      "log_income_capita       0.2565     0.0157     16.306     0.0000      0.2257      0.2874\n",
      "log_population          0.0091     0.0020     4.6618     0.0000      0.0053      0.0130\n",
      "nb_airline              0.0847     0.0016     52.226     0.0000      0.0815      0.0879\n",
      "log_kjf_price          -0.9216     0.0948    -9.7265     0.0000     -1.1074     -0.7359\n",
      "dum_dist               -0.1809     0.0146    -12.399     0.0000     -0.2095     -0.1523\n",
      "dum_20104               0.1761     0.0233     7.5647     0.0000      0.1305      0.2218\n",
      "dum_20111               0.2464     0.0361     6.8341     0.0000      0.1758      0.3171\n",
      "dum_20112               0.6234     0.0489     12.751     0.0000      0.5276      0.7192\n",
      "dum_20113               0.4504     0.0456     9.8778     0.0000      0.3611      0.5398\n",
      "dum_20114               0.4011     0.0442     9.0773     0.0000      0.3145      0.4877\n",
      "dum_20121               0.4404     0.0491     8.9615     0.0000      0.3441      0.5368\n",
      "dum_20122               0.5978     0.0440     13.573     0.0000      0.5115      0.6841\n",
      "dum_20123               0.4332     0.0434     9.9747     0.0000      0.3480      0.5183\n",
      "dum_20124               0.4243     0.0436     9.7243     0.0000      0.3388      0.5098\n",
      "dum_20131               0.4324     0.0461     9.3729     0.0000      0.3420      0.5229\n",
      "dum_20132               0.5236     0.0363     14.437     0.0000      0.4525      0.5947\n",
      "dum_20133               0.4093     0.0392     10.446     0.0000      0.3325      0.4862\n",
      "dum_20134               0.4067     0.0381     10.669     0.0000      0.3320      0.4815\n",
      "dum_20141               0.3650     0.0403     9.0594     0.0000      0.2861      0.4440\n",
      "dum_20142               0.5712     0.0395     14.475     0.0000      0.4939      0.6486\n",
      "dum_20143               0.4315     0.0385     11.203     0.0000      0.3560      0.5070\n",
      "dum_20144               0.2353     0.0233     10.101     0.0000      0.1896      0.2809\n",
      "dum_20151              -0.1081     0.0121    -8.9651     0.0000     -0.1317     -0.0845\n",
      "dum_20152               0.1505     0.0087     17.293     0.0000      0.1334      0.1675\n",
      "dum_20153              -0.0507     0.0156    -3.2508     0.0012     -0.0813     -0.0201\n",
      "dum_20154              -0.2361     0.0285    -8.2909     0.0000     -0.2919     -0.1803\n",
      "dum_20161              -0.5553     0.0548    -10.130     0.0000     -0.6627     -0.4479\n",
      "dum_20162              -0.1919     0.0381    -5.0357     0.0000     -0.2665     -0.1172\n",
      "dum_20163              -0.2593     0.0309    -8.3974     0.0000     -0.3198     -0.1988\n",
      "dum_20164              -0.2155     0.0249    -8.6566     0.0000     -0.2643     -0.1667\n",
      "dum_20171              -0.1847     0.0177    -10.436     0.0000     -0.2194     -0.1500\n",
      "dum_20172              -0.0556     0.0237    -2.3467     0.0189     -0.1021     -0.0092\n",
      "dum_20173              -0.1518     0.0185    -8.1855     0.0000     -0.1881     -0.1154\n",
      "log_fare               -0.8013     0.0239    -33.564     0.0000     -0.8481     -0.7545\n",
      "log_passengers_lag1     0.7573     0.0047     160.22     0.0000      0.7480      0.7665\n",
      "=======================================================================================\n",
      "\n",
      "Endogenous: log_fare, log_passengers_lag1\n",
      "Instruments: log_nsmiles_dif1, log_income_capita_dif1, log_population_dif1, nb_airline_dif1, log_fare_dif1, log_fare_dif2, log_passengers_dif2, log_nsmiles_dif2, log_income_capita_dif2, log_population_dif2, nb_airline_dif2\n",
      "Robust Covariance (Heteroskedastic)\n",
      "Debiased: False\n"
     ]
    }
   ],
   "source": [
    "controls = ['const','log_nsmiles','log_income_capita','log_population',\n",
    "            'nb_airline','log_kjf_price','dum_dist']\n",
    "\n",
    "instruements = ['log_nsmiles_dif1','log_income_capita_dif1','log_population_dif1','nb_airline_dif1',\n",
    "                'log_fare_dif1','log_fare_dif2','log_passengers_dif2',\n",
    "                'log_nsmiles_dif2','log_income_capita_dif2','log_population_dif2','nb_airline_dif2']\n",
    "\n",
    "iv2LSmodel = IV2SLS(panel_df['log_passengers'], \n",
    "                    panel_df[controls + dum_period[:-2]], \n",
    "                    panel_df[['log_fare','log_passengers_lag1']], \n",
    "                    panel_df[instruements]).fit()\n",
    "\n",
    "print(iv2LSmodel.summary)"
   ]
  },
  {
   "cell_type": "code",
   "execution_count": null,
   "metadata": {},
   "outputs": [],
   "source": []
  },
  {
   "cell_type": "markdown",
   "metadata": {},
   "source": [
    "## 3. Tests\n",
    "### 3.1. Testing the absence of correlation between Z and U\n",
    "- We estimate two models separately:\n",
    "    - `iv2LSmodel1` when log_passengers is considered as endogenous variable\n",
    "    - `iv2LSmodel2` when log_fare is considered as endogenous variable\n",
    "- For each model, we save the residuals (see the `Sargan` test part) and test\n",
    "\n",
    "> (In essence, when the regressor and error are correlated, the parameter is not identiÖed. The presence of an instrument solves the identiÖcation problem.)  \n",
    "> Instruments are correlated with X, but uncorrelated with the model error term by assumption or by construction. "
   ]
  },
  {
   "cell_type": "code",
   "execution_count": 43,
   "metadata": {},
   "outputs": [],
   "source": [
    "from sklearn.metrics import r2_score, mean_absolute_error, mean_squared_error\n",
    "import scipy.stats as st"
   ]
  },
  {
   "cell_type": "code",
   "execution_count": 46,
   "metadata": {},
   "outputs": [],
   "source": [
    "controls = ['const','log_nsmiles','log_income_capita','log_population',\n",
    "            'nb_airline','log_kjf_price','dum_dist']\n",
    "\n",
    "instruements = ['log_nsmiles_dif1','log_income_capita_dif1','log_population_dif1','nb_airline_dif1',\n",
    "                'log_fare_dif1','log_fare_dif2','log_passengers_dif2',\n",
    "                'log_nsmiles_dif2','log_income_capita_dif2','log_population_dif2','nb_airline_dif2']\n",
    "\n",
    "iv2LSmodel1 = IV2SLS(panel_df['log_passengers'], \n",
    "                     panel_df[controls+dum_period[:-2]], \n",
    "                     panel_df[['log_passengers_lag1']], panel_df[instruements]).fit()\n",
    "\n",
    "iv2LSmodel2 = IV2SLS(panel_df['log_passengers'], \n",
    "                     panel_df[controls+dum_period[:-2]], \n",
    "                     panel_df[['log_fare']], panel_df[instruements]).fit()\n"
   ]
  },
  {
   "cell_type": "markdown",
   "metadata": {},
   "source": [
    "#### 3.1.1. Compute the Q-Sargan for testing the absence of correlation between Z and U\n",
    "- Store the residuals in a variable name `iv_resids`\n",
    "- Estimate a regression of the estimated residuals on all instruments\n",
    "- Compute the R-square of this laste regression\n",
    "- Get the number of observations and campute the Q-Sargan\n",
    "- Compart this computed value of Sagan and the Sargan value provided directly by the model"
   ]
  },
  {
   "cell_type": "code",
   "execution_count": 47,
   "metadata": {},
   "outputs": [
    {
     "name": "stdout",
     "output_type": "stream",
     "text": [
      "Q-Sargan: 8563.420701043364\n"
     ]
    }
   ],
   "source": [
    "# Compute the Q-Sargan in model1: when log_passengers_lag1 is considered as endogenous\n",
    "\n",
    "panel_df['iv_resids'] = iv2LSmodel1.resids.values\n",
    "cor_sargan = sm.OLS(panel_df.iv_resids, panel_df[controls+instruements]).fit()\n",
    "\n",
    "r_pred = cor_sargan.predict(panel_df[controls+instruements])\n",
    "r_square = r2_score(panel_df.iv_resids, r_pred)\n",
    "\n",
    "degree_freedom = cor_sargan.df_model\n",
    "\n",
    "nobs = cor_sargan.nobs\n",
    "q_sargan = nobs*r_square\n",
    "print('Q-Sargan:', q_sargan)"
   ]
  },
  {
   "cell_type": "code",
   "execution_count": 48,
   "metadata": {},
   "outputs": [
    {
     "name": "stdout",
     "output_type": "stream",
     "text": [
      "Q-Sargan: 7048.072535838633\n"
     ]
    }
   ],
   "source": [
    "# Compute the Q-Sargan in model1: when log_fare is considered as endogenous\n",
    "\n",
    "panel_df['iv_resids'] = iv2LSmodel2.resids.values\n",
    "cor_sargan = sm.OLS(panel_df.iv_resids, panel_df[controls+instruements]).fit()\n",
    "\n",
    "r_pred = cor_sargan.predict(panel_df[controls+instruements])\n",
    "r_square = r2_score(panel_df.iv_resids, r_pred)\n",
    "\n",
    "degree_freedom = cor_sargan.df_model\n",
    "\n",
    "nobs = cor_sargan.nobs\n",
    "q_sargan = nobs*r_square\n",
    "print('Q-Sargan:', q_sargan)"
   ]
  },
  {
   "cell_type": "markdown",
   "metadata": {},
   "source": [
    "The value of `Khi-2` with p-(k+1) degrees of freedom (`8`) is `21.955`. Hence, we reject the null hypothesis.\n",
    "#### 3.1.2. We can also get this sargan statistic test from the IV model (as below)."
   ]
  },
  {
   "cell_type": "code",
   "execution_count": 49,
   "metadata": {},
   "outputs": [
    {
     "data": {
      "text/plain": [
       "Sargan's test of overidentification\n",
       "H0: The model is not overidentified.\n",
       "Statistic: 9178.6307\n",
       "P-value: 0.0000\n",
       "Distributed: chi2(10)\n",
       "WaldTestStatistic, id: 0x1c5b029da0"
      ]
     },
     "execution_count": 49,
     "metadata": {},
     "output_type": "execute_result"
    }
   ],
   "source": [
    "iv2LSmodel1.sargan"
   ]
  },
  {
   "cell_type": "code",
   "execution_count": 50,
   "metadata": {},
   "outputs": [
    {
     "data": {
      "text/plain": [
       "Sargan's test of overidentification\n",
       "H0: The model is not overidentified.\n",
       "Statistic: 7568.6870\n",
       "P-value: 0.0000\n",
       "Distributed: chi2(10)\n",
       "WaldTestStatistic, id: 0x1c5b09ab00"
      ]
     },
     "execution_count": 50,
     "metadata": {},
     "output_type": "execute_result"
    }
   ],
   "source": [
    "iv2LSmodel2.sargan"
   ]
  },
  {
   "cell_type": "markdown",
   "metadata": {},
   "source": [
    "> Wooldridge’s regression-based test of exogeneity is robust to heteroskedasticity since it inherits the covariance estimator from the model. Here there is little difference.\n",
    "Wooldridge’s score test is an alternative to the regression test, although it usually has slightly less power since it is an LM rather than a Wald type test. "
   ]
  },
  {
   "cell_type": "code",
   "execution_count": 51,
   "metadata": {},
   "outputs": [
    {
     "data": {
      "text/plain": [
       "Wooldridge's regression test of exogeneity\n",
       "H0: Endogenous variables are exogenous\n",
       "Statistic: 1847.4995\n",
       "P-value: 0.0000\n",
       "Distributed: chi2(1)\n",
       "WaldTestStatistic, id: 0x1c65a1fd68"
      ]
     },
     "execution_count": 51,
     "metadata": {},
     "output_type": "execute_result"
    }
   ],
   "source": [
    "iv2LSmodel1.wooldridge_regression"
   ]
  },
  {
   "cell_type": "code",
   "execution_count": 52,
   "metadata": {},
   "outputs": [
    {
     "data": {
      "text/plain": [
       "Wooldridge's regression test of exogeneity\n",
       "H0: Endogenous variables are exogenous\n",
       "Statistic: 10.9809\n",
       "P-value: 0.0009\n",
       "Distributed: chi2(1)\n",
       "WaldTestStatistic, id: 0x1ca5da0940"
      ]
     },
     "execution_count": 52,
     "metadata": {},
     "output_type": "execute_result"
    }
   ],
   "source": [
    "iv2LSmodel2.wooldridge_regression"
   ]
  },
  {
   "cell_type": "code",
   "execution_count": 53,
   "metadata": {},
   "outputs": [
    {
     "data": {
      "text/plain": [
       "Wooldridge's score test of exogeneity\n",
       "H0: Endogenous variables are exogenous\n",
       "Statistic: 1746.0443\n",
       "P-value: 0.0000\n",
       "Distributed: chi2(1)\n",
       "WaldTestStatistic, id: 0x1ca5da05f8"
      ]
     },
     "execution_count": 53,
     "metadata": {},
     "output_type": "execute_result"
    }
   ],
   "source": [
    "iv2LSmodel1.wooldridge_score"
   ]
  },
  {
   "cell_type": "code",
   "execution_count": 54,
   "metadata": {},
   "outputs": [
    {
     "data": {
      "text/plain": [
       "Wooldridge's score test of exogeneity\n",
       "H0: Endogenous variables are exogenous\n",
       "Statistic: 11.0880\n",
       "P-value: 0.0009\n",
       "Distributed: chi2(1)\n",
       "WaldTestStatistic, id: 0x1c82561390"
      ]
     },
     "execution_count": 54,
     "metadata": {},
     "output_type": "execute_result"
    }
   ],
   "source": [
    "iv2LSmodel2.wooldridge_score"
   ]
  },
  {
   "cell_type": "code",
   "execution_count": 55,
   "metadata": {},
   "outputs": [
    {
     "data": {
      "text/plain": [
       "Wooldridge's score test of overidentification\n",
       "H0: Model is not overidentified.\n",
       "Statistic: 2686.3194\n",
       "P-value: 0.0000\n",
       "Distributed: chi2(10)\n",
       "WaldTestStatistic, id: 0x1c92186470"
      ]
     },
     "execution_count": 55,
     "metadata": {},
     "output_type": "execute_result"
    }
   ],
   "source": [
    "iv2LSmodel1.wooldridge_overid"
   ]
  },
  {
   "cell_type": "code",
   "execution_count": 56,
   "metadata": {},
   "outputs": [
    {
     "data": {
      "text/plain": [
       "Wooldridge's score test of overidentification\n",
       "H0: Model is not overidentified.\n",
       "Statistic: 6066.8956\n",
       "P-value: 0.0000\n",
       "Distributed: chi2(10)\n",
       "WaldTestStatistic, id: 0x1c921869b0"
      ]
     },
     "execution_count": 56,
     "metadata": {},
     "output_type": "execute_result"
    }
   ],
   "source": [
    "iv2LSmodel2.wooldridge_overid"
   ]
  },
  {
   "cell_type": "code",
   "execution_count": 57,
   "metadata": {},
   "outputs": [
    {
     "data": {
      "text/plain": [
       "Basmann' F  test of overidentification\n",
       "H0: The model is not overidentified.\n",
       "Statistic: 664.0699\n",
       "P-value: 0.0000\n",
       "Distributed: F(10,84893)\n",
       "WaldTestStatistic, id: 0x1c92186438"
      ]
     },
     "execution_count": 57,
     "metadata": {},
     "output_type": "execute_result"
    }
   ],
   "source": [
    "iv2LSmodel1.basmann_f"
   ]
  },
  {
   "cell_type": "code",
   "execution_count": 58,
   "metadata": {},
   "outputs": [
    {
     "data": {
      "text/plain": [
       "Basmann' F  test of overidentification\n",
       "H0: The model is not overidentified.\n",
       "Statistic: 434.4487\n",
       "P-value: 0.0000\n",
       "Distributed: F(10,84893)\n",
       "WaldTestStatistic, id: 0x1c92186198"
      ]
     },
     "execution_count": 58,
     "metadata": {},
     "output_type": "execute_result"
    }
   ],
   "source": [
    "iv2LSmodel2.basmann_f"
   ]
  },
  {
   "cell_type": "markdown",
   "metadata": {},
   "source": [
    "### 3.2. Testing the correlation of Z and X_endog\n",
    "- We estimate two differents OLS models:\n",
    "    - `cor_z_fare` when log_fare is the considered as reponse variable\n",
    "    - `cor_z_pass` when log_passengers_lag1 is the considered as reponse variable\n",
    "- For each model, the explanatories includes the `controls` and the `instrumentals` variables\n",
    "- The idea is to test if the coefficients of the `instruments` are null.\n",
    "    - H0: the coefficients of the `instruments` are equal to zero\n",
    "    \n",
    "F-test and Wald test is used to test if a variable has not effect. Note that the F-testis is a special case of wald_test that always uses the F distribution."
   ]
  },
  {
   "cell_type": "code",
   "execution_count": 59,
   "metadata": {},
   "outputs": [],
   "source": [
    "instruements = ['log_nsmiles_dif1','log_income_capita_dif1','log_population_dif1','nb_airline_dif1',\n",
    "                'log_fare_dif1','log_fare_dif2','log_passengers_dif2',\n",
    "                'log_nsmiles_dif2','log_income_capita_dif2','log_population_dif2','nb_airline_dif2']\n",
    "\n",
    "H0 = '(log_nsmiles_dif1=log_income_capita_dif1=log_population_dif1=nb_airline_dif1=log_fare_dif2=log_passengers_dif2=log_nsmiles_dif2=log_income_capita_dif2=log_population_dif2=nb_airline_dif2=0)'\n"
   ]
  },
  {
   "cell_type": "code",
   "execution_count": 60,
   "metadata": {},
   "outputs": [
    {
     "name": "stdout",
     "output_type": "stream",
     "text": [
      "test between Z and fare:\n",
      " <F test: F=array([[207.06535313]]), p=0.0, df_denom=8.49e+04, df_num=10>\n",
      "\n",
      "test between Z and lag_passenger:\n",
      " <F test: F=array([[1030.12111151]]), p=0.0, df_denom=8.49e+04, df_num=10>\n"
     ]
    }
   ],
   "source": [
    "# Using the f_test from the OLS results\n",
    "cor_z_fare = sm.OLS(panel_df[['log_fare']], panel_df[controls+dum_period[:-2]+instruements]).fit()\n",
    "cor_z_pass = sm.OLS(panel_df[['log_passengers_lag1']], panel_df[controls+dum_period[:-2]+instruements]).fit()\n",
    "\n",
    "print('test between Z and fare:\\n', cor_z_fare.f_test(H0))\n",
    "print()\n",
    "print('test between Z and lag_passenger:\\n', cor_z_pass.f_test(H0))"
   ]
  },
  {
   "cell_type": "code",
   "execution_count": 61,
   "metadata": {},
   "outputs": [],
   "source": [
    "# Using valde test from the PanelOLS results\n",
    "cor_z_fare = PanelOLS(panel_df.log_fare, panel_df[controls+dum_period[:-2]+instruements]).fit()\n",
    "cor_z_pass = PanelOLS(panel_df.log_passengers_lag1, panel_df[controls+dum_period[:-2]+instruements]).fit()\n"
   ]
  },
  {
   "cell_type": "code",
   "execution_count": 62,
   "metadata": {},
   "outputs": [
    {
     "name": "stdout",
     "output_type": "stream",
     "text": [
      "testing correlation between Z and fare\n"
     ]
    },
    {
     "data": {
      "text/plain": [
       "Linear Equality Hypothesis Test\n",
       "H0: Linear equality constraint is valid\n",
       "Statistic: 2070.6535\n",
       "P-value: 0.0000\n",
       "Distributed: chi2(10)\n",
       "WaldTestStatistic, id: 0x1c82dd7ac8"
      ]
     },
     "execution_count": 62,
     "metadata": {},
     "output_type": "execute_result"
    }
   ],
   "source": [
    "print('testing correlation between Z and fare')\n",
    "cor_z_fare.wald_test(formula=H0)"
   ]
  },
  {
   "cell_type": "code",
   "execution_count": 63,
   "metadata": {},
   "outputs": [
    {
     "name": "stdout",
     "output_type": "stream",
     "text": [
      "testing correlation between Z and lag_passenger\n"
     ]
    },
    {
     "data": {
      "text/plain": [
       "Linear Equality Hypothesis Test\n",
       "H0: Linear equality constraint is valid\n",
       "Statistic: 10301.2111\n",
       "P-value: 0.0000\n",
       "Distributed: chi2(10)\n",
       "WaldTestStatistic, id: 0x1ca5d7e4e0"
      ]
     },
     "execution_count": 63,
     "metadata": {},
     "output_type": "execute_result"
    }
   ],
   "source": [
    "print('testing correlation between Z and lag_passenger')\n",
    "cor_z_pass.wald_test(formula=H0)"
   ]
  },
  {
   "cell_type": "markdown",
   "metadata": {},
   "source": [
    "#### The `Statistic` all of this previous tests allow to reject the null hypothesis. The coefficients of the `Instruments` are note equal to zeros. In oder words, the **`instrumentals are indeed strong and relevent`**."
   ]
  },
  {
   "cell_type": "code",
   "execution_count": null,
   "metadata": {},
   "outputs": [],
   "source": []
  },
  {
   "cell_type": "markdown",
   "metadata": {},
   "source": [
    "### 3.3. Endogeneity testing using `Durbin's` and `Wu-Hausman` test of exogeneity\n",
    "> 1. The Durbin test is a classic of endogeneity which compares OLS estimates with 2SLS and exploits the fact that OLS estimates will be relatively efficient. Durbin’s test is not robust to heteroskedasticity.\n",
    "> 2. The Wu-Hausman test is a variant of the Durbin test that uses a slightly different form.\n"
   ]
  },
  {
   "cell_type": "code",
   "execution_count": 64,
   "metadata": {},
   "outputs": [
    {
     "data": {
      "text/plain": [
       "Durbin test of exogeneity\n",
       "H0: All endogenous variables are exogenous\n",
       "Statistic: 4640.2268\n",
       "P-value: 0.0000\n",
       "Distributed: chi2(1)\n",
       "WaldTestStatistic, id: 0x1ca5d7ec50"
      ]
     },
     "execution_count": 64,
     "metadata": {},
     "output_type": "execute_result"
    }
   ],
   "source": [
    "iv2LSmodel1.durbin()"
   ]
  },
  {
   "cell_type": "code",
   "execution_count": 65,
   "metadata": {},
   "outputs": [
    {
     "data": {
      "text/plain": [
       "Durbin test of exogeneity\n",
       "H0: All endogenous variables are exogenous\n",
       "Statistic: 1756.7347\n",
       "P-value: 0.0000\n",
       "Distributed: chi2(1)\n",
       "WaldTestStatistic, id: 0x1ca5da0668"
      ]
     },
     "execution_count": 65,
     "metadata": {},
     "output_type": "execute_result"
    }
   ],
   "source": [
    "iv2LSmodel2.durbin()"
   ]
  },
  {
   "cell_type": "code",
   "execution_count": 66,
   "metadata": {},
   "outputs": [
    {
     "data": {
      "text/plain": [
       "Wu-Hausman test of exogeneity\n",
       "H0: All endogenous variables are exogenous\n",
       "Statistic: 4906.2336\n",
       "P-value: 0.0000\n",
       "Distributed: F(1,84902)\n",
       "WaldTestStatistic, id: 0x1c82dd7e10"
      ]
     },
     "execution_count": 66,
     "metadata": {},
     "output_type": "execute_result"
    }
   ],
   "source": [
    "iv2LSmodel1.wu_hausman()"
   ]
  },
  {
   "cell_type": "code",
   "execution_count": 67,
   "metadata": {},
   "outputs": [
    {
     "data": {
      "text/plain": [
       "Wu-Hausman test of exogeneity\n",
       "H0: All endogenous variables are exogenous\n",
       "Statistic: 1793.0539\n",
       "P-value: 0.0000\n",
       "Distributed: F(1,84902)\n",
       "WaldTestStatistic, id: 0x1c922854e0"
      ]
     },
     "execution_count": 67,
     "metadata": {},
     "output_type": "execute_result"
    }
   ],
   "source": [
    "iv2LSmodel2.wu_hausman()"
   ]
  },
  {
   "cell_type": "code",
   "execution_count": 68,
   "metadata": {},
   "outputs": [
    {
     "data": {
      "text/plain": [
       "Model F-statistic\n",
       "H0: All parameters ex. constant are zero\n",
       "Statistic: 550978.8772\n",
       "P-value: 0.0000\n",
       "Distributed: chi2(35)\n",
       "WaldTestStatistic, id: 0x1c79f71f98"
      ]
     },
     "execution_count": 68,
     "metadata": {},
     "output_type": "execute_result"
    }
   ],
   "source": [
    "iv2LSmodel1.f_statistic"
   ]
  },
  {
   "cell_type": "code",
   "execution_count": 69,
   "metadata": {},
   "outputs": [
    {
     "data": {
      "text/plain": [
       "Model F-statistic\n",
       "H0: All parameters ex. constant are zero\n",
       "Statistic: 62755.2236\n",
       "P-value: 0.0000\n",
       "Distributed: chi2(35)\n",
       "WaldTestStatistic, id: 0x1c24edce48"
      ]
     },
     "execution_count": 69,
     "metadata": {},
     "output_type": "execute_result"
    }
   ],
   "source": [
    "iv2LSmodel2.f_statistic"
   ]
  },
  {
   "cell_type": "markdown",
   "metadata": {},
   "source": [
    "### 3.4. Augmented test for testing the exogeneity `log_fare` and `log_passengers_lag1`\n",
    "- Using  `F-test` for a joint linear hypothesis and `Wald test`: testing if a variable has not effect \n",
    "\n",
    "    - [WaldTestStatistic](https://bashtage.github.io/linearmodels/panel/results.html): hypothesis test examines whether 𝐻0: 𝐶𝜃=𝑣 where the matrix C is restriction and v is value. The test statistic has a 𝜒2𝑞 distribution where q is the number of rows in C. See the [Source code for linearmodels.panel.results](https://bashtage.github.io/linearmodels/_modules/linearmodels/panel/results.html#PanelEffectsResults)\n",
    "\n"
   ]
  },
  {
   "cell_type": "code",
   "execution_count": 70,
   "metadata": {},
   "outputs": [
    {
     "data": {
      "text/plain": [
       "<class 'statsmodels.stats.contrast.ContrastResults'>\n",
       "<F test: F=array([[4.89944779]]), p=0.02686793225105508, df_denom=8.49e+04, df_num=1>"
      ]
     },
     "execution_count": 70,
     "metadata": {},
     "output_type": "execute_result"
    }
   ],
   "source": [
    "# Augmented test for testing the exogeneity log_fare\n",
    "aug_residus = PanelOLS(panel_df.log_fare, panel_df[controls + dum_period[:-2]]).fit()\n",
    "\n",
    "panel_df['fare_resids'] = aug_residus.resids.values\n",
    "\n",
    "aug_wald = sm.OLS(panel_df.log_passengers, panel_df[['log_fare','fare_resids']+controls]).fit()\n",
    "\n",
    "H0_formula = '(fare_resids = 0)' # We can add namy variable as following: H0_formula = 'x2 = x3 = 0'\n",
    "aug_wald.f_test(H0_formula)"
   ]
  },
  {
   "cell_type": "code",
   "execution_count": 71,
   "metadata": {},
   "outputs": [
    {
     "data": {
      "text/html": [
       "<table class=\"simpletable\">\n",
       "<caption>OLS Regression Results</caption>\n",
       "<tr>\n",
       "  <th>Dep. Variable:</th>     <td>log_passengers</td>  <th>  R-squared:         </th>  <td>   0.489</td>  \n",
       "</tr>\n",
       "<tr>\n",
       "  <th>Model:</th>                   <td>OLS</td>       <th>  Adj. R-squared:    </th>  <td>   0.489</td>  \n",
       "</tr>\n",
       "<tr>\n",
       "  <th>Method:</th>             <td>Least Squares</td>  <th>  F-statistic:       </th>  <td>1.017e+04</td> \n",
       "</tr>\n",
       "<tr>\n",
       "  <th>Date:</th>             <td>Thu, 16 Jan 2020</td> <th>  Prob (F-statistic):</th>   <td>  0.00</td>   \n",
       "</tr>\n",
       "<tr>\n",
       "  <th>Time:</th>                 <td>17:33:21</td>     <th>  Log-Likelihood:    </th> <td>-1.0304e+05</td>\n",
       "</tr>\n",
       "<tr>\n",
       "  <th>No. Observations:</th>      <td> 84939</td>      <th>  AIC:               </th>  <td>2.061e+05</td> \n",
       "</tr>\n",
       "<tr>\n",
       "  <th>Df Residuals:</th>          <td> 84930</td>      <th>  BIC:               </th>  <td>2.062e+05</td> \n",
       "</tr>\n",
       "<tr>\n",
       "  <th>Df Model:</th>              <td>     8</td>      <th>                     </th>      <td> </td>     \n",
       "</tr>\n",
       "<tr>\n",
       "  <th>Covariance Type:</th>      <td>nonrobust</td>    <th>                     </th>      <td> </td>     \n",
       "</tr>\n",
       "</table>\n",
       "<table class=\"simpletable\">\n",
       "<tr>\n",
       "          <td></td>             <th>coef</th>     <th>std err</th>      <th>t</th>      <th>P>|t|</th>  <th>[0.025</th>    <th>0.975]</th>  \n",
       "</tr>\n",
       "<tr>\n",
       "  <th>log_fare</th>          <td>   -1.2436</td> <td>    0.074</td> <td>  -16.905</td> <td> 0.000</td> <td>   -1.388</td> <td>   -1.099</td>\n",
       "</tr>\n",
       "<tr>\n",
       "  <th>fare_resids</th>       <td>   -0.1642</td> <td>    0.074</td> <td>   -2.213</td> <td> 0.027</td> <td>   -0.310</td> <td>   -0.019</td>\n",
       "</tr>\n",
       "<tr>\n",
       "  <th>const</th>             <td>   -6.4879</td> <td>    0.419</td> <td>  -15.480</td> <td> 0.000</td> <td>   -7.309</td> <td>   -5.666</td>\n",
       "</tr>\n",
       "<tr>\n",
       "  <th>log_nsmiles</th>       <td>    0.6762</td> <td>    0.012</td> <td>   57.770</td> <td> 0.000</td> <td>    0.653</td> <td>    0.699</td>\n",
       "</tr>\n",
       "<tr>\n",
       "  <th>log_income_capita</th> <td>    0.9894</td> <td>    0.030</td> <td>   32.837</td> <td> 0.000</td> <td>    0.930</td> <td>    1.048</td>\n",
       "</tr>\n",
       "<tr>\n",
       "  <th>log_population</th>    <td>    0.0805</td> <td>    0.005</td> <td>   16.014</td> <td> 0.000</td> <td>    0.071</td> <td>    0.090</td>\n",
       "</tr>\n",
       "<tr>\n",
       "  <th>nb_airline</th>        <td>    0.3219</td> <td>    0.001</td> <td>  217.793</td> <td> 0.000</td> <td>    0.319</td> <td>    0.325</td>\n",
       "</tr>\n",
       "<tr>\n",
       "  <th>log_kjf_price</th>     <td>    0.0790</td> <td>    0.010</td> <td>    8.110</td> <td> 0.000</td> <td>    0.060</td> <td>    0.098</td>\n",
       "</tr>\n",
       "<tr>\n",
       "  <th>dum_dist</th>          <td>   -0.8248</td> <td>    0.031</td> <td>  -26.413</td> <td> 0.000</td> <td>   -0.886</td> <td>   -0.764</td>\n",
       "</tr>\n",
       "</table>\n",
       "<table class=\"simpletable\">\n",
       "<tr>\n",
       "  <th>Omnibus:</th>       <td>181.372</td> <th>  Durbin-Watson:     </th> <td>   0.387</td>\n",
       "</tr>\n",
       "<tr>\n",
       "  <th>Prob(Omnibus):</th> <td> 0.000</td>  <th>  Jarque-Bera (JB):  </th> <td> 170.488</td>\n",
       "</tr>\n",
       "<tr>\n",
       "  <th>Skew:</th>          <td> 0.084</td>  <th>  Prob(JB):          </th> <td>9.53e-38</td>\n",
       "</tr>\n",
       "<tr>\n",
       "  <th>Kurtosis:</th>      <td> 2.858</td>  <th>  Cond. No.          </th> <td>3.36e+03</td>\n",
       "</tr>\n",
       "</table><br/><br/>Warnings:<br/>[1] Standard Errors assume that the covariance matrix of the errors is correctly specified.<br/>[2] The condition number is large, 3.36e+03. This might indicate that there are<br/>strong multicollinearity or other numerical problems."
      ],
      "text/plain": [
       "<class 'statsmodels.iolib.summary.Summary'>\n",
       "\"\"\"\n",
       "                            OLS Regression Results                            \n",
       "==============================================================================\n",
       "Dep. Variable:         log_passengers   R-squared:                       0.489\n",
       "Model:                            OLS   Adj. R-squared:                  0.489\n",
       "Method:                 Least Squares   F-statistic:                 1.017e+04\n",
       "Date:                Thu, 16 Jan 2020   Prob (F-statistic):               0.00\n",
       "Time:                        17:33:21   Log-Likelihood:            -1.0304e+05\n",
       "No. Observations:               84939   AIC:                         2.061e+05\n",
       "Df Residuals:                   84930   BIC:                         2.062e+05\n",
       "Df Model:                           8                                         \n",
       "Covariance Type:            nonrobust                                         \n",
       "=====================================================================================\n",
       "                        coef    std err          t      P>|t|      [0.025      0.975]\n",
       "-------------------------------------------------------------------------------------\n",
       "log_fare             -1.2436      0.074    -16.905      0.000      -1.388      -1.099\n",
       "fare_resids          -0.1642      0.074     -2.213      0.027      -0.310      -0.019\n",
       "const                -6.4879      0.419    -15.480      0.000      -7.309      -5.666\n",
       "log_nsmiles           0.6762      0.012     57.770      0.000       0.653       0.699\n",
       "log_income_capita     0.9894      0.030     32.837      0.000       0.930       1.048\n",
       "log_population        0.0805      0.005     16.014      0.000       0.071       0.090\n",
       "nb_airline            0.3219      0.001    217.793      0.000       0.319       0.325\n",
       "log_kjf_price         0.0790      0.010      8.110      0.000       0.060       0.098\n",
       "dum_dist             -0.8248      0.031    -26.413      0.000      -0.886      -0.764\n",
       "==============================================================================\n",
       "Omnibus:                      181.372   Durbin-Watson:                   0.387\n",
       "Prob(Omnibus):                  0.000   Jarque-Bera (JB):              170.488\n",
       "Skew:                           0.084   Prob(JB):                     9.53e-38\n",
       "Kurtosis:                       2.858   Cond. No.                     3.36e+03\n",
       "==============================================================================\n",
       "\n",
       "Warnings:\n",
       "[1] Standard Errors assume that the covariance matrix of the errors is correctly specified.\n",
       "[2] The condition number is large, 3.36e+03. This might indicate that there are\n",
       "strong multicollinearity or other numerical problems.\n",
       "\"\"\""
      ]
     },
     "execution_count": 71,
     "metadata": {},
     "output_type": "execute_result"
    }
   ],
   "source": [
    "aug_wald.summary()"
   ]
  },
  {
   "cell_type": "code",
   "execution_count": 72,
   "metadata": {},
   "outputs": [
    {
     "data": {
      "text/plain": [
       "<class 'statsmodels.stats.contrast.ContrastResults'>\n",
       "<F test: F=array([[2443.03608375]]), p=0.0, df_denom=8.49e+04, df_num=1>"
      ]
     },
     "execution_count": 72,
     "metadata": {},
     "output_type": "execute_result"
    }
   ],
   "source": [
    "# Augmented test for testing the exogeneity log_passengers_lag1\n",
    "aug_residus = PanelOLS(panel_df.log_passengers_lag1, panel_df[controls + dum_period[:-2]]).fit()\n",
    "\n",
    "panel_df['pass_lag_resids'] = aug_residus.resids.values\n",
    "\n",
    "aug_wald = sm.OLS(panel_df.log_passengers, panel_df[['log_passengers_lag1','pass_lag_resids']+controls]).fit()\n",
    "\n",
    "H0_formula = '(pass_lag_resids = 0)' # We can add namy variable as following: H0_formula = 'x2 = x3 = 0'\n",
    "aug_wald.f_test(H0_formula)"
   ]
  },
  {
   "cell_type": "code",
   "execution_count": 73,
   "metadata": {},
   "outputs": [
    {
     "data": {
      "text/html": [
       "<table class=\"simpletable\">\n",
       "<caption>OLS Regression Results</caption>\n",
       "<tr>\n",
       "  <th>Dep. Variable:</th>     <td>log_passengers</td>  <th>  R-squared:         </th> <td>   0.937</td> \n",
       "</tr>\n",
       "<tr>\n",
       "  <th>Model:</th>                   <td>OLS</td>       <th>  Adj. R-squared:    </th> <td>   0.937</td> \n",
       "</tr>\n",
       "<tr>\n",
       "  <th>Method:</th>             <td>Least Squares</td>  <th>  F-statistic:       </th> <td>1.589e+05</td>\n",
       "</tr>\n",
       "<tr>\n",
       "  <th>Date:</th>             <td>Thu, 16 Jan 2020</td> <th>  Prob (F-statistic):</th>  <td>  0.00</td>  \n",
       "</tr>\n",
       "<tr>\n",
       "  <th>Time:</th>                 <td>17:33:21</td>     <th>  Log-Likelihood:    </th> <td> -13911.</td> \n",
       "</tr>\n",
       "<tr>\n",
       "  <th>No. Observations:</th>      <td> 84939</td>      <th>  AIC:               </th> <td>2.784e+04</td>\n",
       "</tr>\n",
       "<tr>\n",
       "  <th>Df Residuals:</th>          <td> 84930</td>      <th>  BIC:               </th> <td>2.792e+04</td>\n",
       "</tr>\n",
       "<tr>\n",
       "  <th>Df Model:</th>              <td>     8</td>      <th>                     </th>     <td> </td>    \n",
       "</tr>\n",
       "<tr>\n",
       "  <th>Covariance Type:</th>      <td>nonrobust</td>    <th>                     </th>     <td> </td>    \n",
       "</tr>\n",
       "</table>\n",
       "<table class=\"simpletable\">\n",
       "<tr>\n",
       "           <td></td>              <th>coef</th>     <th>std err</th>      <th>t</th>      <th>P>|t|</th>  <th>[0.025</th>    <th>0.975]</th>  \n",
       "</tr>\n",
       "<tr>\n",
       "  <th>log_passengers_lag1</th> <td>    0.4028</td> <td>    0.011</td> <td>   36.438</td> <td> 0.000</td> <td>    0.381</td> <td>    0.425</td>\n",
       "</tr>\n",
       "<tr>\n",
       "  <th>pass_lag_resids</th>     <td>    0.5490</td> <td>    0.011</td> <td>   49.427</td> <td> 0.000</td> <td>    0.527</td> <td>    0.571</td>\n",
       "</tr>\n",
       "<tr>\n",
       "  <th>const</th>               <td>   -6.5040</td> <td>    0.168</td> <td>  -38.788</td> <td> 0.000</td> <td>   -6.833</td> <td>   -6.175</td>\n",
       "</tr>\n",
       "<tr>\n",
       "  <th>log_nsmiles</th>         <td>    0.2969</td> <td>    0.006</td> <td>   52.129</td> <td> 0.000</td> <td>    0.286</td> <td>    0.308</td>\n",
       "</tr>\n",
       "<tr>\n",
       "  <th>log_income_capita</th>   <td>    0.4866</td> <td>    0.014</td> <td>   35.363</td> <td> 0.000</td> <td>    0.460</td> <td>    0.514</td>\n",
       "</tr>\n",
       "<tr>\n",
       "  <th>log_population</th>      <td>    0.0698</td> <td>    0.002</td> <td>   34.382</td> <td> 0.000</td> <td>    0.066</td> <td>    0.074</td>\n",
       "</tr>\n",
       "<tr>\n",
       "  <th>nb_airline</th>          <td>    0.1885</td> <td>    0.003</td> <td>   54.409</td> <td> 0.000</td> <td>    0.182</td> <td>    0.195</td>\n",
       "</tr>\n",
       "<tr>\n",
       "  <th>log_kjf_price</th>       <td>    0.0582</td> <td>    0.004</td> <td>   16.235</td> <td> 0.000</td> <td>    0.051</td> <td>    0.065</td>\n",
       "</tr>\n",
       "<tr>\n",
       "  <th>dum_dist</th>            <td>   -0.5187</td> <td>    0.015</td> <td>  -35.637</td> <td> 0.000</td> <td>   -0.547</td> <td>   -0.490</td>\n",
       "</tr>\n",
       "</table>\n",
       "<table class=\"simpletable\">\n",
       "<tr>\n",
       "  <th>Omnibus:</th>       <td>13333.792</td> <th>  Durbin-Watson:     </th>  <td>   2.595</td> \n",
       "</tr>\n",
       "<tr>\n",
       "  <th>Prob(Omnibus):</th>  <td> 0.000</td>   <th>  Jarque-Bera (JB):  </th> <td>178732.782</td>\n",
       "</tr>\n",
       "<tr>\n",
       "  <th>Skew:</th>           <td>-0.323</td>   <th>  Prob(JB):          </th>  <td>    0.00</td> \n",
       "</tr>\n",
       "<tr>\n",
       "  <th>Kurtosis:</th>       <td>10.077</td>   <th>  Cond. No.          </th>  <td>3.77e+03</td> \n",
       "</tr>\n",
       "</table><br/><br/>Warnings:<br/>[1] Standard Errors assume that the covariance matrix of the errors is correctly specified.<br/>[2] The condition number is large, 3.77e+03. This might indicate that there are<br/>strong multicollinearity or other numerical problems."
      ],
      "text/plain": [
       "<class 'statsmodels.iolib.summary.Summary'>\n",
       "\"\"\"\n",
       "                            OLS Regression Results                            \n",
       "==============================================================================\n",
       "Dep. Variable:         log_passengers   R-squared:                       0.937\n",
       "Model:                            OLS   Adj. R-squared:                  0.937\n",
       "Method:                 Least Squares   F-statistic:                 1.589e+05\n",
       "Date:                Thu, 16 Jan 2020   Prob (F-statistic):               0.00\n",
       "Time:                        17:33:21   Log-Likelihood:                -13911.\n",
       "No. Observations:               84939   AIC:                         2.784e+04\n",
       "Df Residuals:                   84930   BIC:                         2.792e+04\n",
       "Df Model:                           8                                         \n",
       "Covariance Type:            nonrobust                                         \n",
       "=======================================================================================\n",
       "                          coef    std err          t      P>|t|      [0.025      0.975]\n",
       "---------------------------------------------------------------------------------------\n",
       "log_passengers_lag1     0.4028      0.011     36.438      0.000       0.381       0.425\n",
       "pass_lag_resids         0.5490      0.011     49.427      0.000       0.527       0.571\n",
       "const                  -6.5040      0.168    -38.788      0.000      -6.833      -6.175\n",
       "log_nsmiles             0.2969      0.006     52.129      0.000       0.286       0.308\n",
       "log_income_capita       0.4866      0.014     35.363      0.000       0.460       0.514\n",
       "log_population          0.0698      0.002     34.382      0.000       0.066       0.074\n",
       "nb_airline              0.1885      0.003     54.409      0.000       0.182       0.195\n",
       "log_kjf_price           0.0582      0.004     16.235      0.000       0.051       0.065\n",
       "dum_dist               -0.5187      0.015    -35.637      0.000      -0.547      -0.490\n",
       "==============================================================================\n",
       "Omnibus:                    13333.792   Durbin-Watson:                   2.595\n",
       "Prob(Omnibus):                  0.000   Jarque-Bera (JB):           178732.782\n",
       "Skew:                          -0.323   Prob(JB):                         0.00\n",
       "Kurtosis:                      10.077   Cond. No.                     3.77e+03\n",
       "==============================================================================\n",
       "\n",
       "Warnings:\n",
       "[1] Standard Errors assume that the covariance matrix of the errors is correctly specified.\n",
       "[2] The condition number is large, 3.77e+03. This might indicate that there are\n",
       "strong multicollinearity or other numerical problems.\n",
       "\"\"\""
      ]
     },
     "execution_count": 73,
     "metadata": {},
     "output_type": "execute_result"
    }
   ],
   "source": [
    "aug_wald.summary()"
   ]
  },
  {
   "cell_type": "markdown",
   "metadata": {},
   "source": [
    "### 4. Instrumenting using two-stage least squares (IV method)\n",
    "> - endog is the dependent variable, y\n",
    "- exog is the x matrix that has the endogenous information in it. Include the endogenous variables in it.\n",
    "instrument is the z matrix. Include all the variables that are not endogenous and replace the endogenous variables from the exog matrix (above) with what ever instruments you choose for them.\n",
    "\n",
    "- First stage: we regress the endogenous variable (`log_fare`, `log_passengers_lag1` respectively) on all other regressors and all the instruments and save the fitted values series.\n",
    "- Second Stage: We regress the previous replacing, `log_fare`, by `log_fare_hat` (and `log_passengers_lag1` by `pass_lag_hat` respectively)"
   ]
  },
  {
   "cell_type": "code",
   "execution_count": 74,
   "metadata": {},
   "outputs": [],
   "source": [
    "controls = ['const','log_passengers_lag1','log_nsmiles','log_income_capita','log_population','nb_airline',\n",
    "            'log_kjf_price','dum_dist']\n",
    "\n",
    "instruements = ['log_income_capita_dif1','log_population_dif1','nb_airline_dif1',\n",
    "                'log_income_capita_dif2','log_population_dif2','nb_airline_dif2']\n",
    "\n",
    "# log_fare as reponse variable\n",
    "iv_1stage1 = PanelOLS(panel_df[['log_fare']], panel_df[controls+instruements+dum_period[:-2]]).fit()\n",
    "\n",
    "# Fitted value of previous variables\n",
    "panel_df['fare_hat'] = iv_1stage1.predict()\n",
    "\n",
    "# OLS regression using the fitted values\n",
    "iv_2stage1 = PanelOLS(panel_df[['log_passengers']], panel_df[['fare_hat']+controls+dum_period[:-2]]).fit()\n",
    "\n",
    "#print(iv_2stage1.summary)"
   ]
  },
  {
   "cell_type": "code",
   "execution_count": 75,
   "metadata": {},
   "outputs": [],
   "source": [
    "controls = ['const','log_fare','log_nsmiles','log_income_capita','log_population','nb_airline',\n",
    "            'log_kjf_price','dum_dist']\n",
    "\n",
    "# log_passengers_lag1 as reponse variable\n",
    "iv_1stage2 = PanelOLS(panel_df[['log_passengers_lag1']], panel_df[controls+instruements+dum_period[:-2]]).fit()\n",
    "\n",
    "# Fitted value of previous variables\n",
    "panel_df['pass_lag_hat'] = iv_1stage2.predict()\n",
    "\n",
    "# OLS regression using the fitted values\n",
    "iv_2stage2 = PanelOLS(panel_df[['log_passengers']], panel_df[['pass_lag_hat']+controls+dum_period[:-2]]).fit()\n",
    "\n",
    "#print(iv_2stage2.summary)"
   ]
  },
  {
   "cell_type": "code",
   "execution_count": 76,
   "metadata": {},
   "outputs": [
    {
     "name": "stdout",
     "output_type": "stream",
     "text": [
      "                          PanelOLS Estimation Summary                           \n",
      "================================================================================\n",
      "Dep. Variable:         log_passengers   R-squared:                        0.9114\n",
      "Estimator:                   PanelOLS   R-squared (Between):              0.9720\n",
      "No. Observations:               84939   R-squared (Within):              -0.5581\n",
      "Date:                Thu, Jan 16 2020   R-squared (Overall):              0.9114\n",
      "Time:                        17:33:23   Log-likelihood                -2.865e+04\n",
      "Cov. Estimator:            Unadjusted                                           \n",
      "                                        F-statistic:                   2.425e+04\n",
      "Entities:                        4578   P-value                           0.0000\n",
      "Avg Obs:                       18.554   Distribution:                F(36,84902)\n",
      "Min Obs:                       1.0000                                           \n",
      "Max Obs:                       30.000   F-statistic (robust):          2.425e+04\n",
      "                                        P-value                           0.0000\n",
      "Time periods:                      30   Distribution:                F(36,84902)\n",
      "Avg Obs:                       2831.3                                           \n",
      "Min Obs:                       2231.0                                           \n",
      "Max Obs:                       3010.0                                           \n",
      "                                                                                \n",
      "                                 Parameter Estimates                                 \n",
      "=====================================================================================\n",
      "                   Parameter  Std. Err.     T-stat    P-value    Lower CI    Upper CI\n",
      "-------------------------------------------------------------------------------------\n",
      "fare_hat             -5.7510     0.0096    -600.16     0.0000     -5.7698     -5.7322\n",
      "pass_lag_hat          0.3460     0.0027     128.67     0.0000      0.3408      0.3513\n",
      "const                 16.260     0.5130     31.693     0.0000      15.254      17.266\n",
      "log_nsmiles           1.1686     0.0030     386.41     0.0000      1.1627      1.1745\n",
      "log_income_capita     0.8326     0.0136     61.136     0.0000      0.8059      0.8593\n",
      "log_population       -0.0678     0.0019    -34.879     0.0000     -0.0716     -0.0640\n",
      "nb_airline            0.2484     0.0010     238.65     0.0000      0.2463      0.2504\n",
      "log_kjf_price         0.3231     0.0940     3.4361     0.0006      0.1388      0.5073\n",
      "dum_dist             -0.3309     0.0132    -25.141     0.0000     -0.3567     -0.3051\n",
      "dum_20104            -0.7801     0.0229    -34.053     0.0000     -0.8250     -0.7352\n",
      "dum_20111            -0.4962     0.0358    -13.868     0.0000     -0.5663     -0.4261\n",
      "dum_20112            -0.2232     0.0485    -4.6062     0.0000     -0.3182     -0.1282\n",
      "dum_20113            -0.3690     0.0453    -8.1533     0.0000     -0.4577     -0.2803\n",
      "dum_20114            -0.2889     0.0439    -6.5848     0.0000     -0.3749     -0.2029\n",
      "dum_20121            -0.2092     0.0488    -4.2831     0.0000     -0.3049     -0.1135\n",
      "dum_20122             0.0719     0.0437     1.6430     0.1004     -0.0139      0.1576\n",
      "dum_20123            -0.1912     0.0431    -4.4320     0.0000     -0.2757     -0.1066\n",
      "dum_20124            -0.1962     0.0433    -4.5311     0.0000     -0.2810     -0.1113\n",
      "dum_20131            -0.0456     0.0459    -0.9937     0.3203     -0.1355      0.0443\n",
      "dum_20132             0.0399     0.0360     1.1066     0.2685     -0.0307      0.1104\n",
      "dum_20133             0.1013     0.0390     2.5998     0.0093      0.0249      0.1777\n",
      "dum_20134            -0.0473     0.0379    -1.2479     0.2121     -0.1216      0.0270\n",
      "dum_20141            -0.0535     0.0400    -1.3350     0.1819     -0.1320      0.0250\n",
      "dum_20142             0.2319     0.0392     5.9140     0.0000      0.1550      0.3087\n",
      "dum_20143             0.1737     0.0383     4.5298     0.0000      0.0985      0.2489\n",
      "dum_20144             0.1106     0.0232     4.7575     0.0000      0.0650      0.1562\n",
      "dum_20151             0.2752     0.0119     23.094     0.0000      0.2518      0.2986\n",
      "dum_20152             0.3496     0.0081     42.904     0.0000      0.3336      0.3656\n",
      "dum_20153             0.3208     0.0155     20.748     0.0000      0.2905      0.3511\n",
      "dum_20154             0.1987     0.0283     7.0182     0.0000      0.1432      0.2541\n",
      "dum_20161             0.3290     0.0543     6.0595     0.0000      0.2226      0.4354\n",
      "dum_20162             0.3000     0.0376     7.9820     0.0000      0.2263      0.3737\n",
      "dum_20163             0.1094     0.0306     3.5775     0.0003      0.0495      0.1693\n",
      "dum_20164             0.0544     0.0248     2.1958     0.0281      0.0058      0.1029\n",
      "dum_20171             0.1155     0.0175     6.5981     0.0000      0.0812      0.1498\n",
      "dum_20172             0.3319     0.0233     14.228     0.0000      0.2861      0.3776\n",
      "dum_20173            -0.0229     0.0181    -1.2629     0.2066     -0.0584      0.0126\n",
      "=====================================================================================\n",
      "\n",
      "\n"
     ]
    }
   ],
   "source": [
    "# OLS regression using the two fitted values of `fare_hat` and `pass_lag_hat`\n",
    "controls = ['const','log_nsmiles','log_income_capita','log_population','nb_airline',\n",
    "            'log_kjf_price','dum_dist']\n",
    "\n",
    "iv_2stage = PanelOLS(panel_df[['log_passengers']], panel_df[['fare_hat','pass_lag_hat']+controls+dum_period[:-2]]).fit()\n",
    "\n",
    "print(iv_2stage.summary)"
   ]
  },
  {
   "cell_type": "markdown",
   "metadata": {},
   "source": [
    "As you can see, we have same results either using IV or `Two Stage Least Squares` method.\n",
    "==> Our instruments are valide."
   ]
  },
  {
   "cell_type": "code",
   "execution_count": null,
   "metadata": {},
   "outputs": [],
   "source": []
  },
  {
   "cell_type": "markdown",
   "metadata": {},
   "source": [
    "## [Homoskedasticity](https://en.wikipedia.org/wiki/Homoscedasticity) - [Heteroskedasticity](https://en.wikipedia.org/wiki/Heteroscedasticity) test\n",
    "The homoscedasticity hypothesis implies that the variance of the errors are equal:\n",
    "\\begin{equation*} 𝑉(𝜀|𝑋) = 𝜎^2𝐼 \\end{equation*}\n",
    "\\begin{equation*} H_0: \\sigma^2_i = \\sigma^2 \\end{equation*}"
   ]
  },
  {
   "cell_type": "code",
   "execution_count": 77,
   "metadata": {},
   "outputs": [],
   "source": [
    "from statsmodels.stats.diagnostic import het_breuschpagan\n",
    "from statsmodels.stats.diagnostic import het_white\n"
   ]
  },
  {
   "cell_type": "code",
   "execution_count": 78,
   "metadata": {},
   "outputs": [],
   "source": [
    "controls = ['const','log_nsmiles','log_income_capita','log_population','nb_airline',\n",
    "            'log_kjf_price','dum_dist']\n",
    "\n",
    "instruements = ['log_nsmiles_dif1','log_income_capita_dif1','log_population_dif1','nb_airline_dif1',\n",
    "                'log_fare_dif1','log_fare_dif2','log_passengers_dif2',\n",
    "                'log_nsmiles_dif2','log_income_capita_dif2','log_population_dif2','nb_airline_dif2']\n",
    "\n",
    "iv2LSmodel = IV2SLS(panel_df['log_passengers'], \n",
    "                    panel_df[controls+dum_period[:-2]], \n",
    "                    panel_df[['log_fare','log_passengers_lag1']], panel_df[instruements]).fit()\n"
   ]
  },
  {
   "cell_type": "markdown",
   "metadata": {},
   "source": [
    "### Breusch–Pagan test\n",
    "$y$ = $\\beta_0+\\beta_1x+µ$  \n",
    "$\\hat{µ}^2$ = $\\rho_0+\\rho_1x+𝑣$\n",
    "- Breusch–Pagan test using `python library`\n",
    "- Breusch–Pagan test computed manually (using two methods)"
   ]
  },
  {
   "cell_type": "code",
   "execution_count": 79,
   "metadata": {},
   "outputs": [
    {
     "name": "stdout",
     "output_type": "stream",
     "text": [
      "Lagrange multiplier statistic: 1546.8418511067011 \n",
      "P_value: 1.024852768184934e-303\n",
      "f-value: 46.32014760198499 \n",
      "fP_value: 1.1286476291363389e-306\n"
     ]
    }
   ],
   "source": [
    "bp_test = het_breuschpagan(iv2LSmodel.resids, iv2LSmodel.model.exog.original)\n",
    "\n",
    "print('Lagrange multiplier statistic: {} \\nP_value: {}\\nf-value: {} \\nfP_value: {}'.format(bp_test[0], bp_test[1],\n",
    "                                                                                           bp_test[2], bp_test[3]))"
   ]
  },
  {
   "cell_type": "code",
   "execution_count": 80,
   "metadata": {},
   "outputs": [
    {
     "name": "stdout",
     "output_type": "stream",
     "text": [
      "Model F-statistic (homoskedastic)\n",
      "H0: All parameters ex. constant not zero\n",
      "Statistic: 46.3201\n",
      "P-value: 0.0000\n",
      "Distributed: F(34,84904)\n",
      "\n",
      "We rejected H0: the null hypothesis of homoskedasticity. So, we have `heteroskedasticity`.\n"
     ]
    }
   ],
   "source": [
    "\"\"\"\n",
    "https://en.wikipedia.org/wiki/Breusch–Pagan_test\n",
    "If the test statistic has a p-value below an appropriate threshold (e.g. p < 0.05) \n",
    "then the null hypothesis of homoskedasticity is rejected and heteroskedasticity assumed.\n",
    "\"\"\"\n",
    "panel_df['iv2_resids2'] = (iv2LSmodel.resids.values)**2\n",
    "\n",
    "het_breuschpagan = PanelOLS(panel_df.iv2_resids2, panel_df[controls+dum_period[:-2]]).fit()\n",
    "\n",
    "fval = het_breuschpagan.f_statistic\n",
    "fpval = het_breuschpagan.pvalues\n",
    "\n",
    "if round(fval.pval,3) < 0.05:\n",
    "    BreuschPagan_H0 = \"We rejected H0: the null hypothesis of homoskedasticity. So, we have `heteroskedasticity`.\"\n",
    "else:\n",
    "    BreuschPagan_H0 = \"We don't rejected H0: the null hypothesis of homoskedasticity\"\n",
    "\n",
    "print(fval)\n",
    "print()\n",
    "print(BreuschPagan_H0)"
   ]
  },
  {
   "cell_type": "code",
   "execution_count": 81,
   "metadata": {},
   "outputs": [
    {
     "name": "stdout",
     "output_type": "stream",
     "text": [
      "1546.8418511066918\n"
     ]
    }
   ],
   "source": [
    "het_bp = PanelOLS(panel_df.iv2_resids2, panel_df[controls+dum_period[:-2]]).fit()\n",
    "\n",
    "het_bp_pred = het_bp.predict(panel_df[controls+dum_period[:-2]])\n",
    "r_square = r2_score(panel_df.iv2_resids2, het_bp_pred)\n",
    "\n",
    "m = len(controls+dum_period[:-2])\n",
    "\n",
    "nobs = het_bp.nobs\n",
    "q_het_bp = nobs*r_square\n",
    "print(q_het_bp)"
   ]
  },
  {
   "cell_type": "markdown",
   "metadata": {},
   "source": [
    "The value of `Khi-2` with m (number of regressors degrees of freedom (`37`) is `61.581`. Hence, we reject the null hypothesis."
   ]
  },
  {
   "cell_type": "markdown",
   "metadata": {},
   "source": [
    "### White test\n",
    "$\\hat{µ}^2$ = $δ_{0}+δ_{1}x_{1}+…+δ_{k}x_{k}+λ_{1}x_{1}^{2}+…+λ_{k}x_{k}^{2}+φ_{1}x_{1}x_{2}+…+φ_{k-1}x_{k-1}x_{k}+ν$\n",
    "\n",
    "\n",
    "> According to [Takashi Yamano](http://www3.grips.ac.jp/~yamanota/Lecture%20Note%208%20to%2010%202SLS%20&%20others.pdf) (P.22), \"because $\\hat{y}$ includes all independent variables, this test is equivalent of conducting the following test\":  \n",
    "\n",
    "$\\hat{µ}^2$ =  $δ_{0}+δ_{1}\\hat{y}+δ_{1}\\hat{y}^{2}+ν$\n",
    "\n",
    "- White test using `python library`\n",
    "- White test computed manually (using $\\hat{µ}^2$ =  $δ_{0}+δ_{1}\\hat{y}+δ_{1}\\hat{y}^{2}+ν$ equation)\n"
   ]
  },
  {
   "cell_type": "code",
   "execution_count": 82,
   "metadata": {},
   "outputs": [
    {
     "name": "stdout",
     "output_type": "stream",
     "text": [
      "Lagrange multiplier statistic: 2719.105235193545 \n",
      "P_value: 0.0\n",
      "f-value: 14.521312596813639 \n",
      "fP_value: 0.0\n"
     ]
    }
   ],
   "source": [
    "#name = ['Lagrange multiplier statistic', 'P_value','f-value','fP_value']\n",
    "white_test = het_white(iv2LSmodel.resids, iv2LSmodel.model.exog.original)\n",
    "\n",
    "print('Lagrange multiplier statistic: {} \\nP_value: {}\\nf-value: {} \\nfP_value: {}'.format(white_test[0], white_test[1],\n",
    "                                                                                           white_test[2], white_test[3]))"
   ]
  },
  {
   "cell_type": "code",
   "execution_count": 83,
   "metadata": {},
   "outputs": [
    {
     "name": "stdout",
     "output_type": "stream",
     "text": [
      "Model F-statistic (homoskedastic)\n",
      "H0: All parameters ex. constant not zero\n",
      "Statistic: 7233.2090\n",
      "P-value: 0.0000\n",
      "Distributed: F(2,84937)\n",
      "\n",
      "We rejected H0: the null hypothesis of homoskedasticity, so we have `heteroskedasticity` in our model.\n"
     ]
    }
   ],
   "source": [
    "# Method 1 # https://www.dummies.com/education/economics/econometrics/test-for-heteroskedasticity-with-the-white-test/\n",
    "y_hat, y_hat_2 = iv2LSmodel.fitted_values, iv2LSmodel.fitted_values**2\n",
    "square_resids = (iv2LSmodel.resids)**2\n",
    "\n",
    "iv_hat = pd.concat([y_hat, y_hat_2,square_resids], axis=1)\n",
    "\n",
    "iv_hat.columns = ['y_hat','y_hat_2','resids2']\n",
    "\n",
    "het_white = PanelOLS(iv_hat.resids2, iv_hat[['y_hat','y_hat_2']]).fit()\n",
    "\n",
    "fval = het_white.f_statistic\n",
    "fpval = het_white.pvalues\n",
    "\n",
    "if round(fval.pval,3) < 0.05:\n",
    "    White_H0 = \"We rejected H0: the null hypothesis of homoskedasticity, so we have `heteroskedasticity` in our model.\"\n",
    "else:\n",
    "    White_H0 = \"We don't rejected H0: the null hypothesis of homoskedasticity\"\n",
    "\n",
    "print(fval)\n",
    "print()\n",
    "print(White_H0)"
   ]
  },
  {
   "cell_type": "code",
   "execution_count": null,
   "metadata": {},
   "outputs": [],
   "source": []
  },
  {
   "cell_type": "code",
   "execution_count": null,
   "metadata": {},
   "outputs": [],
   "source": []
  },
  {
   "cell_type": "code",
   "execution_count": 84,
   "metadata": {},
   "outputs": [],
   "source": [
    "controls = ['const','log_nsmiles','log_income_capita','log_population','nb_airline',\n",
    "            'log_kjf_price','dum_dist']\n",
    "\n",
    "instruements = ['log_nsmiles_dif1','log_income_capita_dif1','log_population_dif1','nb_airline_dif1',\n",
    "                'log_fare_dif1','log_fare_dif2','log_passengers_dif2',\n",
    "                'log_nsmiles_dif2','log_income_capita_dif2','log_population_dif2','nb_airline_dif2']\n",
    "\n",
    "iv2LSmodel = IV2SLS(panel_df['log_passengers'], \n",
    "                    panel_df[controls+dum_period[:-2]], \n",
    "                    panel_df[['log_fare','log_passengers_lag1']], panel_df[instruements]).fit()\n"
   ]
  },
  {
   "cell_type": "code",
   "execution_count": 85,
   "metadata": {},
   "outputs": [
    {
     "data": {
      "image/png": "[encoded data removed]",
      "text/plain": [
       "<Figure size 864x576 with 1 Axes>"
      ]
     },
     "metadata": {
      "needs_background": "light"
     },
     "output_type": "display_data"
    }
   ],
   "source": [
    "fig, ax = plt.subplots(figsize=(12,8))\n",
    "\n",
    "a = plt.axes(aspect='equal')\n",
    "plt.scatter(panel_df.log_passengers.values, iv2LSmodel.predict().values, alpha=.007, c='b')\n",
    "plt.xlabel('True Values [log_passengers]')\n",
    "plt.ylabel('IV Predictions [log_passengers]')\n",
    "\n",
    "lims = [panel_df.log_passengers.min(), panel_df.log_passengers.max()]\n",
    "plt.xlim(lims)\n",
    "plt.ylim(lims)\n",
    "_ = plt.plot(lims, lims, c='r')\n"
   ]
  },
  {
   "cell_type": "code",
   "execution_count": 86,
   "metadata": {},
   "outputs": [
    {
     "data": {
      "text/plain": [
       "<function matplotlib.pyplot.show(*args, **kw)>"
      ]
     },
     "execution_count": 86,
     "metadata": {},
     "output_type": "execute_result"
    },
    {
     "data": {
      "image/png": "[encoded data removed]",
      "text/plain": [
       "<Figure size 864x576 with 1 Axes>"
      ]
     },
     "metadata": {
      "needs_background": "light"
     },
     "output_type": "display_data"
    }
   ],
   "source": [
    "fig, ax = plt.subplots(figsize=(12, 8))\n",
    "\n",
    "sns.distplot(iv2LSmodel.resids, bins=200, hist=True, kde='gaussian', color='b', ax=ax, norm_hist=True)\n",
    "sns.distplot(iv2LSmodel.resids, bins=200, hist=False, kde='kernel', color='r', ax=ax, norm_hist=True)\n",
    "ax.set_title(\"IV Residuals Plot\", fontsize=27)\n",
    "ax.set_xlim(-1.5,1.5)\n",
    "ax.set_xlabel('IV Residuals', fontsize=20)\n",
    "\n",
    "plt.show"
   ]
  },
  {
   "cell_type": "code",
   "execution_count": null,
   "metadata": {},
   "outputs": [],
   "source": []
  },
  {
   "cell_type": "markdown",
   "metadata": {},
   "source": [
    "## GMM Estimation\n",
    "> GMM estimation can be more efficient than 2SLS when there are more than one instrument. By default, 2-step efficient GMM is used (assuming the weighting matrix is correctly specified). It is possible to iterate until convergence using the optional keyword input iter_limit, which is naturally 2 by default. Generally, GMM-CUE would be preferred to using multiple iterations of standard GMM. Source: [linearmodels 4.5](https://bashtage.github.io/linearmodels/doc/iv/examples/advanced-examples.html)\n",
    "\n",
    "### Parameters\n",
    "- According to the [linearmodels 4.5](https://bashtage.github.io/linearmodels/doc/iv/examples/advanced-examples.html) \"available GMM weight functions are:\n",
    "    - `unadjusted`, 'homoskedastic' - Assumes moment conditions are homoskedastic\n",
    "    - `robust`, 'heteroskedastic' - Allows for heteroskedasticity by not autocorrelation\n",
    "    - `kernel` - Allows for heteroskedasticity and autocorrelation\n",
    "    - `cluster` - Allows for one-way cluster dependence\"\n",
    "- As we have heteroskedasticity and autocorrelation, we use the **`kernel`** option ==>\n",
    "    - Kernel (HAC)\n",
    "    - Kernel: bartlett"
   ]
  },
  {
   "cell_type": "code",
   "execution_count": 87,
   "metadata": {},
   "outputs": [
    {
     "name": "stdout",
     "output_type": "stream",
     "text": [
      "                          IV-GMM Estimation Summary                           \n",
      "==============================================================================\n",
      "Dep. Variable:         log_passengers   R-squared:                      0.9308\n",
      "Estimator:                     IV-GMM   Adj. R-squared:                 0.9308\n",
      "No. Observations:               84939   F-statistic:                 7.082e+05\n",
      "Date:                Thu, Jan 16 2020   P-value (F-stat)                0.0000\n",
      "Time:                        17:33:38   Distribution:                 chi2(36)\n",
      "Cov. Estimator:                robust                                         \n",
      "                                                                              \n",
      "                                  Parameter Estimates                                  \n",
      "=======================================================================================\n",
      "                     Parameter  Std. Err.     T-stat    P-value    Lower CI    Upper CI\n",
      "---------------------------------------------------------------------------------------\n",
      "const                   7.3589     0.4639     15.863     0.0000      6.4497      8.2682\n",
      "log_nsmiles             0.1462     0.0042     34.516     0.0000      0.1379      0.1545\n",
      "log_income_capita       0.1455     0.0143     10.180     0.0000      0.1174      0.1735\n",
      "log_population          0.0056     0.0018     3.1815     0.0015      0.0022      0.0091\n",
      "nb_airline              0.0478     0.0012     39.374     0.0000      0.0454      0.0502\n",
      "log_kjf_price          -1.2150     0.0833    -14.580     0.0000     -1.3783     -1.0517\n",
      "dum_dist               -0.1075     0.0128    -8.3941     0.0000     -0.1326     -0.0824\n",
      "dum_20104               0.2445     0.0204     11.966     0.0000      0.2045      0.2846\n",
      "dum_20111               0.3431     0.0317     10.841     0.0000      0.2811      0.4051\n",
      "dum_20112               0.7954     0.0429     18.525     0.0000      0.7112      0.8795\n",
      "dum_20113               0.5731     0.0401     14.307     0.0000      0.4946      0.6516\n",
      "dum_20114               0.5327     0.0388     13.731     0.0000      0.4566      0.6087\n",
      "dum_20121               0.5785     0.0432     13.398     0.0000      0.4939      0.6631\n",
      "dum_20122               0.7406     0.0387     19.142     0.0000      0.6647      0.8164\n",
      "dum_20123               0.5405     0.0382     14.168     0.0000      0.4658      0.6153\n",
      "dum_20124               0.5567     0.0383     14.530     0.0000      0.4816      0.6318\n",
      "dum_20131               0.5419     0.0406     13.362     0.0000      0.4624      0.6214\n",
      "dum_20132               0.6506     0.0319     20.418     0.0000      0.5881      0.7130\n",
      "dum_20133               0.5075     0.0344     14.744     0.0000      0.4400      0.5749\n",
      "dum_20134               0.5179     0.0335     15.465     0.0000      0.4523      0.5836\n",
      "dum_20141               0.4641     0.0354     13.105     0.0000      0.3947      0.5335\n",
      "dum_20142               0.7024     0.0347     20.268     0.0000      0.6345      0.7703\n",
      "dum_20143               0.5227     0.0338     15.456     0.0000      0.4564      0.5890\n",
      "dum_20144               0.3048     0.0204     14.917     0.0000      0.2647      0.3448\n",
      "dum_20151              -0.1572     0.0107    -14.734     0.0000     -0.1781     -0.1363\n",
      "dum_20152               0.1621     0.0079     20.456     0.0000      0.1466      0.1776\n",
      "dum_20153              -0.1173     0.0137    -8.5337     0.0000     -0.1442     -0.0903\n",
      "dum_20154              -0.3218     0.0251    -12.798     0.0000     -0.3711     -0.2725\n",
      "dum_20161              -0.7467     0.0483    -15.469     0.0000     -0.8414     -0.6521\n",
      "dum_20162              -0.2807     0.0337    -8.3378     0.0000     -0.3467     -0.2147\n",
      "dum_20163              -0.3669     0.0272    -13.498     0.0000     -0.4202     -0.3136\n",
      "dum_20164              -0.2764     0.0220    -12.562     0.0000     -0.3196     -0.2333\n",
      "dum_20171              -0.2442     0.0156    -15.657     0.0000     -0.2747     -0.2136\n",
      "dum_20172              -0.1053     0.0210    -5.0172     0.0000     -0.1464     -0.0642\n",
      "dum_20173              -0.2087     0.0163    -12.763     0.0000     -0.2407     -0.1766\n",
      "log_fare               -0.5807     0.0217    -26.789     0.0000     -0.6232     -0.5382\n",
      "log_passengers_lag1     0.8719     0.0035     249.19     0.0000      0.8650      0.8788\n",
      "=======================================================================================\n",
      "\n",
      "Endogenous: log_fare, log_passengers_lag1\n",
      "Instruments: log_nsmiles_dif1, log_income_capita_dif1, log_population_dif1, nb_airline_dif1, log_fare_dif1, log_fare_dif2, log_passengers_dif2, log_nsmiles_dif2, log_income_capita_dif2, log_population_dif2, nb_airline_dif2\n",
      "GMM Covariance\n",
      "Debiased: False\n",
      "Robust (Heteroskedastic)\n"
     ]
    }
   ],
   "source": [
    "controls = ['const','log_nsmiles','log_income_capita','log_population','nb_airline',\n",
    "            'log_kjf_price','dum_dist']\n",
    "\n",
    "instruements = ['log_nsmiles_dif1','log_income_capita_dif1','log_population_dif1','nb_airline_dif1',\n",
    "                'log_fare_dif1','log_fare_dif2','log_passengers_dif2',\n",
    "                'log_nsmiles_dif2','log_income_capita_dif2','log_population_dif2','nb_airline_dif2']\n",
    "\n",
    "ivgmmmodel = IVGMM(panel_df['log_passengers'],\n",
    "                   panel_df[controls + dum_period[:-2]],\n",
    "                   panel_df[['log_fare','log_passengers_lag1']],\n",
    "                   panel_df[instruements]).fit(cov_type='robust')\n",
    "\n",
    "print(ivgmmmodel.summary)"
   ]
  },
  {
   "cell_type": "code",
   "execution_count": 88,
   "metadata": {},
   "outputs": [
    {
     "data": {
      "text/plain": [
       "H0: Expected moment conditions are equal to 0\n",
       "Statistic: 2358.0999\n",
       "P-value: 0.0000\n",
       "Distributed: chi2(9)\n",
       "WaldTestStatistic, id: 0x1c99019438"
      ]
     },
     "execution_count": 88,
     "metadata": {},
     "output_type": "execute_result"
    }
   ],
   "source": [
    "ivgmmmodel.j_stat"
   ]
  },
  {
   "cell_type": "markdown",
   "metadata": {},
   "source": [
    "## Testing Autocorrelation\n",
    "The regression residuals are not autocorrelated ? See [reference](https://www.statsmodels.org/stable/diagnostic.html)"
   ]
  },
  {
   "cell_type": "code",
   "execution_count": 89,
   "metadata": {},
   "outputs": [],
   "source": [
    "from statsmodels.stats.diagnostic import acorr_ljungbox\n",
    "from statsmodels.stats.diagnostic import acorr_breusch_godfrey\n"
   ]
  },
  {
   "cell_type": "markdown",
   "metadata": {},
   "source": [
    "### 1. Ljung-Box test for no autocorrelation"
   ]
  },
  {
   "cell_type": "code",
   "execution_count": 90,
   "metadata": {},
   "outputs": [],
   "source": [
    "ljungbox_test = acorr_ljungbox(ivgmmmodel.resids.values)"
   ]
  },
  {
   "cell_type": "code",
   "execution_count": 91,
   "metadata": {},
   "outputs": [
    {
     "data": {
      "text/plain": [
       "(array([1.15293636e+01, 4.54944455e+02, 2.48782688e+03, 2.03086009e+04,\n",
       "        2.07280083e+04, 2.15544809e+04, 2.24086416e+04, 3.17374584e+04,\n",
       "        3.24324450e+04, 3.27693461e+04, 3.33170271e+04, 3.93500454e+04,\n",
       "        3.98010636e+04, 4.00625212e+04, 4.06359515e+04, 4.41141296e+04,\n",
       "        4.43766087e+04, 4.47821189e+04, 4.51244342e+04, 4.70011239e+04,\n",
       "        4.73350413e+04, 4.76908188e+04, 4.79200411e+04, 4.91149482e+04,\n",
       "        4.93517658e+04, 4.97202113e+04, 4.99421637e+04, 5.04307818e+04,\n",
       "        5.07264813e+04, 5.11087428e+04, 5.13670859e+04, 5.16402707e+04,\n",
       "        5.19073299e+04, 5.22608622e+04, 5.24778985e+04, 5.28599171e+04,\n",
       "        5.30186457e+04, 5.33943079e+04, 5.35771374e+04, 5.39014563e+04]),\n",
       " array([6.85054621e-04, 1.62205962e-99, 0.00000000e+00, 0.00000000e+00,\n",
       "        0.00000000e+00, 0.00000000e+00, 0.00000000e+00, 0.00000000e+00,\n",
       "        0.00000000e+00, 0.00000000e+00, 0.00000000e+00, 0.00000000e+00,\n",
       "        0.00000000e+00, 0.00000000e+00, 0.00000000e+00, 0.00000000e+00,\n",
       "        0.00000000e+00, 0.00000000e+00, 0.00000000e+00, 0.00000000e+00,\n",
       "        0.00000000e+00, 0.00000000e+00, 0.00000000e+00, 0.00000000e+00,\n",
       "        0.00000000e+00, 0.00000000e+00, 0.00000000e+00, 0.00000000e+00,\n",
       "        0.00000000e+00, 0.00000000e+00, 0.00000000e+00, 0.00000000e+00,\n",
       "        0.00000000e+00, 0.00000000e+00, 0.00000000e+00, 0.00000000e+00,\n",
       "        0.00000000e+00, 0.00000000e+00, 0.00000000e+00, 0.00000000e+00]))"
      ]
     },
     "execution_count": 91,
     "metadata": {},
     "output_type": "execute_result"
    }
   ],
   "source": [
    "ljungbox_test"
   ]
  },
  {
   "cell_type": "markdown",
   "metadata": {},
   "source": [
    "### 2.  Breusch Godfrey test for no autocorrelation of residuals"
   ]
  },
  {
   "cell_type": "code",
   "execution_count": 92,
   "metadata": {},
   "outputs": [],
   "source": [
    "from statsmodels.tsa.tsatools import lagmat\n",
    "from statsmodels.regression.linear_model import OLS\n",
    "from scipy import stats\n",
    "name = ['Lagrange multiplier statistic:','Lagrange multiplier P-value:','f_statistic for F test:','P-value for F test:']"
   ]
  },
  {
   "cell_type": "markdown",
   "metadata": {},
   "source": [
    "### 2.1.  Breusch Godfrey test using GMM results: \n",
    "- The following function return the  Breusch Godfrey test. For more details refere to the red lines"
   ]
  },
  {
   "cell_type": "code",
   "execution_count": 93,
   "metadata": {},
   "outputs": [],
   "source": [
    "def breusch_godfrey_lm(results, nlags=None, store=False):\n",
    "    \"\"\"\n",
    "    Breusch Godfrey Lagrange Multiplier tests for residual autocorrelation\n",
    "    Parameters:\n",
    "    ----------\n",
    "        - results(Result instance): Estimation results for which the residuals are tested for serial correlation\n",
    "        - nlags(int): Number of lags to include in the auxiliary regression. (nlags is highest lag)\n",
    "        - store(bool): If store is true, then an additional class instance that contains intermediate results is returned.\n",
    "    Returns\n",
    "    -------\n",
    "        - lm(float): Lagrange multiplier test statistic\n",
    "        - lmpval(float): p-value for Lagrange multiplier test\n",
    "        - fval(float): fstatistic for F test, alternative version of the same test based on F test for the parameter restriction\n",
    "        - fpval(float): pvalue for F test\n",
    "        - resstore(instance – optional): a class instance that holds intermediate results. Only returned if store=True\n",
    "    Notes\n",
    "    -----\n",
    "    BG adds lags of residual to exog in the design matrix for the auxiliary regression with residuals as endog, see Greene 12.7.1.\n",
    "    References\n",
    "    ----------\n",
    "        - Greene Econometrics, 5th edition\n",
    "        - https://www.statsmodels.org/stable/generated/statsmodels.stats.diagnostic.acorr_breusch_godfrey.html#statsmodels.stats.diagnostic.acorr_breusch_godfrey\n",
    "    \"\"\"\n",
    "\n",
    "    x = np.asarray(results.resids)\n",
    "    exog_old = results.model.exog.original\n",
    "    nobs = x.shape[0]\n",
    "    if nlags is None:\n",
    "        #for adf from Greene referencing Schwert 1989\n",
    "        nlags = np.trunc(12. * np.power(nobs/100., 1/4.))#nobs//4  #TODO: check default, or do AIC/BIC\n",
    "        nlags = int(nlags)\n",
    "\n",
    "    x = np.concatenate((np.zeros(nlags), x))\n",
    "\n",
    "    #xdiff = np.diff(x)\n",
    "    #\n",
    "    xdall = lagmat(x[:,None], nlags, trim='both')\n",
    "    nobs = xdall.shape[0]\n",
    "    xdall = np.c_[np.ones((nobs,1)), xdall]\n",
    "    xshort = x[-nobs:]\n",
    "    exog = np.column_stack((exog_old, xdall))\n",
    "    k_vars = exog.shape[1]\n",
    "\n",
    "    if store: resstore = ResultsStore()\n",
    "\n",
    "    resols = OLS(xshort, exog).fit()\n",
    "    ft = resols.f_test(np.eye(nlags, k_vars, k_vars - nlags))\n",
    "    fval = ft.fvalue\n",
    "    fpval = ft.pvalue\n",
    "    fval = np.squeeze(fval)[()]   #TODO: fix this in ContrastResults\n",
    "    fpval = np.squeeze(fpval)[()]\n",
    "    lm = nobs * resols.rsquared\n",
    "    lmpval = stats.chi2.sf(lm, nlags)\n",
    "    # Note: degrees of freedom for LM test is nvars minus constant = usedlags\n",
    "    #return fval, fpval, lm, lmpval\n",
    "\n",
    "    if store:\n",
    "        resstore.resols = resols\n",
    "        resstore.usedlag = nlags\n",
    "        return lm, lmpval, fval, fpval, resstore\n",
    "    else:\n",
    "        return lm, lmpval, fval, fpval"
   ]
  },
  {
   "cell_type": "code",
   "execution_count": 94,
   "metadata": {},
   "outputs": [
    {
     "name": "stdout",
     "output_type": "stream",
     "text": [
      "Lagrange multiplier statistic:    24302.637078\n",
      "Lagrange multiplier P-value:          0.000000\n",
      "f_statistic for F test:             529.058838\n",
      "P-value for F test:                   0.000000\n",
      "dtype: float64\n"
     ]
    }
   ],
   "source": [
    "breusch_godfrey_test_gmm = breusch_godfrey_lm(ivgmmmodel)\n",
    "print(pd.Series(breusch_godfrey_test_gmm, \n",
    "                index=name))\n"
   ]
  },
  {
   "cell_type": "markdown",
   "metadata": {},
   "source": [
    "### 2.2. Breusch-Pagan test using OLS results\n",
    "- We use the python algorithm for the step"
   ]
  },
  {
   "cell_type": "code",
   "execution_count": 95,
   "metadata": {},
   "outputs": [
    {
     "name": "stdout",
     "output_type": "stream",
     "text": [
      "Lagrange multiplier statistic:    26077.145491\n",
      "Lagrange multiplier P-value:          0.000000\n",
      "f_statistic for F test:             587.275220\n",
      "P-value for F test:                   0.000000\n",
      "dtype: float64\n"
     ]
    }
   ],
   "source": [
    "olsmodel = sm.OLS(panel_df.log_passengers,\n",
    "                  panel_df[['log_passengers_lag1','pass_lag_resids']+controls+dum_period[:-2]]\n",
    "                 ).fit()\n",
    "\n",
    "breusch_godfrey_test_ols = acorr_breusch_godfrey(olsmodel)\n",
    "print(pd.Series(breusch_godfrey_test_ols, \n",
    "                index=name))\n"
   ]
  },
  {
   "cell_type": "markdown",
   "metadata": {},
   "source": [
    "# GMM with `Kernel` cov_type option"
   ]
  },
  {
   "cell_type": "markdown",
   "metadata": {},
   "source": [
    "- This Breusch-Pagan test used on the two results (`GMM` and `OLS`) show that we have autocorrelation.\n",
    "- Hence, we have to run the `GMM`by taking into account of this `autocorrelation` and the `heteroskedastic` that was alredy test with the `White` and `Breusch–Pagan`. \n",
    "- Consequently, the `kernel` `cov_type` option will be used:\n",
    "    - Kernel (HAC)\n",
    "    - Kernel: bartlett"
   ]
  },
  {
   "cell_type": "code",
   "execution_count": 96,
   "metadata": {},
   "outputs": [
    {
     "name": "stdout",
     "output_type": "stream",
     "text": [
      "                          IV-GMM Estimation Summary                           \n",
      "==============================================================================\n",
      "Dep. Variable:         log_passengers   R-squared:                      0.9308\n",
      "Estimator:                     IV-GMM   Adj. R-squared:                 0.9308\n",
      "No. Observations:               84939   F-statistic:                 4.921e+06\n",
      "Date:                Thu, Jan 16 2020   P-value (F-stat)                0.0000\n",
      "Time:                        17:36:22   Distribution:                 chi2(36)\n",
      "Cov. Estimator:                kernel                                         \n",
      "                                                                              \n",
      "                                  Parameter Estimates                                  \n",
      "=======================================================================================\n",
      "                     Parameter  Std. Err.     T-stat    P-value    Lower CI    Upper CI\n",
      "---------------------------------------------------------------------------------------\n",
      "const                   7.3589     1.2615     5.8334     0.0000      4.8864      9.8315\n",
      "log_nsmiles             0.1462     0.0082     17.914     0.0000      0.1302      0.1622\n",
      "log_income_capita       0.1455     0.0741     1.9629     0.0497      0.0002      0.2907\n",
      "log_population          0.0056     0.0077     0.7274     0.4670     -0.0095      0.0207\n",
      "nb_airline              0.0478     0.0012     38.586     0.0000      0.0454      0.0502\n",
      "log_kjf_price          -1.2150     0.0419    -28.997     0.0000     -1.2971     -1.1329\n",
      "dum_dist               -0.1075     0.0123    -8.7743     0.0000     -0.1316     -0.0835\n",
      "dum_20104               0.2445     0.0243     10.067     0.0000      0.1969      0.2922\n",
      "dum_20111               0.3431     0.0174     19.690     0.0000      0.3090      0.3773\n",
      "dum_20112               0.7954     0.0198     40.221     0.0000      0.7566      0.8341\n",
      "dum_20113               0.5731     0.0196     29.244     0.0000      0.5347      0.6115\n",
      "dum_20114               0.5327     0.0138     38.592     0.0000      0.5056      0.5597\n",
      "dum_20121               0.5785     0.0140     41.377     0.0000      0.5511      0.6059\n",
      "dum_20122               0.7406     0.0209     35.404     0.0000      0.6996      0.7816\n",
      "dum_20123               0.5405     0.0196     27.542     0.0000      0.5021      0.5790\n",
      "dum_20124               0.5567     0.0137     40.588     0.0000      0.5298      0.5836\n",
      "dum_20131               0.5419     0.0132     41.040     0.0000      0.5160      0.5678\n",
      "dum_20132               0.6506     0.0161     40.486     0.0000      0.6191      0.6821\n",
      "dum_20133               0.5075     0.0205     24.807     0.0000      0.4674      0.5476\n",
      "dum_20134               0.5179     0.0122     42.412     0.0000      0.4940      0.5419\n",
      "dum_20141               0.4641     0.0105     44.078     0.0000      0.4435      0.4848\n",
      "dum_20142               0.7024     0.0215     32.678     0.0000      0.6603      0.7445\n",
      "dum_20143               0.5227     0.0279     18.734     0.0000      0.4680      0.5774\n",
      "dum_20144               0.3048     0.0089     34.330     0.0000      0.2874      0.3222\n",
      "dum_20151              -0.1572     0.0111    -14.104     0.0000     -0.1791     -0.1354\n",
      "dum_20152               0.1621     0.0124     13.049     0.0000      0.1378      0.1865\n",
      "dum_20153              -0.1173     0.0117    -10.043     0.0000     -0.1402     -0.0944\n",
      "dum_20154              -0.3218     0.0129    -24.885     0.0000     -0.3471     -0.2965\n",
      "dum_20161              -0.7467     0.0340    -21.951     0.0000     -0.8134     -0.6801\n",
      "dum_20162              -0.2807     0.0116    -24.256     0.0000     -0.3034     -0.2580\n",
      "dum_20163              -0.3669     0.0097    -37.665     0.0000     -0.3860     -0.3478\n",
      "dum_20164              -0.2764     0.0123    -22.460     0.0000     -0.3006     -0.2523\n",
      "dum_20171              -0.2442     0.0108    -22.656     0.0000     -0.2653     -0.2230\n",
      "dum_20172              -0.1053     0.0110    -9.5866     0.0000     -0.1268     -0.0838\n",
      "dum_20173              -0.2087     0.0148    -14.083     0.0000     -0.2377     -0.1796\n",
      "log_fare               -0.5807     0.0809    -7.1764     0.0000     -0.7393     -0.4221\n",
      "log_passengers_lag1     0.8719     0.0036     244.04     0.0000      0.8649      0.8789\n",
      "=======================================================================================\n",
      "\n",
      "Endogenous: log_fare, log_passengers_lag1\n",
      "Instruments: log_nsmiles_dif1, log_income_capita_dif1, log_population_dif1, nb_airline_dif1, log_fare_dif1, log_fare_dif2, log_passengers_dif2, log_nsmiles_dif2, log_income_capita_dif2, log_population_dif2, nb_airline_dif2\n",
      "GMM Covariance\n",
      "Debiased: False\n",
      "Kernel (HAC)\n",
      "Kernel: bartlett\n",
      "Bandwidth: 84937\n"
     ]
    }
   ],
   "source": [
    "controls = ['const','log_nsmiles','log_income_capita','log_population','nb_airline',\n",
    "            'log_kjf_price','dum_dist']\n",
    "\n",
    "instruements = ['log_nsmiles_dif1','log_income_capita_dif1','log_population_dif1','nb_airline_dif1',\n",
    "                'log_fare_dif1','log_fare_dif2','log_passengers_dif2',\n",
    "                'log_nsmiles_dif2','log_income_capita_dif2','log_population_dif2','nb_airline_dif2']\n",
    "\n",
    "ivgmmmodel = IVGMM(panel_df['log_passengers'],\n",
    "                   panel_df[controls + dum_period[:-2]],\n",
    "                   panel_df[['log_fare','log_passengers_lag1']],\n",
    "                   panel_df[instruements]).fit(cov_type='kernel')\n",
    "\n",
    "print(ivgmmmodel.summary)"
   ]
  },
  {
   "cell_type": "code",
   "execution_count": null,
   "metadata": {},
   "outputs": [],
   "source": []
  },
  {
   "cell_type": "code",
   "execution_count": 97,
   "metadata": {},
   "outputs": [
    {
     "data": {
      "image/png": "[encoded data removed]",
      "text/plain": [
       "<Figure size 864x576 with 1 Axes>"
      ]
     },
     "metadata": {
      "needs_background": "light"
     },
     "output_type": "display_data"
    }
   ],
   "source": [
    "fig, ax = plt.subplots(figsize=(12,8))\n",
    "\n",
    "a = plt.axes(aspect='equal')\n",
    "plt.scatter(panel_df.log_passengers.values, ivgmmmodel.predict().values, alpha=.01, c='b')\n",
    "\n",
    "plt.title(\"GMM: Predicted vs True value\", fontsize=27)\n",
    "plt.xlabel('True Values [log_passengers]', fontsize=20)\n",
    "plt.ylabel('GMM Predictions [log_passengers]', fontsize=20)\n",
    "\n",
    "lims = [panel_df.log_passengers.min(), panel_df.log_passengers.max()]\n",
    "plt.xlim(lims)\n",
    "plt.ylim(lims)\n",
    "_ = plt.plot(lims, lims, c='r')\n"
   ]
  },
  {
   "cell_type": "code",
   "execution_count": 98,
   "metadata": {},
   "outputs": [
    {
     "data": {
      "text/plain": [
       "<function matplotlib.pyplot.show(*args, **kw)>"
      ]
     },
     "execution_count": 98,
     "metadata": {},
     "output_type": "execute_result"
    },
    {
     "data": {
      "image/png": "[encoded data removed]",
      "text/plain": [
       "<Figure size 864x576 with 1 Axes>"
      ]
     },
     "metadata": {
      "needs_background": "light"
     },
     "output_type": "display_data"
    }
   ],
   "source": [
    "fig, ax = plt.subplots(figsize=(12, 8))\n",
    "\n",
    "sns.distplot(ivgmmmodel.resids, bins=200, hist=True, kde='gaussian', color='b', ax=ax, norm_hist=True)\n",
    "sns.distplot(ivgmmmodel.resids, bins=200, hist=False, kde='kernel', color='r', ax=ax, norm_hist=True)\n",
    "ax.set_title(\"GMM Residuals Plot\", fontsize=27)\n",
    "ax.set_xlim(-1.5,1.5)\n",
    "ax.set_xlabel('GMM Residuals', fontsize=20)\n",
    "\n",
    "plt.show"
   ]
  },
  {
   "cell_type": "code",
   "execution_count": null,
   "metadata": {},
   "outputs": [],
   "source": []
  },
  {
   "cell_type": "markdown",
   "metadata": {},
   "source": [
    "### 3. Exogeneity Testing using GMM model\n",
    "The J statistic tests whether the moment conditions are sufficiently close to zero to indicate that the model is not overidentified.   \n",
    "The statistic is defined as  $\\bar{g}'W^{-1}\\bar{g} \\sim \\chi^2_q$"
   ]
  },
  {
   "cell_type": "code",
   "execution_count": 99,
   "metadata": {},
   "outputs": [
    {
     "data": {
      "text/plain": [
       "H0: Expected moment conditions are equal to 0\n",
       "Statistic: 2358.0999\n",
       "P-value: 0.0000\n",
       "Distributed: chi2(9)\n",
       "WaldTestStatistic, id: 0x1c9900f978"
      ]
     },
     "execution_count": 99,
     "metadata": {},
     "output_type": "execute_result"
    }
   ],
   "source": [
    "ivgmmmodel.j_stat"
   ]
  },
  {
   "cell_type": "markdown",
   "metadata": {},
   "source": [
    "### 4. Exogeneity test using the augmented regression approach\n",
    "Estimating the variances of u(i), assuming that sigma2(ui)=exp(a0+a1*log_fare+a2*log_nsmiles)\n",
    "- Regress using OLS the `log square of the IV residuals`\n",
    "- Compute `inverse of sigma` using the the square root of the exponentiel of the fitted values"
   ]
  },
  {
   "cell_type": "markdown",
   "metadata": {},
   "source": [
    "### 4.1. Use the `IV2SL` `residuals` as reponse variable in the `OLS` model and compute the `inverse of the sigma`"
   ]
  },
  {
   "cell_type": "code",
   "execution_count": 100,
   "metadata": {},
   "outputs": [],
   "source": [
    "controls = ['const','log_nsmiles','log_income_capita','log_population','nb_airline',\n",
    "            'log_kjf_price','dum_dist']\n",
    "\n",
    "instruements = ['log_nsmiles_dif1','log_income_capita_dif1','log_population_dif1','nb_airline_dif1',\n",
    "                'log_fare_dif1','log_fare_dif2','log_passengers_dif2',\n",
    "                'log_nsmiles_dif2','log_income_capita_dif2','log_population_dif2','nb_airline_dif2']\n",
    "\n",
    "iv2LSmodel = IV2SLS(panel_df['log_passengers'], \n",
    "                    panel_df[controls+dum_period[:-2]], \n",
    "                    panel_df[['log_fare','log_passengers_lag1']], panel_df[instruements]).fit()\n"
   ]
  },
  {
   "cell_type": "code",
   "execution_count": 101,
   "metadata": {},
   "outputs": [],
   "source": [
    "panel_df['log_iv_residus2'] = np.log(iv2LSmodel.resids**2)\n",
    "\n",
    "r2_aug = PanelOLS(panel_df.log_iv_residus2, panel_df[['log_fare','log_passengers_lag1']]).fit(cov_type='robust')\n",
    "\n",
    "# computes 1/sigma to be used later as weight for correcting for heteroskedasticity\n",
    "sigma_inverse = 1/(np.exp(r2_aug.predict())**.5) #  np.sqrt()"
   ]
  },
  {
   "cell_type": "markdown",
   "metadata": {},
   "source": [
    "### 4.2. Feasible Generalized Least Squares (GLS)\n",
    "GLS on the augmented regression  = Exogeneity test for \"log_fare\" allowing for heteroskedasticity"
   ]
  },
  {
   "cell_type": "code",
   "execution_count": 102,
   "metadata": {},
   "outputs": [
    {
     "name": "stdout",
     "output_type": "stream",
     "text": [
      "                            GLS Regression Results                            \n",
      "==============================================================================\n",
      "Dep. Variable:         log_passengers   R-squared:                       0.941\n",
      "Model:                            GLS   Adj. R-squared:                  0.941\n",
      "Method:                 Least Squares   F-statistic:                 3.732e+04\n",
      "Date:                Thu, 16 Jan 2020   Prob (F-statistic):               0.00\n",
      "Time:                        17:36:26   Log-Likelihood:                -11860.\n",
      "No. Observations:               84939   AIC:                         2.379e+04\n",
      "Df Residuals:                   84902   BIC:                         2.414e+04\n",
      "Df Model:                          36                                         \n",
      "Covariance Type:            nonrobust                                         \n",
      "=======================================================================================\n",
      "                          coef    std err          t      P>|t|      [0.025      0.975]\n",
      "---------------------------------------------------------------------------------------\n",
      "const                   6.1190      0.419     14.602      0.000       5.298       6.940\n",
      "log_nsmiles             0.0507      0.002     27.077      0.000       0.047       0.054\n",
      "log_income_capita       0.0470      0.011      4.281      0.000       0.025       0.068\n",
      "log_population          0.0065      0.002      4.123      0.000       0.003       0.010\n",
      "nb_airline              0.0247      0.001     40.989      0.000       0.024       0.026\n",
      "log_kjf_price          -1.1877      0.077    -15.427      0.000      -1.339      -1.037\n",
      "dum_dist               -0.0529      0.010     -5.143      0.000      -0.073      -0.033\n",
      "log_fare               -0.1114      0.003    -32.551      0.000      -0.118      -0.105\n",
      "log_passengers_lag1     0.9350      0.001    809.629      0.000       0.933       0.937\n",
      "dum_20104               0.2906      0.019     15.557      0.000       0.254       0.327\n",
      "dum_20111               0.3501      0.029     11.954      0.000       0.293       0.408\n",
      "dum_20112               0.7731      0.040     19.482      0.000       0.695       0.851\n",
      "dum_20113               0.5728      0.037     15.456      0.000       0.500       0.645\n",
      "dum_20114               0.5232      0.036     14.560      0.000       0.453       0.594\n",
      "dum_20121               0.5639      0.040     14.094      0.000       0.485       0.642\n",
      "dum_20122               0.7015      0.036     19.578      0.000       0.631       0.772\n",
      "dum_20123               0.5273      0.035     14.924      0.000       0.458       0.597\n",
      "dum_20124               0.5355      0.035     15.101      0.000       0.466       0.605\n",
      "dum_20131               0.5195      0.038     13.819      0.000       0.446       0.593\n",
      "dum_20132               0.6233      0.030     21.126      0.000       0.565       0.681\n",
      "dum_20133               0.4609      0.032     14.431      0.000       0.398       0.524\n",
      "dum_20134               0.5015      0.031     16.156      0.000       0.441       0.562\n",
      "dum_20141               0.4533      0.033     13.814      0.000       0.389       0.518\n",
      "dum_20142               0.6579      0.032     20.477      0.000       0.595       0.721\n",
      "dum_20143               0.4808      0.031     15.297      0.000       0.419       0.542\n",
      "dum_20144               0.2745      0.019     14.403      0.000       0.237       0.312\n",
      "dum_20151              -0.1723      0.010    -17.652      0.000      -0.191      -0.153\n",
      "dum_20152               0.1258      0.007     18.806      0.000       0.113       0.139\n",
      "dum_20153              -0.1363      0.013    -10.772      0.000      -0.161      -0.111\n",
      "dum_20154              -0.3249      0.023    -14.024      0.000      -0.370      -0.280\n",
      "dum_20161              -0.7419      0.044    -16.694      0.000      -0.829      -0.655\n",
      "dum_20162              -0.3019      0.031     -9.813      0.000      -0.362      -0.242\n",
      "dum_20163              -0.3608      0.025    -14.419      0.000      -0.410      -0.312\n",
      "dum_20164              -0.2741      0.020    -13.524      0.000      -0.314      -0.234\n",
      "dum_20171              -0.2459      0.014    -17.162      0.000      -0.274      -0.218\n",
      "dum_20172              -0.1240      0.019     -6.495      0.000      -0.161      -0.087\n",
      "dum_20173              -0.2074      0.015    -14.003      0.000      -0.236      -0.178\n",
      "==============================================================================\n",
      "Omnibus:                    16947.182   Durbin-Watson:                   2.556\n",
      "Prob(Omnibus):                  0.000   Jarque-Bera (JB):           282466.567\n",
      "Skew:                          -0.502   Prob(JB):                         0.00\n",
      "Kurtosis:                      11.877   Cond. No.                     1.06e+04\n",
      "==============================================================================\n",
      "\n",
      "Warnings:\n",
      "[1] Standard Errors assume that the covariance matrix of the errors is correctly specified.\n",
      "[2] The condition number is large, 1.06e+04. This might indicate that there are\n",
      "strong multicollinearity or other numerical problems.\n"
     ]
    }
   ],
   "source": [
    "glsmodel = sm.GLS(panel_df['log_passengers'], panel_df[controls+['log_fare','log_passengers_lag1']+dum_period[:-2]], sigma=sigma_inverse).fit()\n",
    "print(glsmodel.summary())"
   ]
  },
  {
   "cell_type": "code",
   "execution_count": 103,
   "metadata": {},
   "outputs": [
    {
     "data": {
      "text/plain": [
       "const                  6.118969\n",
       "log_nsmiles            0.050671\n",
       "log_income_capita      0.046950\n",
       "log_population         0.006499\n",
       "nb_airline             0.024737\n",
       "log_kjf_price         -1.187676\n",
       "dum_dist              -0.052914\n",
       "log_fare              -0.111421\n",
       "log_passengers_lag1    0.935017\n",
       "dtype: float64"
      ]
     },
     "execution_count": 103,
     "metadata": {},
     "output_type": "execute_result"
    }
   ],
   "source": [
    "glsmodel.params[:9]"
   ]
  },
  {
   "cell_type": "code",
   "execution_count": 104,
   "metadata": {},
   "outputs": [
    {
     "data": {
      "text/plain": [
       "const                  0.419058\n",
       "log_nsmiles            0.001871\n",
       "log_income_capita      0.010968\n",
       "log_population         0.001576\n",
       "nb_airline             0.000604\n",
       "log_kjf_price          0.076989\n",
       "dum_dist               0.010289\n",
       "log_fare               0.003423\n",
       "log_passengers_lag1    0.001155\n",
       "dtype: float64"
      ]
     },
     "execution_count": 104,
     "metadata": {},
     "output_type": "execute_result"
    }
   ],
   "source": [
    "glsmodel.bse[:9]"
   ]
  },
  {
   "cell_type": "markdown",
   "metadata": {},
   "source": []
  },
  {
   "cell_type": "markdown",
   "metadata": {},
   "source": [
    "### 4.3. GLSA model\n",
    "We can use the GLSAR model with one lag, to get to a similar result:"
   ]
  },
  {
   "cell_type": "code",
   "execution_count": 105,
   "metadata": {},
   "outputs": [
    {
     "name": "stdout",
     "output_type": "stream",
     "text": [
      "                           GLSAR Regression Results                           \n",
      "==============================================================================\n",
      "Dep. Variable:         log_passengers   R-squared:                       0.942\n",
      "Model:                          GLSAR   Adj. R-squared:                  0.942\n",
      "Method:                 Least Squares   F-statistic:                 3.816e+04\n",
      "Date:                Thu, 16 Jan 2020   Prob (F-statistic):               0.00\n",
      "Time:                        17:36:26   Log-Likelihood:                -10797.\n",
      "No. Observations:               84938   AIC:                         2.167e+04\n",
      "Df Residuals:                   84901   BIC:                         2.201e+04\n",
      "Df Model:                          36                                         \n",
      "Covariance Type:            nonrobust                                         \n",
      "=======================================================================================\n",
      "                          coef    std err          t      P>|t|      [0.025      0.975]\n",
      "---------------------------------------------------------------------------------------\n",
      "const                   6.2079      0.415     14.976      0.000       5.395       7.020\n",
      "log_nsmiles             0.0532      0.002     28.643      0.000       0.050       0.057\n",
      "log_income_capita       0.0458      0.011      4.223      0.000       0.025       0.067\n",
      "log_population          0.0070      0.002      4.507      0.000       0.004       0.010\n",
      "nb_airline              0.0249      0.001     41.578      0.000       0.024       0.026\n",
      "log_kjf_price          -1.1938      0.076    -15.675      0.000      -1.343      -1.044\n",
      "dum_dist               -0.0525      0.011     -4.971      0.000      -0.073      -0.032\n",
      "log_fare               -0.1244      0.004    -34.377      0.000      -0.131      -0.117\n",
      "log_passengers_lag1     0.9345      0.001    809.954      0.000       0.932       0.937\n",
      "dum_20104               0.2894      0.019     15.630      0.000       0.253       0.326\n",
      "dum_20111               0.3511      0.029     12.115      0.000       0.294       0.408\n",
      "dum_20112               0.7797      0.039     19.866      0.000       0.703       0.857\n",
      "dum_20113               0.5803      0.037     15.831      0.000       0.508       0.652\n",
      "dum_20114               0.5240      0.036     14.744      0.000       0.454       0.594\n",
      "dum_20121               0.5659      0.040     14.302      0.000       0.488       0.643\n",
      "dum_20122               0.7080      0.035     19.982      0.000       0.639       0.777\n",
      "dum_20123               0.5370      0.035     15.366      0.000       0.468       0.605\n",
      "dum_20124               0.5390      0.035     15.367      0.000       0.470       0.608\n",
      "dum_20131               0.5227      0.037     14.060      0.000       0.450       0.596\n",
      "dum_20132               0.6268      0.029     21.484      0.000       0.570       0.684\n",
      "dum_20133               0.4696      0.032     14.868      0.000       0.408       0.531\n",
      "dum_20134               0.5022      0.031     16.359      0.000       0.442       0.562\n",
      "dum_20141               0.4563      0.032     14.064      0.000       0.393       0.520\n",
      "dum_20142               0.6656      0.032     20.953      0.000       0.603       0.728\n",
      "dum_20143               0.4915      0.031     15.817      0.000       0.431       0.552\n",
      "dum_20144               0.2757      0.019     14.635      0.000       0.239       0.313\n",
      "dum_20151              -0.1714      0.010    -17.779      0.000      -0.190      -0.153\n",
      "dum_20152               0.1325      0.007     20.077      0.000       0.120       0.145\n",
      "dum_20153              -0.1295      0.013    -10.347      0.000      -0.154      -0.105\n",
      "dum_20154              -0.3270      0.023    -14.262      0.000      -0.372      -0.282\n",
      "dum_20161              -0.7460      0.044    -16.964      0.000      -0.832      -0.660\n",
      "dum_20162              -0.2954      0.030     -9.702      0.000      -0.355      -0.236\n",
      "dum_20163              -0.3548      0.025    -14.326      0.000      -0.403      -0.306\n",
      "dum_20164              -0.2760      0.020    -13.761      0.000      -0.315      -0.237\n",
      "dum_20171              -0.2459      0.014    -17.347      0.000      -0.274      -0.218\n",
      "dum_20172              -0.1216      0.019     -6.435      0.000      -0.159      -0.085\n",
      "dum_20173              -0.1963      0.015    -13.378      0.000      -0.225      -0.168\n",
      "==============================================================================\n",
      "Omnibus:                    16449.105   Durbin-Watson:                   2.573\n",
      "Prob(Omnibus):                  0.000   Jarque-Bera (JB):           248359.057\n",
      "Skew:                          -0.505   Prob(JB):                         0.00\n",
      "Kurtosis:                      11.316   Cond. No.                     1.06e+04\n",
      "==============================================================================\n",
      "\n",
      "Warnings:\n",
      "[1] Standard Errors assume that the covariance matrix of the errors is correctly specified.\n",
      "[2] The condition number is large, 1.06e+04. This might indicate that there are\n",
      "strong multicollinearity or other numerical problems.\n"
     ]
    }
   ],
   "source": [
    "glsarmodel = sm.GLSAR(panel_df['log_passengers'], panel_df[controls+['log_fare','log_passengers_lag1']+dum_period[:-2]], 1)\n",
    "glsarresults = glsarmodel.iterative_fit(1)\n",
    "print(glsarresults.summary())"
   ]
  },
  {
   "cell_type": "code",
   "execution_count": 106,
   "metadata": {},
   "outputs": [
    {
     "data": {
      "text/plain": [
       "const                  6.207915\n",
       "log_nsmiles            0.053186\n",
       "log_income_capita      0.045766\n",
       "log_population         0.007043\n",
       "nb_airline             0.024898\n",
       "log_kjf_price         -1.193759\n",
       "dum_dist              -0.052464\n",
       "log_fare              -0.124391\n",
       "log_passengers_lag1    0.934516\n",
       "dtype: float64"
      ]
     },
     "execution_count": 106,
     "metadata": {},
     "output_type": "execute_result"
    }
   ],
   "source": [
    "glsarresults.params[:9]"
   ]
  },
  {
   "cell_type": "code",
   "execution_count": 107,
   "metadata": {},
   "outputs": [
    {
     "data": {
      "text/plain": [
       "const                  0.414537\n",
       "log_nsmiles            0.001857\n",
       "log_income_capita      0.010837\n",
       "log_population         0.001563\n",
       "nb_airline             0.000599\n",
       "log_kjf_price          0.076159\n",
       "dum_dist               0.010554\n",
       "log_fare               0.003618\n",
       "log_passengers_lag1    0.001154\n",
       "dtype: float64"
      ]
     },
     "execution_count": 107,
     "metadata": {},
     "output_type": "execute_result"
    }
   ],
   "source": [
    "glsarresults.bse[:9]"
   ]
  },
  {
   "cell_type": "code",
   "execution_count": null,
   "metadata": {},
   "outputs": [],
   "source": []
  },
  {
   "cell_type": "code",
   "execution_count": 108,
   "metadata": {},
   "outputs": [
    {
     "data": {
      "image/png": "[encoded data removed]",
      "text/plain": [
       "<Figure size 864x576 with 1 Axes>"
      ]
     },
     "metadata": {
      "needs_background": "light"
     },
     "output_type": "display_data"
    }
   ],
   "source": [
    "fig, ax = plt.subplots(figsize=(12,8))\n",
    "\n",
    "ax = plt.axes(aspect='equal')\n",
    "ax.scatter(panel_df.log_passengers.values, glsmodel.predict(), alpha=.01, c='b')\n",
    "plt.title(\"GLS: Predicted vs True value\", fontsize=27)\n",
    "plt.xlabel('True Values [log_passengers]', fontsize=20)\n",
    "plt.ylabel('GLS Predictions [log_passengers]', fontsize=20)\n",
    "\n",
    "lims = [panel_df.log_passengers.min(), panel_df.log_passengers.max()]\n",
    "ax.set_xlim(lims)\n",
    "ax.set_ylim(lims)\n",
    "_ = ax.plot(lims, lims, c='r')\n"
   ]
  },
  {
   "cell_type": "code",
   "execution_count": 109,
   "metadata": {},
   "outputs": [
    {
     "data": {
      "text/plain": [
       "<function matplotlib.pyplot.show(*args, **kw)>"
      ]
     },
     "execution_count": 109,
     "metadata": {},
     "output_type": "execute_result"
    },
    {
     "data": {
      "image/png": "[encoded data removed]",
      "text/plain": [
       "<Figure size 864x576 with 1 Axes>"
      ]
     },
     "metadata": {
      "needs_background": "light"
     },
     "output_type": "display_data"
    }
   ],
   "source": [
    "fig, ax = plt.subplots(figsize=(12, 8))\n",
    "\n",
    "sns.distplot(glsmodel.resid, bins=200, hist=True, kde='gaussian', color='b', ax=ax, norm_hist=True)\n",
    "sns.distplot(glsmodel.resid, bins=200, hist=False, kde='kernel', color='r', ax=ax, norm_hist=True)\n",
    "ax.set_title(\"GLS Residuals Plot\", fontsize=27)\n",
    "ax.set_xlim(-1.5,1.5)\n",
    "ax.set_xlabel('GLS Residuals', fontsize=20)\n",
    "\n",
    "plt.show"
   ]
  },
  {
   "cell_type": "code",
   "execution_count": null,
   "metadata": {},
   "outputs": [],
   "source": []
  },
  {
   "cell_type": "code",
   "execution_count": null,
   "metadata": {},
   "outputs": [],
   "source": []
  },
  {
   "cell_type": "code",
   "execution_count": null,
   "metadata": {},
   "outputs": [],
   "source": []
  },
  {
   "cell_type": "markdown",
   "metadata": {},
   "source": [
    "> GLS is the model that takes autocorrelated residuals into account, [source](https://stats.stackexchange.com/questions/254505/autocorrelation-and-gls)"
   ]
  },
  {
   "cell_type": "markdown",
   "metadata": {},
   "source": [
    "## References  \n",
    "StatsModels – Regression Diagnostics and Specification: https://www.statsmodels.org/stable/diagnostic.html  \n",
    "Linearmodel 4.14 – Examples: https://bashtage.github.io/linearmodels/devel/panel/examples/examples.html  \n",
    "Linearmodel 4.5 – Examples: https://bashtage.github.io/linearmodels/doc/panel/examples/examples.html?highlight=white  \n",
    "Linearmodel 4.5 – Linear Instrumental-Variables Regression:https://bashtage.github.io/linearmodels/doc/iv/examples/advanced-examples.html  \n",
    "PDF – Heteroskedasticity and Autocorrelation: http://www.homepages.ucl.ac.uk/~uctpsc0/Teaching/GR03/Heter&Autocorr.pdf  \n",
    "PDF – (Orleans) Linear Panel Models and Heterogeneity: https://www.univ-orleans.fr/deg/masters/ESA/CH/Geneve_Chapitre1.pdf  \n",
    "PDF - Panel Data Models with Heterogeneity and Endogeneity https://www.ifs.org.uk/docs/wooldridge%20session%204.pdf  \n",
    "PDF – Instrumental Variables Estimation: http://www3.grips.ac.jp/~yamanota/Lecture%20Note%208%20to%2010%202SLS%20&%20others.pdf  \n",
    "Generalized Least Squares: https://www.statsmodels.org/dev/examples/notebooks/generated/gls.html  \n",
    "Endogenous Variables and IV Regression in Python: https://bfdykstra.github.io/2016/11/17/Endogeneity-and-Instrumental-Variable-Regression.html?fbclid=IwAR2yWXJKHUzcvqhhdX_yo4l5bn0uEa9CK09T5j9XmhCQxPKC_IIXJPdm45s  \n",
    "\n",
    "PDF – P.3 Economics 241B Estimation with Instruments: http://econ.ucsb.edu/~doug/241b/Lectures/16%20Estimation%20with%20Instruments.pdf  \n",
    "PDF: HOW TO TEST ENDOGENEITY OR EXOGENEITY: AN E-LEARNING HANDS ON SAS: http://www.kiran.nic.in/pdf/Social_Science/e-learning/How_to_Test_Endogeneity_or_Exogeneity_using_SAS-1.pdf"
   ]
  },
  {
   "cell_type": "code",
   "execution_count": null,
   "metadata": {},
   "outputs": [],
   "source": []
  },
  {
   "cell_type": "code",
   "execution_count": null,
   "metadata": {},
   "outputs": [],
   "source": []
  }
 ],
 "metadata": {
  "kernelspec": {
   "display_name": "Python 3",
   "language": "python",
   "name": "python3"
  },
  "language_info": {
   "codemirror_mode": {
    "name": "ipython",
    "version": 3
   },
   "file_extension": ".py",
   "mimetype": "text/x-python",
   "name": "python",
   "nbconvert_exporter": "python",
   "pygments_lexer": "ipython3",
   "version": "3.7.3"
  }
 },
 "nbformat": 4,
 "nbformat_minor": 4
}
